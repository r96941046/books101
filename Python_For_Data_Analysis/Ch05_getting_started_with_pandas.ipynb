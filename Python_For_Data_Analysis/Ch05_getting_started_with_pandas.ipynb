{
 "cells": [
  {
   "cell_type": "code",
   "execution_count": 1,
   "metadata": {
    "collapsed": true
   },
   "outputs": [],
   "source": [
    "from pandas import Series, DataFrame\n",
    "import pandas as pd"
   ]
  },
  {
   "cell_type": "code",
   "execution_count": 3,
   "metadata": {
    "collapsed": false
   },
   "outputs": [
    {
     "data": {
      "text/plain": [
       "0    4\n",
       "1    7\n",
       "2   -5\n",
       "3    3\n",
       "dtype: int64"
      ]
     },
     "execution_count": 3,
     "metadata": {},
     "output_type": "execute_result"
    }
   ],
   "source": [
    "obj = Series([4, 7, -5, 3])  # auto-generate indexes\n",
    "obj"
   ]
  },
  {
   "cell_type": "code",
   "execution_count": 7,
   "metadata": {
    "collapsed": false
   },
   "outputs": [
    {
     "data": {
      "text/plain": [
       "(array([ 4,  7, -5,  3]), numpy.ndarray)"
      ]
     },
     "execution_count": 7,
     "metadata": {},
     "output_type": "execute_result"
    }
   ],
   "source": [
    "obj.values, type(obj.values)  # values refer to nparray"
   ]
  },
  {
   "cell_type": "code",
   "execution_count": 10,
   "metadata": {
    "collapsed": false
   },
   "outputs": [
    {
     "data": {
      "text/plain": [
       "(Int64Index([0, 1, 2, 3], dtype='int64'), pandas.core.index.Int64Index)"
      ]
     },
     "execution_count": 10,
     "metadata": {},
     "output_type": "execute_result"
    }
   ],
   "source": [
    "obj.index, type(obj.index)  # indexes not refer to nparray"
   ]
  },
  {
   "cell_type": "code",
   "execution_count": 12,
   "metadata": {
    "collapsed": false
   },
   "outputs": [
    {
     "data": {
      "text/plain": [
       "d    4\n",
       "b    7\n",
       "a   -5\n",
       "c    3\n",
       "dtype: int64"
      ]
     },
     "execution_count": 12,
     "metadata": {},
     "output_type": "execute_result"
    }
   ],
   "source": [
    "obj2 = Series([4, 7, -5, 3], index=['d', 'b', 'a', 'c'])  # custom indexes\n",
    "obj2"
   ]
  },
  {
   "cell_type": "code",
   "execution_count": 13,
   "metadata": {
    "collapsed": false
   },
   "outputs": [
    {
     "data": {
      "text/plain": [
       "Index(['d', 'b', 'a', 'c'], dtype='object')"
      ]
     },
     "execution_count": 13,
     "metadata": {},
     "output_type": "execute_result"
    }
   ],
   "source": [
    "obj2.index"
   ]
  },
  {
   "cell_type": "code",
   "execution_count": 14,
   "metadata": {
    "collapsed": false
   },
   "outputs": [
    {
     "data": {
      "text/plain": [
       "7"
      ]
     },
     "execution_count": 14,
     "metadata": {},
     "output_type": "execute_result"
    }
   ],
   "source": [
    "obj2['b']  # indexing with indexes"
   ]
  },
  {
   "cell_type": "code",
   "execution_count": 15,
   "metadata": {
    "collapsed": false
   },
   "outputs": [
    {
     "data": {
      "text/plain": [
       "d    6\n",
       "b    7\n",
       "a   -5\n",
       "c    3\n",
       "dtype: int64"
      ]
     },
     "execution_count": 15,
     "metadata": {},
     "output_type": "execute_result"
    }
   ],
   "source": [
    "obj2['d'] = 6\n",
    "obj2"
   ]
  },
  {
   "cell_type": "code",
   "execution_count": 16,
   "metadata": {
    "collapsed": false
   },
   "outputs": [
    {
     "data": {
      "text/plain": [
       "c    3\n",
       "a   -5\n",
       "b    7\n",
       "dtype: int64"
      ]
     },
     "execution_count": 16,
     "metadata": {},
     "output_type": "execute_result"
    }
   ],
   "source": [
    "obj2[['c', 'a', 'b']]  # array of indexes"
   ]
  },
  {
   "cell_type": "code",
   "execution_count": 17,
   "metadata": {
    "collapsed": false
   },
   "outputs": [
    {
     "data": {
      "text/plain": [
       "d     True\n",
       "b     True\n",
       "a    False\n",
       "c     True\n",
       "dtype: bool"
      ]
     },
     "execution_count": 17,
     "metadata": {},
     "output_type": "execute_result"
    }
   ],
   "source": [
    "obj2 > 0"
   ]
  },
  {
   "cell_type": "code",
   "execution_count": 18,
   "metadata": {
    "collapsed": false
   },
   "outputs": [
    {
     "data": {
      "text/plain": [
       "d    6\n",
       "b    7\n",
       "c    3\n",
       "dtype: int64"
      ]
     },
     "execution_count": 18,
     "metadata": {},
     "output_type": "execute_result"
    }
   ],
   "source": [
    "obj2[obj2 > 0]"
   ]
  },
  {
   "cell_type": "code",
   "execution_count": 19,
   "metadata": {
    "collapsed": false
   },
   "outputs": [
    {
     "data": {
      "text/plain": [
       "d    12\n",
       "b    14\n",
       "a   -10\n",
       "c     6\n",
       "dtype: int64"
      ]
     },
     "execution_count": 19,
     "metadata": {},
     "output_type": "execute_result"
    }
   ],
   "source": [
    "obj2 * 2  # index-preserving"
   ]
  },
  {
   "cell_type": "code",
   "execution_count": 21,
   "metadata": {
    "collapsed": false
   },
   "outputs": [
    {
     "data": {
      "text/plain": [
       "d     403.428793\n",
       "b    1096.633158\n",
       "a       0.006738\n",
       "c      20.085537\n",
       "dtype: float64"
      ]
     },
     "execution_count": 21,
     "metadata": {},
     "output_type": "execute_result"
    }
   ],
   "source": [
    "import numpy as np\n",
    "np.exp(obj2)  # index-preserving"
   ]
  },
  {
   "cell_type": "code",
   "execution_count": 22,
   "metadata": {
    "collapsed": false
   },
   "outputs": [
    {
     "data": {
      "text/plain": [
       "True"
      ]
     },
     "execution_count": 22,
     "metadata": {},
     "output_type": "execute_result"
    }
   ],
   "source": [
    "# Series can be thought of as fixed-length ordereddict\n",
    "'b' in obj2  # key-like"
   ]
  },
  {
   "cell_type": "code",
   "execution_count": 23,
   "metadata": {
    "collapsed": false
   },
   "outputs": [
    {
     "data": {
      "text/plain": [
       "False"
      ]
     },
     "execution_count": 23,
     "metadata": {},
     "output_type": "execute_result"
    }
   ],
   "source": [
    "'f' in obj2"
   ]
  },
  {
   "cell_type": "code",
   "execution_count": 24,
   "metadata": {
    "collapsed": false
   },
   "outputs": [
    {
     "data": {
      "text/plain": [
       "ohio      35000\n",
       "oregon    16000\n",
       "texas     71000\n",
       "utah       5000\n",
       "dtype: int64"
      ]
     },
     "execution_count": 24,
     "metadata": {},
     "output_type": "execute_result"
    }
   ],
   "source": [
    "sdata = {\n",
    "    'ohio': 35000,\n",
    "    'oregon': 16000, \n",
    "    'texas': 71000,\n",
    "    'utah': 5000\n",
    "}\n",
    "obj3 = Series(sdata)  # series from python dict, keys in sorted order\n",
    "obj3"
   ]
  },
  {
   "cell_type": "code",
   "execution_count": 25,
   "metadata": {
    "collapsed": false
   },
   "outputs": [
    {
     "data": {
      "text/plain": [
       "california      NaN\n",
       "ohio          35000\n",
       "oregon        16000\n",
       "texas         71000\n",
       "dtype: float64"
      ]
     },
     "execution_count": 25,
     "metadata": {},
     "output_type": "execute_result"
    }
   ],
   "source": [
    "states = ['california', 'ohio', 'oregon', 'texas']\n",
    "obj4 = Series(sdata, index=states)  # auto index aligning\n",
    "obj4"
   ]
  },
  {
   "cell_type": "code",
   "execution_count": 26,
   "metadata": {
    "collapsed": false
   },
   "outputs": [
    {
     "data": {
      "text/plain": [
       "california     True\n",
       "ohio          False\n",
       "oregon        False\n",
       "texas         False\n",
       "dtype: bool"
      ]
     },
     "execution_count": 26,
     "metadata": {},
     "output_type": "execute_result"
    }
   ],
   "source": [
    "pd.isnull(obj4)"
   ]
  },
  {
   "cell_type": "code",
   "execution_count": 27,
   "metadata": {
    "collapsed": false
   },
   "outputs": [
    {
     "data": {
      "text/plain": [
       "california    False\n",
       "ohio           True\n",
       "oregon         True\n",
       "texas          True\n",
       "dtype: bool"
      ]
     },
     "execution_count": 27,
     "metadata": {},
     "output_type": "execute_result"
    }
   ],
   "source": [
    "pd.notnull(obj4)"
   ]
  },
  {
   "cell_type": "code",
   "execution_count": 28,
   "metadata": {
    "collapsed": false
   },
   "outputs": [
    {
     "data": {
      "text/plain": [
       "california     True\n",
       "ohio          False\n",
       "oregon        False\n",
       "texas         False\n",
       "dtype: bool"
      ]
     },
     "execution_count": 28,
     "metadata": {},
     "output_type": "execute_result"
    }
   ],
   "source": [
    "obj4.isnull()  # available as methods, too"
   ]
  },
  {
   "cell_type": "code",
   "execution_count": 29,
   "metadata": {
    "collapsed": false
   },
   "outputs": [
    {
     "data": {
      "text/plain": [
       "california       NaN\n",
       "ohio           70000\n",
       "oregon         32000\n",
       "texas         142000\n",
       "utah             NaN\n",
       "dtype: float64"
      ]
     },
     "execution_count": 29,
     "metadata": {},
     "output_type": "execute_result"
    }
   ],
   "source": [
    "obj3 + obj4  # automatic alignment of indexes in arithmatic operations"
   ]
  },
  {
   "cell_type": "code",
   "execution_count": 31,
   "metadata": {
    "collapsed": false
   },
   "outputs": [
    {
     "data": {
      "text/plain": [
       "state\n",
       "california      NaN\n",
       "ohio          35000\n",
       "oregon        16000\n",
       "texas         71000\n",
       "Name: population, dtype: float64"
      ]
     },
     "execution_count": 31,
     "metadata": {},
     "output_type": "execute_result"
    }
   ],
   "source": [
    "obj4.name = 'population'  # custom series name\n",
    "obj4.index.name = 'state'  # custom index name\n",
    "obj4"
   ]
  },
  {
   "cell_type": "code",
   "execution_count": 32,
   "metadata": {
    "collapsed": false
   },
   "outputs": [
    {
     "data": {
      "text/plain": [
       "bob      4\n",
       "jeff     7\n",
       "steve   -5\n",
       "ryan     3\n",
       "dtype: int64"
      ]
     },
     "execution_count": 32,
     "metadata": {},
     "output_type": "execute_result"
    }
   ],
   "source": [
    "obj.index = ['bob', 'jeff', 'steve', 'ryan']  # assign new indexes\n",
    "obj"
   ]
  },
  {
   "cell_type": "markdown",
   "metadata": {
    "collapsed": true
   },
   "source": [
    "### dataframe"
   ]
  },
  {
   "cell_type": "code",
   "execution_count": 3,
   "metadata": {
    "collapsed": true
   },
   "outputs": [],
   "source": [
    "from pandas import Series, DataFrame\n",
    "import pandas as pd\n",
    "data = {\n",
    "    'state': ['ohio', 'ohio', 'ohio', 'nevada', 'nevada'],\n",
    "    'year': [2000, 2001, 2002, 2001, 2002],\n",
    "    'pop': [1.5, 1.7, 3.6, 2.4, 2.9]\n",
    "}  # of equal length"
   ]
  },
  {
   "cell_type": "code",
   "execution_count": 4,
   "metadata": {
    "collapsed": false
   },
   "outputs": [
    {
     "data": {
      "text/html": [
       "<div>\n",
       "<table border=\"1\" class=\"dataframe\">\n",
       "  <thead>\n",
       "    <tr style=\"text-align: right;\">\n",
       "      <th></th>\n",
       "      <th>pop</th>\n",
       "      <th>state</th>\n",
       "      <th>year</th>\n",
       "    </tr>\n",
       "  </thead>\n",
       "  <tbody>\n",
       "    <tr>\n",
       "      <th>0</th>\n",
       "      <td>1.5</td>\n",
       "      <td>ohio</td>\n",
       "      <td>2000</td>\n",
       "    </tr>\n",
       "    <tr>\n",
       "      <th>1</th>\n",
       "      <td>1.7</td>\n",
       "      <td>ohio</td>\n",
       "      <td>2001</td>\n",
       "    </tr>\n",
       "    <tr>\n",
       "      <th>2</th>\n",
       "      <td>3.6</td>\n",
       "      <td>ohio</td>\n",
       "      <td>2002</td>\n",
       "    </tr>\n",
       "    <tr>\n",
       "      <th>3</th>\n",
       "      <td>2.4</td>\n",
       "      <td>nevada</td>\n",
       "      <td>2001</td>\n",
       "    </tr>\n",
       "    <tr>\n",
       "      <th>4</th>\n",
       "      <td>2.9</td>\n",
       "      <td>nevada</td>\n",
       "      <td>2002</td>\n",
       "    </tr>\n",
       "  </tbody>\n",
       "</table>\n",
       "</div>"
      ],
      "text/plain": [
       "   pop   state  year\n",
       "0  1.5    ohio  2000\n",
       "1  1.7    ohio  2001\n",
       "2  3.6    ohio  2002\n",
       "3  2.4  nevada  2001\n",
       "4  2.9  nevada  2002"
      ]
     },
     "execution_count": 4,
     "metadata": {},
     "output_type": "execute_result"
    }
   ],
   "source": [
    "frame = DataFrame(data)  # column sorted automatically\n",
    "frame"
   ]
  },
  {
   "cell_type": "code",
   "execution_count": 5,
   "metadata": {
    "collapsed": false
   },
   "outputs": [
    {
     "data": {
      "text/html": [
       "<div>\n",
       "<table border=\"1\" class=\"dataframe\">\n",
       "  <thead>\n",
       "    <tr style=\"text-align: right;\">\n",
       "      <th></th>\n",
       "      <th>year</th>\n",
       "      <th>state</th>\n",
       "      <th>pop</th>\n",
       "    </tr>\n",
       "  </thead>\n",
       "  <tbody>\n",
       "    <tr>\n",
       "      <th>0</th>\n",
       "      <td>2000</td>\n",
       "      <td>ohio</td>\n",
       "      <td>1.5</td>\n",
       "    </tr>\n",
       "    <tr>\n",
       "      <th>1</th>\n",
       "      <td>2001</td>\n",
       "      <td>ohio</td>\n",
       "      <td>1.7</td>\n",
       "    </tr>\n",
       "    <tr>\n",
       "      <th>2</th>\n",
       "      <td>2002</td>\n",
       "      <td>ohio</td>\n",
       "      <td>3.6</td>\n",
       "    </tr>\n",
       "    <tr>\n",
       "      <th>3</th>\n",
       "      <td>2001</td>\n",
       "      <td>nevada</td>\n",
       "      <td>2.4</td>\n",
       "    </tr>\n",
       "    <tr>\n",
       "      <th>4</th>\n",
       "      <td>2002</td>\n",
       "      <td>nevada</td>\n",
       "      <td>2.9</td>\n",
       "    </tr>\n",
       "  </tbody>\n",
       "</table>\n",
       "</div>"
      ],
      "text/plain": [
       "   year   state  pop\n",
       "0  2000    ohio  1.5\n",
       "1  2001    ohio  1.7\n",
       "2  2002    ohio  3.6\n",
       "3  2001  nevada  2.4\n",
       "4  2002  nevada  2.9"
      ]
     },
     "execution_count": 5,
     "metadata": {},
     "output_type": "execute_result"
    }
   ],
   "source": [
    "DataFrame(data, columns=['year', 'state', 'pop'])  # custom order when selecting columns"
   ]
  },
  {
   "cell_type": "code",
   "execution_count": 6,
   "metadata": {
    "collapsed": false
   },
   "outputs": [
    {
     "data": {
      "text/html": [
       "<div>\n",
       "<table border=\"1\" class=\"dataframe\">\n",
       "  <thead>\n",
       "    <tr style=\"text-align: right;\">\n",
       "      <th></th>\n",
       "      <th>year</th>\n",
       "      <th>state</th>\n",
       "      <th>pop</th>\n",
       "      <th>debt</th>\n",
       "    </tr>\n",
       "  </thead>\n",
       "  <tbody>\n",
       "    <tr>\n",
       "      <th>0</th>\n",
       "      <td>2000</td>\n",
       "      <td>ohio</td>\n",
       "      <td>1.5</td>\n",
       "      <td>NaN</td>\n",
       "    </tr>\n",
       "    <tr>\n",
       "      <th>1</th>\n",
       "      <td>2001</td>\n",
       "      <td>ohio</td>\n",
       "      <td>1.7</td>\n",
       "      <td>NaN</td>\n",
       "    </tr>\n",
       "    <tr>\n",
       "      <th>2</th>\n",
       "      <td>2002</td>\n",
       "      <td>ohio</td>\n",
       "      <td>3.6</td>\n",
       "      <td>NaN</td>\n",
       "    </tr>\n",
       "    <tr>\n",
       "      <th>3</th>\n",
       "      <td>2001</td>\n",
       "      <td>nevada</td>\n",
       "      <td>2.4</td>\n",
       "      <td>NaN</td>\n",
       "    </tr>\n",
       "    <tr>\n",
       "      <th>4</th>\n",
       "      <td>2002</td>\n",
       "      <td>nevada</td>\n",
       "      <td>2.9</td>\n",
       "      <td>NaN</td>\n",
       "    </tr>\n",
       "  </tbody>\n",
       "</table>\n",
       "</div>"
      ],
      "text/plain": [
       "   year   state  pop debt\n",
       "0  2000    ohio  1.5  NaN\n",
       "1  2001    ohio  1.7  NaN\n",
       "2  2002    ohio  3.6  NaN\n",
       "3  2001  nevada  2.4  NaN\n",
       "4  2002  nevada  2.9  NaN"
      ]
     },
     "execution_count": 6,
     "metadata": {},
     "output_type": "execute_result"
    }
   ],
   "source": [
    "frame2 = DataFrame(data, columns=['year', 'state', 'pop', 'debt'])  # select a column not contained in data\n",
    "frame2"
   ]
  },
  {
   "cell_type": "code",
   "execution_count": 7,
   "metadata": {
    "collapsed": false
   },
   "outputs": [
    {
     "data": {
      "text/plain": [
       "(0      ohio\n",
       " 1      ohio\n",
       " 2      ohio\n",
       " 3    nevada\n",
       " 4    nevada\n",
       " Name: state, dtype: object, 0    2000\n",
       " 1    2001\n",
       " 2    2002\n",
       " 3    2001\n",
       " 4    2002\n",
       " Name: year, dtype: int64)"
      ]
     },
     "execution_count": 7,
     "metadata": {},
     "output_type": "execute_result"
    }
   ],
   "source": [
    "frame2['state'], frame2.year"
   ]
  },
  {
   "cell_type": "code",
   "execution_count": 8,
   "metadata": {
    "collapsed": false
   },
   "outputs": [
    {
     "data": {
      "text/html": [
       "<div>\n",
       "<table border=\"1\" class=\"dataframe\">\n",
       "  <thead>\n",
       "    <tr style=\"text-align: right;\">\n",
       "      <th></th>\n",
       "      <th>year</th>\n",
       "      <th>state</th>\n",
       "      <th>pop</th>\n",
       "      <th>debt</th>\n",
       "    </tr>\n",
       "  </thead>\n",
       "  <tbody>\n",
       "    <tr>\n",
       "      <th>one</th>\n",
       "      <td>2000</td>\n",
       "      <td>ohio</td>\n",
       "      <td>1.5</td>\n",
       "      <td>NaN</td>\n",
       "    </tr>\n",
       "    <tr>\n",
       "      <th>two</th>\n",
       "      <td>2001</td>\n",
       "      <td>ohio</td>\n",
       "      <td>1.7</td>\n",
       "      <td>NaN</td>\n",
       "    </tr>\n",
       "    <tr>\n",
       "      <th>three</th>\n",
       "      <td>2002</td>\n",
       "      <td>ohio</td>\n",
       "      <td>3.6</td>\n",
       "      <td>NaN</td>\n",
       "    </tr>\n",
       "    <tr>\n",
       "      <th>four</th>\n",
       "      <td>2001</td>\n",
       "      <td>nevada</td>\n",
       "      <td>2.4</td>\n",
       "      <td>NaN</td>\n",
       "    </tr>\n",
       "    <tr>\n",
       "      <th>five</th>\n",
       "      <td>2002</td>\n",
       "      <td>nevada</td>\n",
       "      <td>2.9</td>\n",
       "      <td>NaN</td>\n",
       "    </tr>\n",
       "  </tbody>\n",
       "</table>\n",
       "</div>"
      ],
      "text/plain": [
       "       year   state  pop debt\n",
       "one    2000    ohio  1.5  NaN\n",
       "two    2001    ohio  1.7  NaN\n",
       "three  2002    ohio  3.6  NaN\n",
       "four   2001  nevada  2.4  NaN\n",
       "five   2002  nevada  2.9  NaN"
      ]
     },
     "execution_count": 8,
     "metadata": {},
     "output_type": "execute_result"
    }
   ],
   "source": [
    "# change indexes\n",
    "frame2.index = ['one', 'two', 'three', 'four', 'five']\n",
    "frame2"
   ]
  },
  {
   "cell_type": "code",
   "execution_count": 10,
   "metadata": {
    "collapsed": false
   },
   "outputs": [
    {
     "data": {
      "text/plain": [
       "(year     2002\n",
       " state    ohio\n",
       " pop       3.6\n",
       " debt      NaN\n",
       " Name: three, dtype: object, pandas.core.series.Series)"
      ]
     },
     "execution_count": 10,
     "metadata": {},
     "output_type": "execute_result"
    }
   ],
   "source": [
    "# selecting rows, also a Series type\n",
    "frame2.ix['three'], type(frame2.ix['three'])"
   ]
  },
  {
   "cell_type": "code",
   "execution_count": 11,
   "metadata": {
    "collapsed": false
   },
   "outputs": [
    {
     "data": {
      "text/html": [
       "<div>\n",
       "<table border=\"1\" class=\"dataframe\">\n",
       "  <thead>\n",
       "    <tr style=\"text-align: right;\">\n",
       "      <th></th>\n",
       "      <th>year</th>\n",
       "      <th>state</th>\n",
       "      <th>pop</th>\n",
       "      <th>debt</th>\n",
       "    </tr>\n",
       "  </thead>\n",
       "  <tbody>\n",
       "    <tr>\n",
       "      <th>one</th>\n",
       "      <td>2000</td>\n",
       "      <td>ohio</td>\n",
       "      <td>1.5</td>\n",
       "      <td>16.5</td>\n",
       "    </tr>\n",
       "    <tr>\n",
       "      <th>two</th>\n",
       "      <td>2001</td>\n",
       "      <td>ohio</td>\n",
       "      <td>1.7</td>\n",
       "      <td>16.5</td>\n",
       "    </tr>\n",
       "    <tr>\n",
       "      <th>three</th>\n",
       "      <td>2002</td>\n",
       "      <td>ohio</td>\n",
       "      <td>3.6</td>\n",
       "      <td>16.5</td>\n",
       "    </tr>\n",
       "    <tr>\n",
       "      <th>four</th>\n",
       "      <td>2001</td>\n",
       "      <td>nevada</td>\n",
       "      <td>2.4</td>\n",
       "      <td>16.5</td>\n",
       "    </tr>\n",
       "    <tr>\n",
       "      <th>five</th>\n",
       "      <td>2002</td>\n",
       "      <td>nevada</td>\n",
       "      <td>2.9</td>\n",
       "      <td>16.5</td>\n",
       "    </tr>\n",
       "  </tbody>\n",
       "</table>\n",
       "</div>"
      ],
      "text/plain": [
       "       year   state  pop  debt\n",
       "one    2000    ohio  1.5  16.5\n",
       "two    2001    ohio  1.7  16.5\n",
       "three  2002    ohio  3.6  16.5\n",
       "four   2001  nevada  2.4  16.5\n",
       "five   2002  nevada  2.9  16.5"
      ]
     },
     "execution_count": 11,
     "metadata": {},
     "output_type": "execute_result"
    }
   ],
   "source": [
    "frame2['debt'] = 16.5\n",
    "frame2"
   ]
  },
  {
   "cell_type": "code",
   "execution_count": 12,
   "metadata": {
    "collapsed": false
   },
   "outputs": [
    {
     "data": {
      "text/html": [
       "<div>\n",
       "<table border=\"1\" class=\"dataframe\">\n",
       "  <thead>\n",
       "    <tr style=\"text-align: right;\">\n",
       "      <th></th>\n",
       "      <th>year</th>\n",
       "      <th>state</th>\n",
       "      <th>pop</th>\n",
       "      <th>debt</th>\n",
       "    </tr>\n",
       "  </thead>\n",
       "  <tbody>\n",
       "    <tr>\n",
       "      <th>one</th>\n",
       "      <td>2000</td>\n",
       "      <td>ohio</td>\n",
       "      <td>1.5</td>\n",
       "      <td>0</td>\n",
       "    </tr>\n",
       "    <tr>\n",
       "      <th>two</th>\n",
       "      <td>2001</td>\n",
       "      <td>ohio</td>\n",
       "      <td>1.7</td>\n",
       "      <td>1</td>\n",
       "    </tr>\n",
       "    <tr>\n",
       "      <th>three</th>\n",
       "      <td>2002</td>\n",
       "      <td>ohio</td>\n",
       "      <td>3.6</td>\n",
       "      <td>2</td>\n",
       "    </tr>\n",
       "    <tr>\n",
       "      <th>four</th>\n",
       "      <td>2001</td>\n",
       "      <td>nevada</td>\n",
       "      <td>2.4</td>\n",
       "      <td>3</td>\n",
       "    </tr>\n",
       "    <tr>\n",
       "      <th>five</th>\n",
       "      <td>2002</td>\n",
       "      <td>nevada</td>\n",
       "      <td>2.9</td>\n",
       "      <td>4</td>\n",
       "    </tr>\n",
       "  </tbody>\n",
       "</table>\n",
       "</div>"
      ],
      "text/plain": [
       "       year   state  pop  debt\n",
       "one    2000    ohio  1.5     0\n",
       "two    2001    ohio  1.7     1\n",
       "three  2002    ohio  3.6     2\n",
       "four   2001  nevada  2.4     3\n",
       "five   2002  nevada  2.9     4"
      ]
     },
     "execution_count": 12,
     "metadata": {},
     "output_type": "execute_result"
    }
   ],
   "source": [
    "import numpy as np\n",
    "frame2['debt'] = np.arange(5.)  # assign with nparray\n",
    "frame2"
   ]
  },
  {
   "cell_type": "code",
   "execution_count": 13,
   "metadata": {
    "collapsed": false
   },
   "outputs": [
    {
     "data": {
      "text/html": [
       "<div>\n",
       "<table border=\"1\" class=\"dataframe\">\n",
       "  <thead>\n",
       "    <tr style=\"text-align: right;\">\n",
       "      <th></th>\n",
       "      <th>year</th>\n",
       "      <th>state</th>\n",
       "      <th>pop</th>\n",
       "      <th>debt</th>\n",
       "    </tr>\n",
       "  </thead>\n",
       "  <tbody>\n",
       "    <tr>\n",
       "      <th>one</th>\n",
       "      <td>2000</td>\n",
       "      <td>ohio</td>\n",
       "      <td>1.5</td>\n",
       "      <td>NaN</td>\n",
       "    </tr>\n",
       "    <tr>\n",
       "      <th>two</th>\n",
       "      <td>2001</td>\n",
       "      <td>ohio</td>\n",
       "      <td>1.7</td>\n",
       "      <td>-1.2</td>\n",
       "    </tr>\n",
       "    <tr>\n",
       "      <th>three</th>\n",
       "      <td>2002</td>\n",
       "      <td>ohio</td>\n",
       "      <td>3.6</td>\n",
       "      <td>NaN</td>\n",
       "    </tr>\n",
       "    <tr>\n",
       "      <th>four</th>\n",
       "      <td>2001</td>\n",
       "      <td>nevada</td>\n",
       "      <td>2.4</td>\n",
       "      <td>-1.5</td>\n",
       "    </tr>\n",
       "    <tr>\n",
       "      <th>five</th>\n",
       "      <td>2002</td>\n",
       "      <td>nevada</td>\n",
       "      <td>2.9</td>\n",
       "      <td>-1.7</td>\n",
       "    </tr>\n",
       "  </tbody>\n",
       "</table>\n",
       "</div>"
      ],
      "text/plain": [
       "       year   state  pop  debt\n",
       "one    2000    ohio  1.5   NaN\n",
       "two    2001    ohio  1.7  -1.2\n",
       "three  2002    ohio  3.6   NaN\n",
       "four   2001  nevada  2.4  -1.5\n",
       "five   2002  nevada  2.9  -1.7"
      ]
     },
     "execution_count": 13,
     "metadata": {},
     "output_type": "execute_result"
    }
   ],
   "source": [
    "val = Series([-1.2, -1.5, -1.7], index=['two', 'four', 'five'])  # align with indexes\n",
    "frame2['debt'] = val\n",
    "frame2"
   ]
  },
  {
   "cell_type": "code",
   "execution_count": 14,
   "metadata": {
    "collapsed": false
   },
   "outputs": [
    {
     "data": {
      "text/html": [
       "<div>\n",
       "<table border=\"1\" class=\"dataframe\">\n",
       "  <thead>\n",
       "    <tr style=\"text-align: right;\">\n",
       "      <th></th>\n",
       "      <th>year</th>\n",
       "      <th>state</th>\n",
       "      <th>pop</th>\n",
       "      <th>debt</th>\n",
       "      <th>eastern</th>\n",
       "    </tr>\n",
       "  </thead>\n",
       "  <tbody>\n",
       "    <tr>\n",
       "      <th>one</th>\n",
       "      <td>2000</td>\n",
       "      <td>ohio</td>\n",
       "      <td>1.5</td>\n",
       "      <td>NaN</td>\n",
       "      <td>True</td>\n",
       "    </tr>\n",
       "    <tr>\n",
       "      <th>two</th>\n",
       "      <td>2001</td>\n",
       "      <td>ohio</td>\n",
       "      <td>1.7</td>\n",
       "      <td>-1.2</td>\n",
       "      <td>True</td>\n",
       "    </tr>\n",
       "    <tr>\n",
       "      <th>three</th>\n",
       "      <td>2002</td>\n",
       "      <td>ohio</td>\n",
       "      <td>3.6</td>\n",
       "      <td>NaN</td>\n",
       "      <td>True</td>\n",
       "    </tr>\n",
       "    <tr>\n",
       "      <th>four</th>\n",
       "      <td>2001</td>\n",
       "      <td>nevada</td>\n",
       "      <td>2.4</td>\n",
       "      <td>-1.5</td>\n",
       "      <td>False</td>\n",
       "    </tr>\n",
       "    <tr>\n",
       "      <th>five</th>\n",
       "      <td>2002</td>\n",
       "      <td>nevada</td>\n",
       "      <td>2.9</td>\n",
       "      <td>-1.7</td>\n",
       "      <td>False</td>\n",
       "    </tr>\n",
       "  </tbody>\n",
       "</table>\n",
       "</div>"
      ],
      "text/plain": [
       "       year   state  pop  debt eastern\n",
       "one    2000    ohio  1.5   NaN    True\n",
       "two    2001    ohio  1.7  -1.2    True\n",
       "three  2002    ohio  3.6   NaN    True\n",
       "four   2001  nevada  2.4  -1.5   False\n",
       "five   2002  nevada  2.9  -1.7   False"
      ]
     },
     "execution_count": 14,
     "metadata": {},
     "output_type": "execute_result"
    }
   ],
   "source": [
    "frame2['eastern'] = (frame2.state == 'ohio')\n",
    "frame2"
   ]
  },
  {
   "cell_type": "code",
   "execution_count": 15,
   "metadata": {
    "collapsed": false
   },
   "outputs": [
    {
     "data": {
      "text/plain": [
       "Index(['year', 'state', 'pop', 'debt'], dtype='object')"
      ]
     },
     "execution_count": 15,
     "metadata": {},
     "output_type": "execute_result"
    }
   ],
   "source": [
    "del frame2['eastern']\n",
    "frame2.columns  # a view, NOT A COPY"
   ]
  },
  {
   "cell_type": "code",
   "execution_count": 17,
   "metadata": {
    "collapsed": false
   },
   "outputs": [
    {
     "data": {
      "text/html": [
       "<div>\n",
       "<table border=\"1\" class=\"dataframe\">\n",
       "  <thead>\n",
       "    <tr style=\"text-align: right;\">\n",
       "      <th></th>\n",
       "      <th>Nevada</th>\n",
       "      <th>ohio</th>\n",
       "    </tr>\n",
       "  </thead>\n",
       "  <tbody>\n",
       "    <tr>\n",
       "      <th>2000</th>\n",
       "      <td>NaN</td>\n",
       "      <td>1.5</td>\n",
       "    </tr>\n",
       "    <tr>\n",
       "      <th>2001</th>\n",
       "      <td>2.4</td>\n",
       "      <td>1.7</td>\n",
       "    </tr>\n",
       "    <tr>\n",
       "      <th>2002</th>\n",
       "      <td>2.9</td>\n",
       "      <td>3.6</td>\n",
       "    </tr>\n",
       "  </tbody>\n",
       "</table>\n",
       "</div>"
      ],
      "text/plain": [
       "      Nevada  ohio\n",
       "2000     NaN   1.5\n",
       "2001     2.4   1.7\n",
       "2002     2.9   3.6"
      ]
     },
     "execution_count": 17,
     "metadata": {},
     "output_type": "execute_result"
    }
   ],
   "source": [
    "pop = {'Nevada': {2001: 2.4, 2002: 2.9}, 'ohio': {2000: 1.5, 2001: 1.7, 2002: 3.6}}  # use inner keys to add indexes, ourter keys are always column names\n",
    "frame3 = DataFrame(pop)\n",
    "frame3"
   ]
  },
  {
   "cell_type": "code",
   "execution_count": 18,
   "metadata": {
    "collapsed": false
   },
   "outputs": [
    {
     "data": {
      "text/html": [
       "<div>\n",
       "<table border=\"1\" class=\"dataframe\">\n",
       "  <thead>\n",
       "    <tr style=\"text-align: right;\">\n",
       "      <th></th>\n",
       "      <th>2000</th>\n",
       "      <th>2001</th>\n",
       "      <th>2002</th>\n",
       "    </tr>\n",
       "  </thead>\n",
       "  <tbody>\n",
       "    <tr>\n",
       "      <th>Nevada</th>\n",
       "      <td>NaN</td>\n",
       "      <td>2.4</td>\n",
       "      <td>2.9</td>\n",
       "    </tr>\n",
       "    <tr>\n",
       "      <th>ohio</th>\n",
       "      <td>1.5</td>\n",
       "      <td>1.7</td>\n",
       "      <td>3.6</td>\n",
       "    </tr>\n",
       "  </tbody>\n",
       "</table>\n",
       "</div>"
      ],
      "text/plain": [
       "        2000  2001  2002\n",
       "Nevada   NaN   2.4   2.9\n",
       "ohio     1.5   1.7   3.6"
      ]
     },
     "execution_count": 18,
     "metadata": {},
     "output_type": "execute_result"
    }
   ],
   "source": [
    "frame3.T"
   ]
  },
  {
   "cell_type": "code",
   "execution_count": 19,
   "metadata": {
    "collapsed": false
   },
   "outputs": [
    {
     "data": {
      "text/html": [
       "<div>\n",
       "<table border=\"1\" class=\"dataframe\">\n",
       "  <thead>\n",
       "    <tr style=\"text-align: right;\">\n",
       "      <th></th>\n",
       "      <th>Nevada</th>\n",
       "      <th>ohio</th>\n",
       "    </tr>\n",
       "  </thead>\n",
       "  <tbody>\n",
       "    <tr>\n",
       "      <th>2001</th>\n",
       "      <td>2.4</td>\n",
       "      <td>1.7</td>\n",
       "    </tr>\n",
       "    <tr>\n",
       "      <th>2002</th>\n",
       "      <td>2.9</td>\n",
       "      <td>3.6</td>\n",
       "    </tr>\n",
       "    <tr>\n",
       "      <th>2003</th>\n",
       "      <td>NaN</td>\n",
       "      <td>NaN</td>\n",
       "    </tr>\n",
       "  </tbody>\n",
       "</table>\n",
       "</div>"
      ],
      "text/plain": [
       "      Nevada  ohio\n",
       "2001     2.4   1.7\n",
       "2002     2.9   3.6\n",
       "2003     NaN   NaN"
      ]
     },
     "execution_count": 19,
     "metadata": {},
     "output_type": "execute_result"
    }
   ],
   "source": [
    "DataFrame(pop, index=[2001, 2002, 2003])"
   ]
  },
  {
   "cell_type": "code",
   "execution_count": 21,
   "metadata": {
    "collapsed": false
   },
   "outputs": [
    {
     "data": {
      "text/html": [
       "<div>\n",
       "<table border=\"1\" class=\"dataframe\">\n",
       "  <thead>\n",
       "    <tr style=\"text-align: right;\">\n",
       "      <th></th>\n",
       "      <th>nevada</th>\n",
       "      <th>ohio</th>\n",
       "    </tr>\n",
       "  </thead>\n",
       "  <tbody>\n",
       "    <tr>\n",
       "      <th>2000</th>\n",
       "      <td>NaN</td>\n",
       "      <td>1.5</td>\n",
       "    </tr>\n",
       "    <tr>\n",
       "      <th>2001</th>\n",
       "      <td>2.4</td>\n",
       "      <td>1.7</td>\n",
       "    </tr>\n",
       "  </tbody>\n",
       "</table>\n",
       "</div>"
      ],
      "text/plain": [
       "      nevada  ohio\n",
       "2000     NaN   1.5\n",
       "2001     2.4   1.7"
      ]
     },
     "execution_count": 21,
     "metadata": {},
     "output_type": "execute_result"
    }
   ],
   "source": [
    "pdata = {'ohio': frame3['ohio'][:-1], 'nevada': frame3['Nevada'][:2]}  # create with dict of Series (dict of dicts)\n",
    "DataFrame(pdata)"
   ]
  },
  {
   "cell_type": "code",
   "execution_count": 22,
   "metadata": {
    "collapsed": false
   },
   "outputs": [
    {
     "data": {
      "text/html": [
       "<div>\n",
       "<table border=\"1\" class=\"dataframe\">\n",
       "  <thead>\n",
       "    <tr style=\"text-align: right;\">\n",
       "      <th>state</th>\n",
       "      <th>Nevada</th>\n",
       "      <th>ohio</th>\n",
       "    </tr>\n",
       "    <tr>\n",
       "      <th>year</th>\n",
       "      <th></th>\n",
       "      <th></th>\n",
       "    </tr>\n",
       "  </thead>\n",
       "  <tbody>\n",
       "    <tr>\n",
       "      <th>2000</th>\n",
       "      <td>NaN</td>\n",
       "      <td>1.5</td>\n",
       "    </tr>\n",
       "    <tr>\n",
       "      <th>2001</th>\n",
       "      <td>2.4</td>\n",
       "      <td>1.7</td>\n",
       "    </tr>\n",
       "    <tr>\n",
       "      <th>2002</th>\n",
       "      <td>2.9</td>\n",
       "      <td>3.6</td>\n",
       "    </tr>\n",
       "  </tbody>\n",
       "</table>\n",
       "</div>"
      ],
      "text/plain": [
       "state  Nevada  ohio\n",
       "year               \n",
       "2000      NaN   1.5\n",
       "2001      2.4   1.7\n",
       "2002      2.9   3.6"
      ]
     },
     "execution_count": 22,
     "metadata": {},
     "output_type": "execute_result"
    }
   ],
   "source": [
    "frame3.index.name = 'year'\n",
    "frame3.columns.name = 'state'\n",
    "frame3"
   ]
  },
  {
   "cell_type": "code",
   "execution_count": 23,
   "metadata": {
    "collapsed": false
   },
   "outputs": [
    {
     "data": {
      "text/plain": [
       "array([[ nan,  1.5],\n",
       "       [ 2.4,  1.7],\n",
       "       [ 2.9,  3.6]])"
      ]
     },
     "execution_count": 23,
     "metadata": {},
     "output_type": "execute_result"
    }
   ],
   "source": [
    "frame3.values  # nparray in 2D"
   ]
  },
  {
   "cell_type": "code",
   "execution_count": 24,
   "metadata": {
    "collapsed": false
   },
   "outputs": [
    {
     "data": {
      "text/plain": [
       "array([[2000, 'ohio', 1.5, nan],\n",
       "       [2001, 'ohio', 1.7, -1.2],\n",
       "       [2002, 'ohio', 3.6, nan],\n",
       "       [2001, 'nevada', 2.4, -1.5],\n",
       "       [2002, 'nevada', 2.9, -1.7]], dtype=object)"
      ]
     },
     "execution_count": 24,
     "metadata": {},
     "output_type": "execute_result"
    }
   ],
   "source": [
    "frame2.values  # a dtype that can acommodate all the dtypes will be chosen"
   ]
  },
  {
   "cell_type": "markdown",
   "metadata": {
    "collapsed": true
   },
   "source": [
    "### index objects"
   ]
  },
  {
   "cell_type": "code",
   "execution_count": 26,
   "metadata": {
    "collapsed": false
   },
   "outputs": [
    {
     "data": {
      "text/plain": [
       "(Index(['a', 'b', 'c'], dtype='object'), pandas.core.index.Index)"
      ]
     },
     "execution_count": 26,
     "metadata": {},
     "output_type": "execute_result"
    }
   ],
   "source": [
    "obj = Series(np.arange(3), index=['a', 'b', 'c'])\n",
    "index = obj.index\n",
    "index, type(index)  # NOT a series objext"
   ]
  },
  {
   "cell_type": "code",
   "execution_count": 27,
   "metadata": {
    "collapsed": false
   },
   "outputs": [
    {
     "data": {
      "text/plain": [
       "Index(['a', 'b'], dtype='object')"
      ]
     },
     "execution_count": 27,
     "metadata": {},
     "output_type": "execute_result"
    }
   ],
   "source": [
    "index[:2]"
   ]
  },
  {
   "cell_type": "code",
   "execution_count": 28,
   "metadata": {
    "collapsed": false
   },
   "outputs": [
    {
     "ename": "TypeError",
     "evalue": "Index does not support mutable operations",
     "output_type": "error",
     "traceback": [
      "\u001b[0;31m---------------------------------------------------------------------------\u001b[0m",
      "\u001b[0;31mTypeError\u001b[0m                                 Traceback (most recent call last)",
      "\u001b[0;32m<ipython-input-28-515f0c24f1ce>\u001b[0m in \u001b[0;36m<module>\u001b[0;34m()\u001b[0m\n\u001b[0;32m----> 1\u001b[0;31m \u001b[0mindex\u001b[0m\u001b[0;34m[\u001b[0m\u001b[0;36m1\u001b[0m\u001b[0;34m]\u001b[0m \u001b[0;34m=\u001b[0m \u001b[0;34m'd'\u001b[0m  \u001b[0;31m# cannot be modified, IMMUTABLE\u001b[0m\u001b[0;34m\u001b[0m\u001b[0m\n\u001b[0m",
      "\u001b[0;32m/Users/yth/anaconda/envs/101/lib/python3.5/site-packages/pandas/core/index.py\u001b[0m in \u001b[0;36m__setitem__\u001b[0;34m(self, key, value)\u001b[0m\n\u001b[1;32m   1128\u001b[0m \u001b[0;34m\u001b[0m\u001b[0m\n\u001b[1;32m   1129\u001b[0m     \u001b[0;32mdef\u001b[0m \u001b[0m__setitem__\u001b[0m\u001b[0;34m(\u001b[0m\u001b[0mself\u001b[0m\u001b[0;34m,\u001b[0m \u001b[0mkey\u001b[0m\u001b[0;34m,\u001b[0m \u001b[0mvalue\u001b[0m\u001b[0;34m)\u001b[0m\u001b[0;34m:\u001b[0m\u001b[0;34m\u001b[0m\u001b[0m\n\u001b[0;32m-> 1130\u001b[0;31m         \u001b[0;32mraise\u001b[0m \u001b[0mTypeError\u001b[0m\u001b[0;34m(\u001b[0m\u001b[0;34m\"Index does not support mutable operations\"\u001b[0m\u001b[0;34m)\u001b[0m\u001b[0;34m\u001b[0m\u001b[0m\n\u001b[0m\u001b[1;32m   1131\u001b[0m \u001b[0;34m\u001b[0m\u001b[0m\n\u001b[1;32m   1132\u001b[0m     \u001b[0;32mdef\u001b[0m \u001b[0m__getitem__\u001b[0m\u001b[0;34m(\u001b[0m\u001b[0mself\u001b[0m\u001b[0;34m,\u001b[0m \u001b[0mkey\u001b[0m\u001b[0;34m)\u001b[0m\u001b[0;34m:\u001b[0m\u001b[0;34m\u001b[0m\u001b[0m\n",
      "\u001b[0;31mTypeError\u001b[0m: Index does not support mutable operations"
     ]
    }
   ],
   "source": [
    "index[1] = 'd'  # cannot be modified, IMMUTABLE"
   ]
  },
  {
   "cell_type": "code",
   "execution_count": 29,
   "metadata": {
    "collapsed": false
   },
   "outputs": [
    {
     "data": {
      "text/plain": [
       "True"
      ]
     },
     "execution_count": 29,
     "metadata": {},
     "output_type": "execute_result"
    }
   ],
   "source": [
    "index = pd.Index(np.arange(3))  # contructor\n",
    "obj2 = Series([1.5, -2.5, 0], index=index)\n",
    "obj2.index is index  # singularity, immutability, safely pass index around"
   ]
  },
  {
   "cell_type": "code",
   "execution_count": 30,
   "metadata": {
    "collapsed": false
   },
   "outputs": [
    {
     "data": {
      "text/html": [
       "<div>\n",
       "<table border=\"1\" class=\"dataframe\">\n",
       "  <thead>\n",
       "    <tr style=\"text-align: right;\">\n",
       "      <th>state</th>\n",
       "      <th>Nevada</th>\n",
       "      <th>ohio</th>\n",
       "    </tr>\n",
       "    <tr>\n",
       "      <th>year</th>\n",
       "      <th></th>\n",
       "      <th></th>\n",
       "    </tr>\n",
       "  </thead>\n",
       "  <tbody>\n",
       "    <tr>\n",
       "      <th>2000</th>\n",
       "      <td>NaN</td>\n",
       "      <td>1.5</td>\n",
       "    </tr>\n",
       "    <tr>\n",
       "      <th>2001</th>\n",
       "      <td>2.4</td>\n",
       "      <td>1.7</td>\n",
       "    </tr>\n",
       "    <tr>\n",
       "      <th>2002</th>\n",
       "      <td>2.9</td>\n",
       "      <td>3.6</td>\n",
       "    </tr>\n",
       "  </tbody>\n",
       "</table>\n",
       "</div>"
      ],
      "text/plain": [
       "state  Nevada  ohio\n",
       "year               \n",
       "2000      NaN   1.5\n",
       "2001      2.4   1.7\n",
       "2002      2.9   3.6"
      ]
     },
     "execution_count": 30,
     "metadata": {},
     "output_type": "execute_result"
    }
   ],
   "source": [
    "frame3"
   ]
  },
  {
   "cell_type": "code",
   "execution_count": 31,
   "metadata": {
    "collapsed": false
   },
   "outputs": [
    {
     "data": {
      "text/plain": [
       "(True, True, False)"
      ]
     },
     "execution_count": 31,
     "metadata": {},
     "output_type": "execute_result"
    }
   ],
   "source": [
    "'ohio' in frame3, 'ohio' in frame3.columns, 2003 in frame3.index"
   ]
  },
  {
   "cell_type": "code",
   "execution_count": 32,
   "metadata": {
    "collapsed": false
   },
   "outputs": [
    {
     "data": {
      "text/plain": [
       "array([ True,  True, False], dtype=bool)"
      ]
     },
     "execution_count": 32,
     "metadata": {},
     "output_type": "execute_result"
    }
   ],
   "source": [
    "frame3.index.isin([1999, 2000, 2001])  # set-like operations"
   ]
  },
  {
   "cell_type": "markdown",
   "metadata": {},
   "source": [
    "### Essential functionality"
   ]
  },
  {
   "cell_type": "markdown",
   "metadata": {},
   "source": [
    "### reindexing"
   ]
  },
  {
   "cell_type": "code",
   "execution_count": 33,
   "metadata": {
    "collapsed": false
   },
   "outputs": [
    {
     "data": {
      "text/plain": [
       "d    4.5\n",
       "b    7.2\n",
       "a   -5.3\n",
       "c    3.6\n",
       "dtype: float64"
      ]
     },
     "execution_count": 33,
     "metadata": {},
     "output_type": "execute_result"
    }
   ],
   "source": [
    "obj = Series([4.5, 7.2, -5.3, 3.6], index=['d', 'b', 'a', 'c'])\n",
    "obj"
   ]
  },
  {
   "cell_type": "code",
   "execution_count": 34,
   "metadata": {
    "collapsed": false
   },
   "outputs": [
    {
     "data": {
      "text/plain": [
       "a   -5.3\n",
       "b    7.2\n",
       "c    3.6\n",
       "d    4.5\n",
       "e    NaN\n",
       "dtype: float64"
      ]
     },
     "execution_count": 34,
     "metadata": {},
     "output_type": "execute_result"
    }
   ],
   "source": [
    "obj2 = obj.reindex(['a', 'b', 'c', 'd', 'e'])\n",
    "obj2"
   ]
  },
  {
   "cell_type": "code",
   "execution_count": 35,
   "metadata": {
    "collapsed": false
   },
   "outputs": [
    {
     "data": {
      "text/plain": [
       "a   -5.3\n",
       "b    7.2\n",
       "c    3.6\n",
       "d    4.5\n",
       "e    0.0\n",
       "dtype: float64"
      ]
     },
     "execution_count": 35,
     "metadata": {},
     "output_type": "execute_result"
    }
   ],
   "source": [
    "obj.reindex(['a', 'b', 'c', 'd', 'e'], fill_value=0)"
   ]
  },
  {
   "cell_type": "code",
   "execution_count": 36,
   "metadata": {
    "collapsed": false
   },
   "outputs": [
    {
     "data": {
      "text/plain": [
       "0      blue\n",
       "1      blue\n",
       "2    purple\n",
       "3    purple\n",
       "4    yellow\n",
       "dtype: object"
      ]
     },
     "execution_count": 36,
     "metadata": {},
     "output_type": "execute_result"
    }
   ],
   "source": [
    "obj3 = Series(['blue', 'purple', 'yellow'], index=[0, 2, 4])\n",
    "obj3.reindex(np.arange(5), method='ffill')  # interpolation for filling values, use the value from the forward one"
   ]
  },
  {
   "cell_type": "code",
   "execution_count": 37,
   "metadata": {
    "collapsed": false
   },
   "outputs": [
    {
     "data": {
      "text/plain": [
       "0      blue\n",
       "1    purple\n",
       "2    purple\n",
       "3    yellow\n",
       "4    yellow\n",
       "dtype: object"
      ]
     },
     "execution_count": 37,
     "metadata": {},
     "output_type": "execute_result"
    }
   ],
   "source": [
    "obj3.reindex(np.arange(5), method='bfill')  # use the value from the back one"
   ]
  },
  {
   "cell_type": "code",
   "execution_count": 38,
   "metadata": {
    "collapsed": false
   },
   "outputs": [
    {
     "data": {
      "text/html": [
       "<div>\n",
       "<table border=\"1\" class=\"dataframe\">\n",
       "  <thead>\n",
       "    <tr style=\"text-align: right;\">\n",
       "      <th></th>\n",
       "      <th>ohio</th>\n",
       "      <th>texas</th>\n",
       "      <th>california</th>\n",
       "    </tr>\n",
       "  </thead>\n",
       "  <tbody>\n",
       "    <tr>\n",
       "      <th>a</th>\n",
       "      <td>0</td>\n",
       "      <td>1</td>\n",
       "      <td>2</td>\n",
       "    </tr>\n",
       "    <tr>\n",
       "      <th>c</th>\n",
       "      <td>3</td>\n",
       "      <td>4</td>\n",
       "      <td>5</td>\n",
       "    </tr>\n",
       "    <tr>\n",
       "      <th>d</th>\n",
       "      <td>6</td>\n",
       "      <td>7</td>\n",
       "      <td>8</td>\n",
       "    </tr>\n",
       "  </tbody>\n",
       "</table>\n",
       "</div>"
      ],
      "text/plain": [
       "   ohio  texas  california\n",
       "a     0      1           2\n",
       "c     3      4           5\n",
       "d     6      7           8"
      ]
     },
     "execution_count": 38,
     "metadata": {},
     "output_type": "execute_result"
    }
   ],
   "source": [
    "frame = DataFrame(np.arange(9).reshape((3, 3)), index=['a', 'c', 'd'], columns=['ohio', 'texas', 'california'])\n",
    "frame"
   ]
  },
  {
   "cell_type": "code",
   "execution_count": 39,
   "metadata": {
    "collapsed": false
   },
   "outputs": [
    {
     "data": {
      "text/html": [
       "<div>\n",
       "<table border=\"1\" class=\"dataframe\">\n",
       "  <thead>\n",
       "    <tr style=\"text-align: right;\">\n",
       "      <th></th>\n",
       "      <th>ohio</th>\n",
       "      <th>texas</th>\n",
       "      <th>california</th>\n",
       "    </tr>\n",
       "  </thead>\n",
       "  <tbody>\n",
       "    <tr>\n",
       "      <th>a</th>\n",
       "      <td>0</td>\n",
       "      <td>1</td>\n",
       "      <td>2</td>\n",
       "    </tr>\n",
       "    <tr>\n",
       "      <th>b</th>\n",
       "      <td>NaN</td>\n",
       "      <td>NaN</td>\n",
       "      <td>NaN</td>\n",
       "    </tr>\n",
       "    <tr>\n",
       "      <th>c</th>\n",
       "      <td>3</td>\n",
       "      <td>4</td>\n",
       "      <td>5</td>\n",
       "    </tr>\n",
       "    <tr>\n",
       "      <th>d</th>\n",
       "      <td>6</td>\n",
       "      <td>7</td>\n",
       "      <td>8</td>\n",
       "    </tr>\n",
       "  </tbody>\n",
       "</table>\n",
       "</div>"
      ],
      "text/plain": [
       "   ohio  texas  california\n",
       "a     0      1           2\n",
       "b   NaN    NaN         NaN\n",
       "c     3      4           5\n",
       "d     6      7           8"
      ]
     },
     "execution_count": 39,
     "metadata": {},
     "output_type": "execute_result"
    }
   ],
   "source": [
    "frame2 = frame.reindex(['a', 'b', 'c', 'd'])  # default to rows' index\n",
    "frame2"
   ]
  },
  {
   "cell_type": "code",
   "execution_count": 40,
   "metadata": {
    "collapsed": false
   },
   "outputs": [
    {
     "data": {
      "text/html": [
       "<div>\n",
       "<table border=\"1\" class=\"dataframe\">\n",
       "  <thead>\n",
       "    <tr style=\"text-align: right;\">\n",
       "      <th></th>\n",
       "      <th>texas</th>\n",
       "      <th>utah</th>\n",
       "      <th>california</th>\n",
       "    </tr>\n",
       "  </thead>\n",
       "  <tbody>\n",
       "    <tr>\n",
       "      <th>a</th>\n",
       "      <td>1</td>\n",
       "      <td>NaN</td>\n",
       "      <td>2</td>\n",
       "    </tr>\n",
       "    <tr>\n",
       "      <th>c</th>\n",
       "      <td>4</td>\n",
       "      <td>NaN</td>\n",
       "      <td>5</td>\n",
       "    </tr>\n",
       "    <tr>\n",
       "      <th>d</th>\n",
       "      <td>7</td>\n",
       "      <td>NaN</td>\n",
       "      <td>8</td>\n",
       "    </tr>\n",
       "  </tbody>\n",
       "</table>\n",
       "</div>"
      ],
      "text/plain": [
       "   texas  utah  california\n",
       "a      1   NaN           2\n",
       "c      4   NaN           5\n",
       "d      7   NaN           8"
      ]
     },
     "execution_count": 40,
     "metadata": {},
     "output_type": "execute_result"
    }
   ],
   "source": [
    "states = ['texas', 'utah', 'california']\n",
    "frame.reindex(columns=states)  # reindex with columns"
   ]
  },
  {
   "cell_type": "code",
   "execution_count": 41,
   "metadata": {
    "collapsed": false
   },
   "outputs": [
    {
     "data": {
      "text/html": [
       "<div>\n",
       "<table border=\"1\" class=\"dataframe\">\n",
       "  <thead>\n",
       "    <tr style=\"text-align: right;\">\n",
       "      <th></th>\n",
       "      <th>texas</th>\n",
       "      <th>utah</th>\n",
       "      <th>california</th>\n",
       "    </tr>\n",
       "  </thead>\n",
       "  <tbody>\n",
       "    <tr>\n",
       "      <th>a</th>\n",
       "      <td>1</td>\n",
       "      <td>NaN</td>\n",
       "      <td>2</td>\n",
       "    </tr>\n",
       "    <tr>\n",
       "      <th>b</th>\n",
       "      <td>1</td>\n",
       "      <td>NaN</td>\n",
       "      <td>2</td>\n",
       "    </tr>\n",
       "    <tr>\n",
       "      <th>c</th>\n",
       "      <td>4</td>\n",
       "      <td>NaN</td>\n",
       "      <td>5</td>\n",
       "    </tr>\n",
       "    <tr>\n",
       "      <th>d</th>\n",
       "      <td>7</td>\n",
       "      <td>NaN</td>\n",
       "      <td>8</td>\n",
       "    </tr>\n",
       "  </tbody>\n",
       "</table>\n",
       "</div>"
      ],
      "text/plain": [
       "   texas  utah  california\n",
       "a      1   NaN           2\n",
       "b      1   NaN           2\n",
       "c      4   NaN           5\n",
       "d      7   NaN           8"
      ]
     },
     "execution_count": 41,
     "metadata": {},
     "output_type": "execute_result"
    }
   ],
   "source": [
    "frame.reindex(index=['a', 'b', 'c', 'd'], method='ffill', columns=states)  # method only apply to rows"
   ]
  },
  {
   "cell_type": "code",
   "execution_count": 42,
   "metadata": {
    "collapsed": false
   },
   "outputs": [
    {
     "data": {
      "text/html": [
       "<div>\n",
       "<table border=\"1\" class=\"dataframe\">\n",
       "  <thead>\n",
       "    <tr style=\"text-align: right;\">\n",
       "      <th></th>\n",
       "      <th>texas</th>\n",
       "      <th>utah</th>\n",
       "      <th>california</th>\n",
       "    </tr>\n",
       "  </thead>\n",
       "  <tbody>\n",
       "    <tr>\n",
       "      <th>a</th>\n",
       "      <td>1</td>\n",
       "      <td>NaN</td>\n",
       "      <td>2</td>\n",
       "    </tr>\n",
       "    <tr>\n",
       "      <th>b</th>\n",
       "      <td>NaN</td>\n",
       "      <td>NaN</td>\n",
       "      <td>NaN</td>\n",
       "    </tr>\n",
       "    <tr>\n",
       "      <th>c</th>\n",
       "      <td>4</td>\n",
       "      <td>NaN</td>\n",
       "      <td>5</td>\n",
       "    </tr>\n",
       "    <tr>\n",
       "      <th>d</th>\n",
       "      <td>7</td>\n",
       "      <td>NaN</td>\n",
       "      <td>8</td>\n",
       "    </tr>\n",
       "  </tbody>\n",
       "</table>\n",
       "</div>"
      ],
      "text/plain": [
       "   texas  utah  california\n",
       "a      1   NaN           2\n",
       "b    NaN   NaN         NaN\n",
       "c      4   NaN           5\n",
       "d      7   NaN           8"
      ]
     },
     "execution_count": 42,
     "metadata": {},
     "output_type": "execute_result"
    }
   ],
   "source": [
    "# alternative for reindexing\n",
    "frame.ix[['a', 'b', 'c', 'd'], states]  # row, column"
   ]
  },
  {
   "cell_type": "markdown",
   "metadata": {},
   "source": [
    "### dropping entries from an axis"
   ]
  },
  {
   "cell_type": "code",
   "execution_count": 43,
   "metadata": {
    "collapsed": false
   },
   "outputs": [
    {
     "data": {
      "text/plain": [
       "a    0\n",
       "b    1\n",
       "d    3\n",
       "e    4\n",
       "dtype: int64"
      ]
     },
     "execution_count": 43,
     "metadata": {},
     "output_type": "execute_result"
    }
   ],
   "source": [
    "obj = Series(np.arange(5), index=['a', 'b', 'c', 'd', 'e'])\n",
    "new_obj = obj.drop('c')  # drop by index\n",
    "new_obj"
   ]
  },
  {
   "cell_type": "code",
   "execution_count": 44,
   "metadata": {
    "collapsed": false
   },
   "outputs": [
    {
     "data": {
      "text/plain": [
       "a    0\n",
       "b    1\n",
       "e    4\n",
       "dtype: int64"
      ]
     },
     "execution_count": 44,
     "metadata": {},
     "output_type": "execute_result"
    }
   ],
   "source": [
    "obj.drop(['d', 'c'])"
   ]
  },
  {
   "cell_type": "code",
   "execution_count": 45,
   "metadata": {
    "collapsed": false
   },
   "outputs": [
    {
     "data": {
      "text/html": [
       "<div>\n",
       "<table border=\"1\" class=\"dataframe\">\n",
       "  <thead>\n",
       "    <tr style=\"text-align: right;\">\n",
       "      <th></th>\n",
       "      <th>one</th>\n",
       "      <th>two</th>\n",
       "      <th>three</th>\n",
       "      <th>four</th>\n",
       "    </tr>\n",
       "  </thead>\n",
       "  <tbody>\n",
       "    <tr>\n",
       "      <th>ohio</th>\n",
       "      <td>0</td>\n",
       "      <td>1</td>\n",
       "      <td>2</td>\n",
       "      <td>3</td>\n",
       "    </tr>\n",
       "    <tr>\n",
       "      <th>colorado</th>\n",
       "      <td>4</td>\n",
       "      <td>5</td>\n",
       "      <td>6</td>\n",
       "      <td>7</td>\n",
       "    </tr>\n",
       "    <tr>\n",
       "      <th>utah</th>\n",
       "      <td>8</td>\n",
       "      <td>9</td>\n",
       "      <td>10</td>\n",
       "      <td>11</td>\n",
       "    </tr>\n",
       "    <tr>\n",
       "      <th>new york</th>\n",
       "      <td>12</td>\n",
       "      <td>13</td>\n",
       "      <td>14</td>\n",
       "      <td>15</td>\n",
       "    </tr>\n",
       "  </tbody>\n",
       "</table>\n",
       "</div>"
      ],
      "text/plain": [
       "          one  two  three  four\n",
       "ohio        0    1      2     3\n",
       "colorado    4    5      6     7\n",
       "utah        8    9     10    11\n",
       "new york   12   13     14    15"
      ]
     },
     "execution_count": 45,
     "metadata": {},
     "output_type": "execute_result"
    }
   ],
   "source": [
    "data = DataFrame(\n",
    "    np.arange(16).reshape((4, 4)),\n",
    "    index=['ohio', 'colorado', 'utah', 'new york'],\n",
    "    columns=['one', 'two', 'three', 'four']\n",
    ")\n",
    "data"
   ]
  },
  {
   "cell_type": "code",
   "execution_count": 46,
   "metadata": {
    "collapsed": false
   },
   "outputs": [
    {
     "data": {
      "text/html": [
       "<div>\n",
       "<table border=\"1\" class=\"dataframe\">\n",
       "  <thead>\n",
       "    <tr style=\"text-align: right;\">\n",
       "      <th></th>\n",
       "      <th>one</th>\n",
       "      <th>two</th>\n",
       "      <th>three</th>\n",
       "      <th>four</th>\n",
       "    </tr>\n",
       "  </thead>\n",
       "  <tbody>\n",
       "    <tr>\n",
       "      <th>utah</th>\n",
       "      <td>8</td>\n",
       "      <td>9</td>\n",
       "      <td>10</td>\n",
       "      <td>11</td>\n",
       "    </tr>\n",
       "    <tr>\n",
       "      <th>new york</th>\n",
       "      <td>12</td>\n",
       "      <td>13</td>\n",
       "      <td>14</td>\n",
       "      <td>15</td>\n",
       "    </tr>\n",
       "  </tbody>\n",
       "</table>\n",
       "</div>"
      ],
      "text/plain": [
       "          one  two  three  four\n",
       "utah        8    9     10    11\n",
       "new york   12   13     14    15"
      ]
     },
     "execution_count": 46,
     "metadata": {},
     "output_type": "execute_result"
    }
   ],
   "source": [
    "data.drop(['colorado', 'ohio'])  # default drop by index"
   ]
  },
  {
   "cell_type": "code",
   "execution_count": 47,
   "metadata": {
    "collapsed": false
   },
   "outputs": [
    {
     "data": {
      "text/html": [
       "<div>\n",
       "<table border=\"1\" class=\"dataframe\">\n",
       "  <thead>\n",
       "    <tr style=\"text-align: right;\">\n",
       "      <th></th>\n",
       "      <th>one</th>\n",
       "      <th>three</th>\n",
       "      <th>four</th>\n",
       "    </tr>\n",
       "  </thead>\n",
       "  <tbody>\n",
       "    <tr>\n",
       "      <th>ohio</th>\n",
       "      <td>0</td>\n",
       "      <td>2</td>\n",
       "      <td>3</td>\n",
       "    </tr>\n",
       "    <tr>\n",
       "      <th>colorado</th>\n",
       "      <td>4</td>\n",
       "      <td>6</td>\n",
       "      <td>7</td>\n",
       "    </tr>\n",
       "    <tr>\n",
       "      <th>utah</th>\n",
       "      <td>8</td>\n",
       "      <td>10</td>\n",
       "      <td>11</td>\n",
       "    </tr>\n",
       "    <tr>\n",
       "      <th>new york</th>\n",
       "      <td>12</td>\n",
       "      <td>14</td>\n",
       "      <td>15</td>\n",
       "    </tr>\n",
       "  </tbody>\n",
       "</table>\n",
       "</div>"
      ],
      "text/plain": [
       "          one  three  four\n",
       "ohio        0      2     3\n",
       "colorado    4      6     7\n",
       "utah        8     10    11\n",
       "new york   12     14    15"
      ]
     },
     "execution_count": 47,
     "metadata": {},
     "output_type": "execute_result"
    }
   ],
   "source": [
    "data.drop('two', axis=1)  # now drop by column"
   ]
  },
  {
   "cell_type": "code",
   "execution_count": 48,
   "metadata": {
    "collapsed": false
   },
   "outputs": [
    {
     "data": {
      "text/html": [
       "<div>\n",
       "<table border=\"1\" class=\"dataframe\">\n",
       "  <thead>\n",
       "    <tr style=\"text-align: right;\">\n",
       "      <th></th>\n",
       "      <th>one</th>\n",
       "      <th>three</th>\n",
       "    </tr>\n",
       "  </thead>\n",
       "  <tbody>\n",
       "    <tr>\n",
       "      <th>ohio</th>\n",
       "      <td>0</td>\n",
       "      <td>2</td>\n",
       "    </tr>\n",
       "    <tr>\n",
       "      <th>colorado</th>\n",
       "      <td>4</td>\n",
       "      <td>6</td>\n",
       "    </tr>\n",
       "    <tr>\n",
       "      <th>utah</th>\n",
       "      <td>8</td>\n",
       "      <td>10</td>\n",
       "    </tr>\n",
       "    <tr>\n",
       "      <th>new york</th>\n",
       "      <td>12</td>\n",
       "      <td>14</td>\n",
       "    </tr>\n",
       "  </tbody>\n",
       "</table>\n",
       "</div>"
      ],
      "text/plain": [
       "          one  three\n",
       "ohio        0      2\n",
       "colorado    4      6\n",
       "utah        8     10\n",
       "new york   12     14"
      ]
     },
     "execution_count": 48,
     "metadata": {},
     "output_type": "execute_result"
    }
   ],
   "source": [
    "data.drop(['two', 'four'], axis=1)"
   ]
  },
  {
   "cell_type": "markdown",
   "metadata": {},
   "source": [
    "### indexing, selection and filtering"
   ]
  },
  {
   "cell_type": "code",
   "execution_count": 49,
   "metadata": {
    "collapsed": false
   },
   "outputs": [
    {
     "data": {
      "text/plain": [
       "a    0\n",
       "b    1\n",
       "c    2\n",
       "d    3\n",
       "dtype: int64"
      ]
     },
     "execution_count": 49,
     "metadata": {},
     "output_type": "execute_result"
    }
   ],
   "source": [
    "obj = Series(np.arange(4), index=['a', 'b', 'c', 'd'])\n",
    "obj"
   ]
  },
  {
   "cell_type": "code",
   "execution_count": 50,
   "metadata": {
    "collapsed": false
   },
   "outputs": [
    {
     "data": {
      "text/plain": [
       "1"
      ]
     },
     "execution_count": 50,
     "metadata": {},
     "output_type": "execute_result"
    }
   ],
   "source": [
    "obj['b']  # select by index, default to select from rows for SERIES"
   ]
  },
  {
   "cell_type": "code",
   "execution_count": 51,
   "metadata": {
    "collapsed": false
   },
   "outputs": [
    {
     "data": {
      "text/plain": [
       "1"
      ]
     },
     "execution_count": 51,
     "metadata": {},
     "output_type": "execute_result"
    }
   ],
   "source": [
    "obj[1]  # select by row number"
   ]
  },
  {
   "cell_type": "code",
   "execution_count": 52,
   "metadata": {
    "collapsed": false
   },
   "outputs": [
    {
     "data": {
      "text/plain": [
       "c    2\n",
       "d    3\n",
       "dtype: int64"
      ]
     },
     "execution_count": 52,
     "metadata": {},
     "output_type": "execute_result"
    }
   ],
   "source": [
    "obj[2:4]"
   ]
  },
  {
   "cell_type": "code",
   "execution_count": 53,
   "metadata": {
    "collapsed": false
   },
   "outputs": [
    {
     "data": {
      "text/plain": [
       "b    1\n",
       "c    2\n",
       "a    0\n",
       "dtype: int64"
      ]
     },
     "execution_count": 53,
     "metadata": {},
     "output_type": "execute_result"
    }
   ],
   "source": [
    "obj[['b', 'c', 'a']]"
   ]
  },
  {
   "cell_type": "code",
   "execution_count": 54,
   "metadata": {
    "collapsed": false
   },
   "outputs": [
    {
     "data": {
      "text/plain": [
       "b    1\n",
       "d    3\n",
       "dtype: int64"
      ]
     },
     "execution_count": 54,
     "metadata": {},
     "output_type": "execute_result"
    }
   ],
   "source": [
    "obj[[1, 3]]"
   ]
  },
  {
   "cell_type": "code",
   "execution_count": 55,
   "metadata": {
    "collapsed": false
   },
   "outputs": [
    {
     "data": {
      "text/plain": [
       "a    0\n",
       "b    1\n",
       "dtype: int64"
      ]
     },
     "execution_count": 55,
     "metadata": {},
     "output_type": "execute_result"
    }
   ],
   "source": [
    "obj[obj < 2]"
   ]
  },
  {
   "cell_type": "code",
   "execution_count": 56,
   "metadata": {
    "collapsed": false
   },
   "outputs": [
    {
     "data": {
      "text/plain": [
       "b    1\n",
       "c    2\n",
       "dtype: int64"
      ]
     },
     "execution_count": 56,
     "metadata": {},
     "output_type": "execute_result"
    }
   ],
   "source": [
    "obj['b': 'c']  # slicing with labels, INCLUSIVE"
   ]
  },
  {
   "cell_type": "code",
   "execution_count": 57,
   "metadata": {
    "collapsed": true
   },
   "outputs": [],
   "source": [
    "obj['b', 'c'] = 5"
   ]
  },
  {
   "cell_type": "code",
   "execution_count": 58,
   "metadata": {
    "collapsed": false
   },
   "outputs": [
    {
     "data": {
      "text/plain": [
       "a    0\n",
       "b    5\n",
       "c    5\n",
       "d    3\n",
       "dtype: int64"
      ]
     },
     "execution_count": 58,
     "metadata": {},
     "output_type": "execute_result"
    }
   ],
   "source": [
    "obj"
   ]
  },
  {
   "cell_type": "code",
   "execution_count": 59,
   "metadata": {
    "collapsed": false
   },
   "outputs": [
    {
     "data": {
      "text/html": [
       "<div>\n",
       "<table border=\"1\" class=\"dataframe\">\n",
       "  <thead>\n",
       "    <tr style=\"text-align: right;\">\n",
       "      <th></th>\n",
       "      <th>one</th>\n",
       "      <th>two</th>\n",
       "      <th>three</th>\n",
       "      <th>four</th>\n",
       "    </tr>\n",
       "  </thead>\n",
       "  <tbody>\n",
       "    <tr>\n",
       "      <th>ohio</th>\n",
       "      <td>0</td>\n",
       "      <td>1</td>\n",
       "      <td>2</td>\n",
       "      <td>3</td>\n",
       "    </tr>\n",
       "    <tr>\n",
       "      <th>colorado</th>\n",
       "      <td>4</td>\n",
       "      <td>5</td>\n",
       "      <td>6</td>\n",
       "      <td>7</td>\n",
       "    </tr>\n",
       "    <tr>\n",
       "      <th>utah</th>\n",
       "      <td>8</td>\n",
       "      <td>9</td>\n",
       "      <td>10</td>\n",
       "      <td>11</td>\n",
       "    </tr>\n",
       "    <tr>\n",
       "      <th>new york</th>\n",
       "      <td>12</td>\n",
       "      <td>13</td>\n",
       "      <td>14</td>\n",
       "      <td>15</td>\n",
       "    </tr>\n",
       "  </tbody>\n",
       "</table>\n",
       "</div>"
      ],
      "text/plain": [
       "          one  two  three  four\n",
       "ohio        0    1      2     3\n",
       "colorado    4    5      6     7\n",
       "utah        8    9     10    11\n",
       "new york   12   13     14    15"
      ]
     },
     "execution_count": 59,
     "metadata": {},
     "output_type": "execute_result"
    }
   ],
   "source": [
    "data = DataFrame(\n",
    "    np.arange(16).reshape(4, 4),\n",
    "    index=['ohio', 'colorado', 'utah', 'new york'],\n",
    "    columns=['one', 'two', 'three', 'four']\n",
    ")\n",
    "data"
   ]
  },
  {
   "cell_type": "code",
   "execution_count": 60,
   "metadata": {
    "collapsed": false
   },
   "outputs": [
    {
     "data": {
      "text/plain": [
       "ohio         1\n",
       "colorado     5\n",
       "utah         9\n",
       "new york    13\n",
       "Name: two, dtype: int64"
      ]
     },
     "execution_count": 60,
     "metadata": {},
     "output_type": "execute_result"
    }
   ],
   "source": [
    "data['two']  # now select by column index"
   ]
  },
  {
   "cell_type": "code",
   "execution_count": 61,
   "metadata": {
    "collapsed": false
   },
   "outputs": [
    {
     "data": {
      "text/html": [
       "<div>\n",
       "<table border=\"1\" class=\"dataframe\">\n",
       "  <thead>\n",
       "    <tr style=\"text-align: right;\">\n",
       "      <th></th>\n",
       "      <th>three</th>\n",
       "      <th>one</th>\n",
       "    </tr>\n",
       "  </thead>\n",
       "  <tbody>\n",
       "    <tr>\n",
       "      <th>ohio</th>\n",
       "      <td>2</td>\n",
       "      <td>0</td>\n",
       "    </tr>\n",
       "    <tr>\n",
       "      <th>colorado</th>\n",
       "      <td>6</td>\n",
       "      <td>4</td>\n",
       "    </tr>\n",
       "    <tr>\n",
       "      <th>utah</th>\n",
       "      <td>10</td>\n",
       "      <td>8</td>\n",
       "    </tr>\n",
       "    <tr>\n",
       "      <th>new york</th>\n",
       "      <td>14</td>\n",
       "      <td>12</td>\n",
       "    </tr>\n",
       "  </tbody>\n",
       "</table>\n",
       "</div>"
      ],
      "text/plain": [
       "          three  one\n",
       "ohio          2    0\n",
       "colorado      6    4\n",
       "utah         10    8\n",
       "new york     14   12"
      ]
     },
     "execution_count": 61,
     "metadata": {},
     "output_type": "execute_result"
    }
   ],
   "source": [
    "data[['three', 'one']]  # default for DataFrame is select index in COLUMNS"
   ]
  },
  {
   "cell_type": "code",
   "execution_count": 62,
   "metadata": {
    "collapsed": false
   },
   "outputs": [
    {
     "data": {
      "text/html": [
       "<div>\n",
       "<table border=\"1\" class=\"dataframe\">\n",
       "  <thead>\n",
       "    <tr style=\"text-align: right;\">\n",
       "      <th></th>\n",
       "      <th>one</th>\n",
       "      <th>two</th>\n",
       "      <th>three</th>\n",
       "      <th>four</th>\n",
       "    </tr>\n",
       "  </thead>\n",
       "  <tbody>\n",
       "    <tr>\n",
       "      <th>ohio</th>\n",
       "      <td>0</td>\n",
       "      <td>1</td>\n",
       "      <td>2</td>\n",
       "      <td>3</td>\n",
       "    </tr>\n",
       "    <tr>\n",
       "      <th>colorado</th>\n",
       "      <td>4</td>\n",
       "      <td>5</td>\n",
       "      <td>6</td>\n",
       "      <td>7</td>\n",
       "    </tr>\n",
       "  </tbody>\n",
       "</table>\n",
       "</div>"
      ],
      "text/plain": [
       "          one  two  three  four\n",
       "ohio        0    1      2     3\n",
       "colorado    4    5      6     7"
      ]
     },
     "execution_count": 62,
     "metadata": {},
     "output_type": "execute_result"
    }
   ],
   "source": [
    "# special case 1: select by slicing, in ROWS\n",
    "data[:2]"
   ]
  },
  {
   "cell_type": "code",
   "execution_count": 63,
   "metadata": {
    "collapsed": false
   },
   "outputs": [
    {
     "data": {
      "text/html": [
       "<div>\n",
       "<table border=\"1\" class=\"dataframe\">\n",
       "  <thead>\n",
       "    <tr style=\"text-align: right;\">\n",
       "      <th></th>\n",
       "      <th>one</th>\n",
       "      <th>two</th>\n",
       "      <th>three</th>\n",
       "      <th>four</th>\n",
       "    </tr>\n",
       "  </thead>\n",
       "  <tbody>\n",
       "    <tr>\n",
       "      <th>colorado</th>\n",
       "      <td>4</td>\n",
       "      <td>5</td>\n",
       "      <td>6</td>\n",
       "      <td>7</td>\n",
       "    </tr>\n",
       "    <tr>\n",
       "      <th>utah</th>\n",
       "      <td>8</td>\n",
       "      <td>9</td>\n",
       "      <td>10</td>\n",
       "      <td>11</td>\n",
       "    </tr>\n",
       "    <tr>\n",
       "      <th>new york</th>\n",
       "      <td>12</td>\n",
       "      <td>13</td>\n",
       "      <td>14</td>\n",
       "      <td>15</td>\n",
       "    </tr>\n",
       "  </tbody>\n",
       "</table>\n",
       "</div>"
      ],
      "text/plain": [
       "          one  two  three  four\n",
       "colorado    4    5      6     7\n",
       "utah        8    9     10    11\n",
       "new york   12   13     14    15"
      ]
     },
     "execution_count": 63,
     "metadata": {},
     "output_type": "execute_result"
    }
   ],
   "source": [
    "# special case 2: select by boolean array, making DataFrame more numpy array-like\n",
    "data[data['three'] > 5]"
   ]
  },
  {
   "cell_type": "code",
   "execution_count": 64,
   "metadata": {
    "collapsed": false
   },
   "outputs": [
    {
     "data": {
      "text/html": [
       "<div>\n",
       "<table border=\"1\" class=\"dataframe\">\n",
       "  <thead>\n",
       "    <tr style=\"text-align: right;\">\n",
       "      <th></th>\n",
       "      <th>one</th>\n",
       "      <th>two</th>\n",
       "      <th>three</th>\n",
       "      <th>four</th>\n",
       "    </tr>\n",
       "  </thead>\n",
       "  <tbody>\n",
       "    <tr>\n",
       "      <th>ohio</th>\n",
       "      <td>True</td>\n",
       "      <td>True</td>\n",
       "      <td>True</td>\n",
       "      <td>True</td>\n",
       "    </tr>\n",
       "    <tr>\n",
       "      <th>colorado</th>\n",
       "      <td>True</td>\n",
       "      <td>False</td>\n",
       "      <td>False</td>\n",
       "      <td>False</td>\n",
       "    </tr>\n",
       "    <tr>\n",
       "      <th>utah</th>\n",
       "      <td>False</td>\n",
       "      <td>False</td>\n",
       "      <td>False</td>\n",
       "      <td>False</td>\n",
       "    </tr>\n",
       "    <tr>\n",
       "      <th>new york</th>\n",
       "      <td>False</td>\n",
       "      <td>False</td>\n",
       "      <td>False</td>\n",
       "      <td>False</td>\n",
       "    </tr>\n",
       "  </tbody>\n",
       "</table>\n",
       "</div>"
      ],
      "text/plain": [
       "            one    two  three   four\n",
       "ohio       True   True   True   True\n",
       "colorado   True  False  False  False\n",
       "utah      False  False  False  False\n",
       "new york  False  False  False  False"
      ]
     },
     "execution_count": 64,
     "metadata": {},
     "output_type": "execute_result"
    }
   ],
   "source": [
    "data < 5"
   ]
  },
  {
   "cell_type": "code",
   "execution_count": 65,
   "metadata": {
    "collapsed": false
   },
   "outputs": [
    {
     "data": {
      "text/html": [
       "<div>\n",
       "<table border=\"1\" class=\"dataframe\">\n",
       "  <thead>\n",
       "    <tr style=\"text-align: right;\">\n",
       "      <th></th>\n",
       "      <th>one</th>\n",
       "      <th>two</th>\n",
       "      <th>three</th>\n",
       "      <th>four</th>\n",
       "    </tr>\n",
       "  </thead>\n",
       "  <tbody>\n",
       "    <tr>\n",
       "      <th>ohio</th>\n",
       "      <td>0</td>\n",
       "      <td>0</td>\n",
       "      <td>0</td>\n",
       "      <td>0</td>\n",
       "    </tr>\n",
       "    <tr>\n",
       "      <th>colorado</th>\n",
       "      <td>0</td>\n",
       "      <td>5</td>\n",
       "      <td>6</td>\n",
       "      <td>7</td>\n",
       "    </tr>\n",
       "    <tr>\n",
       "      <th>utah</th>\n",
       "      <td>8</td>\n",
       "      <td>9</td>\n",
       "      <td>10</td>\n",
       "      <td>11</td>\n",
       "    </tr>\n",
       "    <tr>\n",
       "      <th>new york</th>\n",
       "      <td>12</td>\n",
       "      <td>13</td>\n",
       "      <td>14</td>\n",
       "      <td>15</td>\n",
       "    </tr>\n",
       "  </tbody>\n",
       "</table>\n",
       "</div>"
      ],
      "text/plain": [
       "          one  two  three  four\n",
       "ohio        0    0      0     0\n",
       "colorado    0    5      6     7\n",
       "utah        8    9     10    11\n",
       "new york   12   13     14    15"
      ]
     },
     "execution_count": 65,
     "metadata": {},
     "output_type": "execute_result"
    }
   ],
   "source": [
    "data[data < 5] = 0\n",
    "data"
   ]
  },
  {
   "cell_type": "code",
   "execution_count": 66,
   "metadata": {
    "collapsed": false
   },
   "outputs": [
    {
     "data": {
      "text/plain": [
       "two      5\n",
       "three    6\n",
       "Name: colorado, dtype: int64"
      ]
     },
     "execution_count": 66,
     "metadata": {},
     "output_type": "execute_result"
    }
   ],
   "source": [
    "### for DataFrame label indexing in ROWS? use ix()\n",
    "data.ix['colorado', ['two', 'three']]  # row, column"
   ]
  },
  {
   "cell_type": "code",
   "execution_count": 68,
   "metadata": {
    "collapsed": false
   },
   "outputs": [
    {
     "data": {
      "text/html": [
       "<div>\n",
       "<table border=\"1\" class=\"dataframe\">\n",
       "  <thead>\n",
       "    <tr style=\"text-align: right;\">\n",
       "      <th></th>\n",
       "      <th>four</th>\n",
       "      <th>one</th>\n",
       "      <th>two</th>\n",
       "    </tr>\n",
       "  </thead>\n",
       "  <tbody>\n",
       "    <tr>\n",
       "      <th>colorado</th>\n",
       "      <td>7</td>\n",
       "      <td>0</td>\n",
       "      <td>5</td>\n",
       "    </tr>\n",
       "    <tr>\n",
       "      <th>utah</th>\n",
       "      <td>11</td>\n",
       "      <td>8</td>\n",
       "      <td>9</td>\n",
       "    </tr>\n",
       "  </tbody>\n",
       "</table>\n",
       "</div>"
      ],
      "text/plain": [
       "          four  one  two\n",
       "colorado     7    0    5\n",
       "utah        11    8    9"
      ]
     },
     "execution_count": 68,
     "metadata": {},
     "output_type": "execute_result"
    }
   ],
   "source": [
    "data.ix[['colorado', 'utah'], [3, 0, 1]]  # always row, column"
   ]
  },
  {
   "cell_type": "code",
   "execution_count": 69,
   "metadata": {
    "collapsed": false
   },
   "outputs": [
    {
     "data": {
      "text/plain": [
       "one       8\n",
       "two       9\n",
       "three    10\n",
       "four     11\n",
       "Name: utah, dtype: int64"
      ]
     },
     "execution_count": 69,
     "metadata": {},
     "output_type": "execute_result"
    }
   ],
   "source": [
    "data.ix[2]"
   ]
  },
  {
   "cell_type": "code",
   "execution_count": 71,
   "metadata": {
    "collapsed": false
   },
   "outputs": [
    {
     "data": {
      "text/plain": [
       "ohio        0\n",
       "colorado    5\n",
       "utah        9\n",
       "Name: two, dtype: int64"
      ]
     },
     "execution_count": 71,
     "metadata": {},
     "output_type": "execute_result"
    }
   ],
   "source": [
    "data.ix[:'utah', 'two']  # slicing with index"
   ]
  },
  {
   "cell_type": "code",
   "execution_count": 72,
   "metadata": {
    "collapsed": false
   },
   "outputs": [
    {
     "data": {
      "text/html": [
       "<div>\n",
       "<table border=\"1\" class=\"dataframe\">\n",
       "  <thead>\n",
       "    <tr style=\"text-align: right;\">\n",
       "      <th></th>\n",
       "      <th>one</th>\n",
       "      <th>two</th>\n",
       "      <th>three</th>\n",
       "    </tr>\n",
       "  </thead>\n",
       "  <tbody>\n",
       "    <tr>\n",
       "      <th>colorado</th>\n",
       "      <td>0</td>\n",
       "      <td>5</td>\n",
       "      <td>6</td>\n",
       "    </tr>\n",
       "    <tr>\n",
       "      <th>utah</th>\n",
       "      <td>8</td>\n",
       "      <td>9</td>\n",
       "      <td>10</td>\n",
       "    </tr>\n",
       "    <tr>\n",
       "      <th>new york</th>\n",
       "      <td>12</td>\n",
       "      <td>13</td>\n",
       "      <td>14</td>\n",
       "    </tr>\n",
       "  </tbody>\n",
       "</table>\n",
       "</div>"
      ],
      "text/plain": [
       "          one  two  three\n",
       "colorado    0    5      6\n",
       "utah        8    9     10\n",
       "new york   12   13     14"
      ]
     },
     "execution_count": 72,
     "metadata": {},
     "output_type": "execute_result"
    }
   ],
   "source": [
    "data.ix[data.three > 5, :3]"
   ]
  },
  {
   "cell_type": "markdown",
   "metadata": {
    "collapsed": true
   },
   "source": [
    "### arithmetic and data alignment"
   ]
  },
  {
   "cell_type": "code",
   "execution_count": 1,
   "metadata": {
    "collapsed": true
   },
   "outputs": [],
   "source": [
    "from pandas import Series, DataFrame\n",
    "import pandas as pd\n",
    "import numpy as np"
   ]
  },
  {
   "cell_type": "code",
   "execution_count": 2,
   "metadata": {
    "collapsed": false
   },
   "outputs": [
    {
     "data": {
      "text/plain": [
       "(a    7.3\n",
       " c   -2.5\n",
       " d    3.4\n",
       " e    1.5\n",
       " dtype: float64, a   -2.1\n",
       " c    3.6\n",
       " e   -1.5\n",
       " f    4.0\n",
       " g    3.1\n",
       " dtype: float64)"
      ]
     },
     "execution_count": 2,
     "metadata": {},
     "output_type": "execute_result"
    }
   ],
   "source": [
    "s1 = Series([7.3, -2.5, 3.4, 1.5], index=['a', 'c', 'd', 'e'])\n",
    "s2 = Series([-2.1, 3.6, -1.5, 4, 3.1], index=['a', 'c', 'e', 'f', 'g'])\n",
    "s1, s2"
   ]
  },
  {
   "cell_type": "code",
   "execution_count": 3,
   "metadata": {
    "collapsed": false
   },
   "outputs": [
    {
     "data": {
      "text/plain": [
       "a    5.2\n",
       "c    1.1\n",
       "d    NaN\n",
       "e    0.0\n",
       "f    NaN\n",
       "g    NaN\n",
       "dtype: float64"
      ]
     },
     "execution_count": 3,
     "metadata": {},
     "output_type": "execute_result"
    }
   ],
   "source": [
    "s1 + s2  # case for Series"
   ]
  },
  {
   "cell_type": "code",
   "execution_count": 4,
   "metadata": {
    "collapsed": false
   },
   "outputs": [
    {
     "data": {
      "text/plain": [
       "(          b  c  d\n",
       " ohio      0  1  2\n",
       " texas     3  4  5\n",
       " colorado  6  7  8,         b   d   e\n",
       " utah    0   1   2\n",
       " ohio    3   4   5\n",
       " texas   6   7   8\n",
       " oregon  9  10  11)"
      ]
     },
     "execution_count": 4,
     "metadata": {},
     "output_type": "execute_result"
    }
   ],
   "source": [
    "df1 = DataFrame(\n",
    "    np.arange(9).reshape((3, 3)),\n",
    "    columns=list('bcd'),\n",
    "    index=['ohio', 'texas', 'colorado']\n",
    ")\n",
    "df2 = DataFrame(\n",
    "    np.arange(12).reshape((4, 3)),\n",
    "    columns=list('bde'),\n",
    "    index=['utah', 'ohio', 'texas', 'oregon']\n",
    ")\n",
    "df1, df2"
   ]
  },
  {
   "cell_type": "code",
   "execution_count": 5,
   "metadata": {
    "collapsed": false
   },
   "outputs": [
    {
     "data": {
      "text/html": [
       "<div>\n",
       "<table border=\"1\" class=\"dataframe\">\n",
       "  <thead>\n",
       "    <tr style=\"text-align: right;\">\n",
       "      <th></th>\n",
       "      <th>b</th>\n",
       "      <th>c</th>\n",
       "      <th>d</th>\n",
       "      <th>e</th>\n",
       "    </tr>\n",
       "  </thead>\n",
       "  <tbody>\n",
       "    <tr>\n",
       "      <th>colorado</th>\n",
       "      <td>NaN</td>\n",
       "      <td>NaN</td>\n",
       "      <td>NaN</td>\n",
       "      <td>NaN</td>\n",
       "    </tr>\n",
       "    <tr>\n",
       "      <th>ohio</th>\n",
       "      <td>3</td>\n",
       "      <td>NaN</td>\n",
       "      <td>6</td>\n",
       "      <td>NaN</td>\n",
       "    </tr>\n",
       "    <tr>\n",
       "      <th>oregon</th>\n",
       "      <td>NaN</td>\n",
       "      <td>NaN</td>\n",
       "      <td>NaN</td>\n",
       "      <td>NaN</td>\n",
       "    </tr>\n",
       "    <tr>\n",
       "      <th>texas</th>\n",
       "      <td>9</td>\n",
       "      <td>NaN</td>\n",
       "      <td>12</td>\n",
       "      <td>NaN</td>\n",
       "    </tr>\n",
       "    <tr>\n",
       "      <th>utah</th>\n",
       "      <td>NaN</td>\n",
       "      <td>NaN</td>\n",
       "      <td>NaN</td>\n",
       "      <td>NaN</td>\n",
       "    </tr>\n",
       "  </tbody>\n",
       "</table>\n",
       "</div>"
      ],
      "text/plain": [
       "           b   c   d   e\n",
       "colorado NaN NaN NaN NaN\n",
       "ohio       3 NaN   6 NaN\n",
       "oregon   NaN NaN NaN NaN\n",
       "texas      9 NaN  12 NaN\n",
       "utah     NaN NaN NaN NaN"
      ]
     },
     "execution_count": 5,
     "metadata": {},
     "output_type": "execute_result"
    }
   ],
   "source": [
    "df1 + df2"
   ]
  },
  {
   "cell_type": "markdown",
   "metadata": {},
   "source": [
    "### arithmetic methods with fill values"
   ]
  },
  {
   "cell_type": "code",
   "execution_count": 6,
   "metadata": {
    "collapsed": true
   },
   "outputs": [],
   "source": [
    "df1 = DataFrame(np.arange(12).reshape(3, 4), columns=list('abcd'))\n",
    "df2 = DataFrame(np.arange(20).reshape(4, 5), columns=list('abcde'))"
   ]
  },
  {
   "cell_type": "code",
   "execution_count": 7,
   "metadata": {
    "collapsed": false
   },
   "outputs": [
    {
     "data": {
      "text/html": [
       "<div>\n",
       "<table border=\"1\" class=\"dataframe\">\n",
       "  <thead>\n",
       "    <tr style=\"text-align: right;\">\n",
       "      <th></th>\n",
       "      <th>a</th>\n",
       "      <th>b</th>\n",
       "      <th>c</th>\n",
       "      <th>d</th>\n",
       "    </tr>\n",
       "  </thead>\n",
       "  <tbody>\n",
       "    <tr>\n",
       "      <th>0</th>\n",
       "      <td>0</td>\n",
       "      <td>1</td>\n",
       "      <td>2</td>\n",
       "      <td>3</td>\n",
       "    </tr>\n",
       "    <tr>\n",
       "      <th>1</th>\n",
       "      <td>4</td>\n",
       "      <td>5</td>\n",
       "      <td>6</td>\n",
       "      <td>7</td>\n",
       "    </tr>\n",
       "    <tr>\n",
       "      <th>2</th>\n",
       "      <td>8</td>\n",
       "      <td>9</td>\n",
       "      <td>10</td>\n",
       "      <td>11</td>\n",
       "    </tr>\n",
       "  </tbody>\n",
       "</table>\n",
       "</div>"
      ],
      "text/plain": [
       "   a  b   c   d\n",
       "0  0  1   2   3\n",
       "1  4  5   6   7\n",
       "2  8  9  10  11"
      ]
     },
     "execution_count": 7,
     "metadata": {},
     "output_type": "execute_result"
    }
   ],
   "source": [
    "df1"
   ]
  },
  {
   "cell_type": "code",
   "execution_count": 8,
   "metadata": {
    "collapsed": false
   },
   "outputs": [
    {
     "data": {
      "text/html": [
       "<div>\n",
       "<table border=\"1\" class=\"dataframe\">\n",
       "  <thead>\n",
       "    <tr style=\"text-align: right;\">\n",
       "      <th></th>\n",
       "      <th>a</th>\n",
       "      <th>b</th>\n",
       "      <th>c</th>\n",
       "      <th>d</th>\n",
       "      <th>e</th>\n",
       "    </tr>\n",
       "  </thead>\n",
       "  <tbody>\n",
       "    <tr>\n",
       "      <th>0</th>\n",
       "      <td>0</td>\n",
       "      <td>1</td>\n",
       "      <td>2</td>\n",
       "      <td>3</td>\n",
       "      <td>4</td>\n",
       "    </tr>\n",
       "    <tr>\n",
       "      <th>1</th>\n",
       "      <td>5</td>\n",
       "      <td>6</td>\n",
       "      <td>7</td>\n",
       "      <td>8</td>\n",
       "      <td>9</td>\n",
       "    </tr>\n",
       "    <tr>\n",
       "      <th>2</th>\n",
       "      <td>10</td>\n",
       "      <td>11</td>\n",
       "      <td>12</td>\n",
       "      <td>13</td>\n",
       "      <td>14</td>\n",
       "    </tr>\n",
       "    <tr>\n",
       "      <th>3</th>\n",
       "      <td>15</td>\n",
       "      <td>16</td>\n",
       "      <td>17</td>\n",
       "      <td>18</td>\n",
       "      <td>19</td>\n",
       "    </tr>\n",
       "  </tbody>\n",
       "</table>\n",
       "</div>"
      ],
      "text/plain": [
       "    a   b   c   d   e\n",
       "0   0   1   2   3   4\n",
       "1   5   6   7   8   9\n",
       "2  10  11  12  13  14\n",
       "3  15  16  17  18  19"
      ]
     },
     "execution_count": 8,
     "metadata": {},
     "output_type": "execute_result"
    }
   ],
   "source": [
    "df2"
   ]
  },
  {
   "cell_type": "code",
   "execution_count": 9,
   "metadata": {
    "collapsed": false
   },
   "outputs": [
    {
     "data": {
      "text/html": [
       "<div>\n",
       "<table border=\"1\" class=\"dataframe\">\n",
       "  <thead>\n",
       "    <tr style=\"text-align: right;\">\n",
       "      <th></th>\n",
       "      <th>a</th>\n",
       "      <th>b</th>\n",
       "      <th>c</th>\n",
       "      <th>d</th>\n",
       "      <th>e</th>\n",
       "    </tr>\n",
       "  </thead>\n",
       "  <tbody>\n",
       "    <tr>\n",
       "      <th>0</th>\n",
       "      <td>0</td>\n",
       "      <td>2</td>\n",
       "      <td>4</td>\n",
       "      <td>6</td>\n",
       "      <td>NaN</td>\n",
       "    </tr>\n",
       "    <tr>\n",
       "      <th>1</th>\n",
       "      <td>9</td>\n",
       "      <td>11</td>\n",
       "      <td>13</td>\n",
       "      <td>15</td>\n",
       "      <td>NaN</td>\n",
       "    </tr>\n",
       "    <tr>\n",
       "      <th>2</th>\n",
       "      <td>18</td>\n",
       "      <td>20</td>\n",
       "      <td>22</td>\n",
       "      <td>24</td>\n",
       "      <td>NaN</td>\n",
       "    </tr>\n",
       "    <tr>\n",
       "      <th>3</th>\n",
       "      <td>NaN</td>\n",
       "      <td>NaN</td>\n",
       "      <td>NaN</td>\n",
       "      <td>NaN</td>\n",
       "      <td>NaN</td>\n",
       "    </tr>\n",
       "  </tbody>\n",
       "</table>\n",
       "</div>"
      ],
      "text/plain": [
       "    a   b   c   d   e\n",
       "0   0   2   4   6 NaN\n",
       "1   9  11  13  15 NaN\n",
       "2  18  20  22  24 NaN\n",
       "3 NaN NaN NaN NaN NaN"
      ]
     },
     "execution_count": 9,
     "metadata": {},
     "output_type": "execute_result"
    }
   ],
   "source": [
    "df1 + df2"
   ]
  },
  {
   "cell_type": "code",
   "execution_count": 10,
   "metadata": {
    "collapsed": false
   },
   "outputs": [
    {
     "data": {
      "text/html": [
       "<div>\n",
       "<table border=\"1\" class=\"dataframe\">\n",
       "  <thead>\n",
       "    <tr style=\"text-align: right;\">\n",
       "      <th></th>\n",
       "      <th>a</th>\n",
       "      <th>b</th>\n",
       "      <th>c</th>\n",
       "      <th>d</th>\n",
       "      <th>e</th>\n",
       "    </tr>\n",
       "  </thead>\n",
       "  <tbody>\n",
       "    <tr>\n",
       "      <th>0</th>\n",
       "      <td>0</td>\n",
       "      <td>2</td>\n",
       "      <td>4</td>\n",
       "      <td>6</td>\n",
       "      <td>4</td>\n",
       "    </tr>\n",
       "    <tr>\n",
       "      <th>1</th>\n",
       "      <td>9</td>\n",
       "      <td>11</td>\n",
       "      <td>13</td>\n",
       "      <td>15</td>\n",
       "      <td>9</td>\n",
       "    </tr>\n",
       "    <tr>\n",
       "      <th>2</th>\n",
       "      <td>18</td>\n",
       "      <td>20</td>\n",
       "      <td>22</td>\n",
       "      <td>24</td>\n",
       "      <td>14</td>\n",
       "    </tr>\n",
       "    <tr>\n",
       "      <th>3</th>\n",
       "      <td>15</td>\n",
       "      <td>16</td>\n",
       "      <td>17</td>\n",
       "      <td>18</td>\n",
       "      <td>19</td>\n",
       "    </tr>\n",
       "  </tbody>\n",
       "</table>\n",
       "</div>"
      ],
      "text/plain": [
       "    a   b   c   d   e\n",
       "0   0   2   4   6   4\n",
       "1   9  11  13  15   9\n",
       "2  18  20  22  24  14\n",
       "3  15  16  17  18  19"
      ]
     },
     "execution_count": 10,
     "metadata": {},
     "output_type": "execute_result"
    }
   ],
   "source": [
    "df1.add(df2, fill_value=0)  # use method to add fill_value"
   ]
  },
  {
   "cell_type": "code",
   "execution_count": 11,
   "metadata": {
    "collapsed": false
   },
   "outputs": [
    {
     "data": {
      "text/html": [
       "<div>\n",
       "<table border=\"1\" class=\"dataframe\">\n",
       "  <thead>\n",
       "    <tr style=\"text-align: right;\">\n",
       "      <th></th>\n",
       "      <th>a</th>\n",
       "      <th>b</th>\n",
       "      <th>c</th>\n",
       "      <th>d</th>\n",
       "      <th>e</th>\n",
       "    </tr>\n",
       "  </thead>\n",
       "  <tbody>\n",
       "    <tr>\n",
       "      <th>0</th>\n",
       "      <td>0</td>\n",
       "      <td>1</td>\n",
       "      <td>2</td>\n",
       "      <td>3</td>\n",
       "      <td>0</td>\n",
       "    </tr>\n",
       "    <tr>\n",
       "      <th>1</th>\n",
       "      <td>4</td>\n",
       "      <td>5</td>\n",
       "      <td>6</td>\n",
       "      <td>7</td>\n",
       "      <td>0</td>\n",
       "    </tr>\n",
       "    <tr>\n",
       "      <th>2</th>\n",
       "      <td>8</td>\n",
       "      <td>9</td>\n",
       "      <td>10</td>\n",
       "      <td>11</td>\n",
       "      <td>0</td>\n",
       "    </tr>\n",
       "  </tbody>\n",
       "</table>\n",
       "</div>"
      ],
      "text/plain": [
       "   a  b   c   d  e\n",
       "0  0  1   2   3  0\n",
       "1  4  5   6   7  0\n",
       "2  8  9  10  11  0"
      ]
     },
     "execution_count": 11,
     "metadata": {},
     "output_type": "execute_result"
    }
   ],
   "source": [
    "df1.reindex(columns=df2.columns, fill_value=0)  # reindex with fill_value"
   ]
  },
  {
   "cell_type": "markdown",
   "metadata": {},
   "source": [
    "### operation between DataFrame and Series"
   ]
  },
  {
   "cell_type": "code",
   "execution_count": 12,
   "metadata": {
    "collapsed": false
   },
   "outputs": [
    {
     "data": {
      "text/plain": [
       "array([[ 0,  1,  2,  3],\n",
       "       [ 4,  5,  6,  7],\n",
       "       [ 8,  9, 10, 11]])"
      ]
     },
     "execution_count": 12,
     "metadata": {},
     "output_type": "execute_result"
    }
   ],
   "source": [
    "arr = np.arange(12).reshape((3, 4))\n",
    "arr"
   ]
  },
  {
   "cell_type": "code",
   "execution_count": 14,
   "metadata": {
    "collapsed": false
   },
   "outputs": [
    {
     "data": {
      "text/plain": [
       "array([0, 1, 2, 3])"
      ]
     },
     "execution_count": 14,
     "metadata": {},
     "output_type": "execute_result"
    }
   ],
   "source": [
    "arr[0]"
   ]
  },
  {
   "cell_type": "code",
   "execution_count": 15,
   "metadata": {
    "collapsed": false
   },
   "outputs": [
    {
     "data": {
      "text/plain": [
       "array([[0, 0, 0, 0],\n",
       "       [4, 4, 4, 4],\n",
       "       [8, 8, 8, 8]])"
      ]
     },
     "execution_count": 15,
     "metadata": {},
     "output_type": "execute_result"
    }
   ],
   "source": [
    "arr - arr[0]  # broadcasting"
   ]
  },
  {
   "cell_type": "code",
   "execution_count": 16,
   "metadata": {
    "collapsed": false
   },
   "outputs": [
    {
     "data": {
      "text/plain": [
       "(        b   d   e\n",
       " utah    0   1   2\n",
       " ohio    3   4   5\n",
       " texas   6   7   8\n",
       " oregon  9  10  11, b    0\n",
       " d    1\n",
       " e    2\n",
       " Name: utah, dtype: int64)"
      ]
     },
     "execution_count": 16,
     "metadata": {},
     "output_type": "execute_result"
    }
   ],
   "source": [
    "frame = DataFrame(\n",
    "    np.arange(12).reshape((4, 3)),\n",
    "    columns=list('bde'),\n",
    "    index=['utah', 'ohio', 'texas', 'oregon']\n",
    ")\n",
    "series = frame.ix[0]\n",
    "frame, series"
   ]
  },
  {
   "cell_type": "code",
   "execution_count": 17,
   "metadata": {
    "collapsed": false
   },
   "outputs": [
    {
     "data": {
      "text/html": [
       "<div>\n",
       "<table border=\"1\" class=\"dataframe\">\n",
       "  <thead>\n",
       "    <tr style=\"text-align: right;\">\n",
       "      <th></th>\n",
       "      <th>b</th>\n",
       "      <th>d</th>\n",
       "      <th>e</th>\n",
       "    </tr>\n",
       "  </thead>\n",
       "  <tbody>\n",
       "    <tr>\n",
       "      <th>utah</th>\n",
       "      <td>0</td>\n",
       "      <td>0</td>\n",
       "      <td>0</td>\n",
       "    </tr>\n",
       "    <tr>\n",
       "      <th>ohio</th>\n",
       "      <td>3</td>\n",
       "      <td>3</td>\n",
       "      <td>3</td>\n",
       "    </tr>\n",
       "    <tr>\n",
       "      <th>texas</th>\n",
       "      <td>6</td>\n",
       "      <td>6</td>\n",
       "      <td>6</td>\n",
       "    </tr>\n",
       "    <tr>\n",
       "      <th>oregon</th>\n",
       "      <td>9</td>\n",
       "      <td>9</td>\n",
       "      <td>9</td>\n",
       "    </tr>\n",
       "  </tbody>\n",
       "</table>\n",
       "</div>"
      ],
      "text/plain": [
       "        b  d  e\n",
       "utah    0  0  0\n",
       "ohio    3  3  3\n",
       "texas   6  6  6\n",
       "oregon  9  9  9"
      ]
     },
     "execution_count": 17,
     "metadata": {},
     "output_type": "execute_result"
    }
   ],
   "source": [
    "frame - series  # default match index in the columns"
   ]
  },
  {
   "cell_type": "code",
   "execution_count": 18,
   "metadata": {
    "collapsed": false
   },
   "outputs": [
    {
     "data": {
      "text/html": [
       "<div>\n",
       "<table border=\"1\" class=\"dataframe\">\n",
       "  <thead>\n",
       "    <tr style=\"text-align: right;\">\n",
       "      <th></th>\n",
       "      <th>b</th>\n",
       "      <th>d</th>\n",
       "      <th>e</th>\n",
       "      <th>f</th>\n",
       "    </tr>\n",
       "  </thead>\n",
       "  <tbody>\n",
       "    <tr>\n",
       "      <th>utah</th>\n",
       "      <td>0</td>\n",
       "      <td>NaN</td>\n",
       "      <td>3</td>\n",
       "      <td>NaN</td>\n",
       "    </tr>\n",
       "    <tr>\n",
       "      <th>ohio</th>\n",
       "      <td>3</td>\n",
       "      <td>NaN</td>\n",
       "      <td>6</td>\n",
       "      <td>NaN</td>\n",
       "    </tr>\n",
       "    <tr>\n",
       "      <th>texas</th>\n",
       "      <td>6</td>\n",
       "      <td>NaN</td>\n",
       "      <td>9</td>\n",
       "      <td>NaN</td>\n",
       "    </tr>\n",
       "    <tr>\n",
       "      <th>oregon</th>\n",
       "      <td>9</td>\n",
       "      <td>NaN</td>\n",
       "      <td>12</td>\n",
       "      <td>NaN</td>\n",
       "    </tr>\n",
       "  </tbody>\n",
       "</table>\n",
       "</div>"
      ],
      "text/plain": [
       "        b   d   e   f\n",
       "utah    0 NaN   3 NaN\n",
       "ohio    3 NaN   6 NaN\n",
       "texas   6 NaN   9 NaN\n",
       "oregon  9 NaN  12 NaN"
      ]
     },
     "execution_count": 18,
     "metadata": {},
     "output_type": "execute_result"
    }
   ],
   "source": [
    "series2 = Series(range(3), index=list('bef'))  # index will be reindexed to form the union\n",
    "frame + series2"
   ]
  },
  {
   "cell_type": "code",
   "execution_count": 19,
   "metadata": {
    "collapsed": false
   },
   "outputs": [
    {
     "data": {
      "text/plain": [
       "(        b   d   e\n",
       " utah    0   1   2\n",
       " ohio    3   4   5\n",
       " texas   6   7   8\n",
       " oregon  9  10  11, utah       1\n",
       " ohio       4\n",
       " texas      7\n",
       " oregon    10\n",
       " Name: d, dtype: int64)"
      ]
     },
     "execution_count": 19,
     "metadata": {},
     "output_type": "execute_result"
    }
   ],
   "source": [
    "series3 = frame['d']\n",
    "frame, series3"
   ]
  },
  {
   "cell_type": "code",
   "execution_count": 20,
   "metadata": {
    "collapsed": false
   },
   "outputs": [
    {
     "data": {
      "text/html": [
       "<div>\n",
       "<table border=\"1\" class=\"dataframe\">\n",
       "  <thead>\n",
       "    <tr style=\"text-align: right;\">\n",
       "      <th></th>\n",
       "      <th>b</th>\n",
       "      <th>d</th>\n",
       "      <th>e</th>\n",
       "    </tr>\n",
       "  </thead>\n",
       "  <tbody>\n",
       "    <tr>\n",
       "      <th>utah</th>\n",
       "      <td>-1</td>\n",
       "      <td>0</td>\n",
       "      <td>1</td>\n",
       "    </tr>\n",
       "    <tr>\n",
       "      <th>ohio</th>\n",
       "      <td>-1</td>\n",
       "      <td>0</td>\n",
       "      <td>1</td>\n",
       "    </tr>\n",
       "    <tr>\n",
       "      <th>texas</th>\n",
       "      <td>-1</td>\n",
       "      <td>0</td>\n",
       "      <td>1</td>\n",
       "    </tr>\n",
       "    <tr>\n",
       "      <th>oregon</th>\n",
       "      <td>-1</td>\n",
       "      <td>0</td>\n",
       "      <td>1</td>\n",
       "    </tr>\n",
       "  </tbody>\n",
       "</table>\n",
       "</div>"
      ],
      "text/plain": [
       "        b  d  e\n",
       "utah   -1  0  1\n",
       "ohio   -1  0  1\n",
       "texas  -1  0  1\n",
       "oregon -1  0  1"
      ]
     },
     "execution_count": 20,
     "metadata": {},
     "output_type": "execute_result"
    }
   ],
   "source": [
    "frame.sub(series3, axis=0)  # use method to change default matching to indexes, and use broadcasting"
   ]
  },
  {
   "cell_type": "markdown",
   "metadata": {},
   "source": [
    "### function application and mapping"
   ]
  },
  {
   "cell_type": "code",
   "execution_count": 21,
   "metadata": {
    "collapsed": false
   },
   "outputs": [
    {
     "data": {
      "text/html": [
       "<div>\n",
       "<table border=\"1\" class=\"dataframe\">\n",
       "  <thead>\n",
       "    <tr style=\"text-align: right;\">\n",
       "      <th></th>\n",
       "      <th>b</th>\n",
       "      <th>d</th>\n",
       "      <th>e</th>\n",
       "    </tr>\n",
       "  </thead>\n",
       "  <tbody>\n",
       "    <tr>\n",
       "      <th>utah</th>\n",
       "      <td>-0.973529</td>\n",
       "      <td>-1.325638</td>\n",
       "      <td>1.220767</td>\n",
       "    </tr>\n",
       "    <tr>\n",
       "      <th>ohio</th>\n",
       "      <td>-0.701142</td>\n",
       "      <td>-0.054597</td>\n",
       "      <td>1.039718</td>\n",
       "    </tr>\n",
       "    <tr>\n",
       "      <th>texas</th>\n",
       "      <td>2.300429</td>\n",
       "      <td>0.887538</td>\n",
       "      <td>-0.432288</td>\n",
       "    </tr>\n",
       "    <tr>\n",
       "      <th>origon</th>\n",
       "      <td>1.151031</td>\n",
       "      <td>-1.271173</td>\n",
       "      <td>-1.947031</td>\n",
       "    </tr>\n",
       "  </tbody>\n",
       "</table>\n",
       "</div>"
      ],
      "text/plain": [
       "               b         d         e\n",
       "utah   -0.973529 -1.325638  1.220767\n",
       "ohio   -0.701142 -0.054597  1.039718\n",
       "texas   2.300429  0.887538 -0.432288\n",
       "origon  1.151031 -1.271173 -1.947031"
      ]
     },
     "execution_count": 21,
     "metadata": {},
     "output_type": "execute_result"
    }
   ],
   "source": [
    "frame = DataFrame(\n",
    "    np.random.randn(4, 3),\n",
    "    columns=list('bde'),\n",
    "    index=['utah', 'ohio', 'texas', 'origon']\n",
    ")\n",
    "frame"
   ]
  },
  {
   "cell_type": "code",
   "execution_count": 22,
   "metadata": {
    "collapsed": false
   },
   "outputs": [
    {
     "data": {
      "text/html": [
       "<div>\n",
       "<table border=\"1\" class=\"dataframe\">\n",
       "  <thead>\n",
       "    <tr style=\"text-align: right;\">\n",
       "      <th></th>\n",
       "      <th>b</th>\n",
       "      <th>d</th>\n",
       "      <th>e</th>\n",
       "    </tr>\n",
       "  </thead>\n",
       "  <tbody>\n",
       "    <tr>\n",
       "      <th>utah</th>\n",
       "      <td>0.973529</td>\n",
       "      <td>1.325638</td>\n",
       "      <td>1.220767</td>\n",
       "    </tr>\n",
       "    <tr>\n",
       "      <th>ohio</th>\n",
       "      <td>0.701142</td>\n",
       "      <td>0.054597</td>\n",
       "      <td>1.039718</td>\n",
       "    </tr>\n",
       "    <tr>\n",
       "      <th>texas</th>\n",
       "      <td>2.300429</td>\n",
       "      <td>0.887538</td>\n",
       "      <td>0.432288</td>\n",
       "    </tr>\n",
       "    <tr>\n",
       "      <th>origon</th>\n",
       "      <td>1.151031</td>\n",
       "      <td>1.271173</td>\n",
       "      <td>1.947031</td>\n",
       "    </tr>\n",
       "  </tbody>\n",
       "</table>\n",
       "</div>"
      ],
      "text/plain": [
       "               b         d         e\n",
       "utah    0.973529  1.325638  1.220767\n",
       "ohio    0.701142  0.054597  1.039718\n",
       "texas   2.300429  0.887538  0.432288\n",
       "origon  1.151031  1.271173  1.947031"
      ]
     },
     "execution_count": 22,
     "metadata": {},
     "output_type": "execute_result"
    }
   ],
   "source": [
    "np.abs(frame)  # numpy ufunc"
   ]
  },
  {
   "cell_type": "code",
   "execution_count": 23,
   "metadata": {
    "collapsed": true
   },
   "outputs": [],
   "source": [
    "f = lambda x: x.max() - x.min()"
   ]
  },
  {
   "cell_type": "code",
   "execution_count": 24,
   "metadata": {
    "collapsed": false
   },
   "outputs": [
    {
     "data": {
      "text/plain": [
       "b    3.273959\n",
       "d    2.213175\n",
       "e    3.167798\n",
       "dtype: float64"
      ]
     },
     "execution_count": 24,
     "metadata": {},
     "output_type": "execute_result"
    }
   ],
   "source": [
    "frame.apply(f)  # default to columns, axis = 0"
   ]
  },
  {
   "cell_type": "code",
   "execution_count": 25,
   "metadata": {
    "collapsed": false
   },
   "outputs": [
    {
     "data": {
      "text/plain": [
       "utah      2.546405\n",
       "ohio      1.740860\n",
       "texas     2.732717\n",
       "origon    3.098061\n",
       "dtype: float64"
      ]
     },
     "execution_count": 25,
     "metadata": {},
     "output_type": "execute_result"
    }
   ],
   "source": [
    "frame.apply(f, axis=1)  # apply to rows"
   ]
  },
  {
   "cell_type": "code",
   "execution_count": 26,
   "metadata": {
    "collapsed": false
   },
   "outputs": [
    {
     "data": {
      "text/plain": [
       "b    1.776788\n",
       "d   -1.763870\n",
       "e   -0.118833\n",
       "dtype: float64"
      ]
     },
     "execution_count": 26,
     "metadata": {},
     "output_type": "execute_result"
    }
   ],
   "source": [
    "frame.sum()  # just like numpy array methods in data frames"
   ]
  },
  {
   "cell_type": "code",
   "execution_count": 29,
   "metadata": {
    "collapsed": true
   },
   "outputs": [],
   "source": [
    "def f(x):\n",
    "    # instead of returning scalars, we can also return a Series\n",
    "    return Series([x.min(), x.max()], index=['min', 'max'])"
   ]
  },
  {
   "cell_type": "code",
   "execution_count": 30,
   "metadata": {
    "collapsed": false
   },
   "outputs": [
    {
     "data": {
      "text/html": [
       "<div>\n",
       "<table border=\"1\" class=\"dataframe\">\n",
       "  <thead>\n",
       "    <tr style=\"text-align: right;\">\n",
       "      <th></th>\n",
       "      <th>b</th>\n",
       "      <th>d</th>\n",
       "      <th>e</th>\n",
       "    </tr>\n",
       "  </thead>\n",
       "  <tbody>\n",
       "    <tr>\n",
       "      <th>min</th>\n",
       "      <td>-0.973529</td>\n",
       "      <td>-1.325638</td>\n",
       "      <td>-1.947031</td>\n",
       "    </tr>\n",
       "    <tr>\n",
       "      <th>max</th>\n",
       "      <td>2.300429</td>\n",
       "      <td>0.887538</td>\n",
       "      <td>1.220767</td>\n",
       "    </tr>\n",
       "  </tbody>\n",
       "</table>\n",
       "</div>"
      ],
      "text/plain": [
       "            b         d         e\n",
       "min -0.973529 -1.325638 -1.947031\n",
       "max  2.300429  0.887538  1.220767"
      ]
     },
     "execution_count": 30,
     "metadata": {},
     "output_type": "execute_result"
    }
   ],
   "source": [
    "frame.apply(f)"
   ]
  },
  {
   "cell_type": "code",
   "execution_count": 31,
   "metadata": {
    "collapsed": false
   },
   "outputs": [
    {
     "data": {
      "text/html": [
       "<div>\n",
       "<table border=\"1\" class=\"dataframe\">\n",
       "  <thead>\n",
       "    <tr style=\"text-align: right;\">\n",
       "      <th></th>\n",
       "      <th>b</th>\n",
       "      <th>d</th>\n",
       "      <th>e</th>\n",
       "    </tr>\n",
       "  </thead>\n",
       "  <tbody>\n",
       "    <tr>\n",
       "      <th>utah</th>\n",
       "      <td>-0.97</td>\n",
       "      <td>-1.33</td>\n",
       "      <td>1.22</td>\n",
       "    </tr>\n",
       "    <tr>\n",
       "      <th>ohio</th>\n",
       "      <td>-0.70</td>\n",
       "      <td>-0.05</td>\n",
       "      <td>1.04</td>\n",
       "    </tr>\n",
       "    <tr>\n",
       "      <th>texas</th>\n",
       "      <td>2.30</td>\n",
       "      <td>0.89</td>\n",
       "      <td>-0.43</td>\n",
       "    </tr>\n",
       "    <tr>\n",
       "      <th>origon</th>\n",
       "      <td>1.15</td>\n",
       "      <td>-1.27</td>\n",
       "      <td>-1.95</td>\n",
       "    </tr>\n",
       "  </tbody>\n",
       "</table>\n",
       "</div>"
      ],
      "text/plain": [
       "            b      d      e\n",
       "utah    -0.97  -1.33   1.22\n",
       "ohio    -0.70  -0.05   1.04\n",
       "texas    2.30   0.89  -0.43\n",
       "origon   1.15  -1.27  -1.95"
      ]
     },
     "execution_count": 31,
     "metadata": {},
     "output_type": "execute_result"
    }
   ],
   "source": [
    "def g(x):\n",
    "    return '{0:.2f}'.format(x)\n",
    "\n",
    "frame.applymap(g)  # element-wise, frame.apply is column/row-wise"
   ]
  },
  {
   "cell_type": "code",
   "execution_count": 33,
   "metadata": {
    "collapsed": false
   },
   "outputs": [
    {
     "data": {
      "text/plain": [
       "utah       1.22\n",
       "ohio       1.04\n",
       "texas     -0.43\n",
       "origon    -1.95\n",
       "Name: e, dtype: object"
      ]
     },
     "execution_count": 33,
     "metadata": {},
     "output_type": "execute_result"
    }
   ],
   "source": [
    "frame['e'].apply(g)  # Series' apply is already column/row-wise"
   ]
  },
  {
   "cell_type": "markdown",
   "metadata": {},
   "source": [
    "### sorting and ranking"
   ]
  },
  {
   "cell_type": "code",
   "execution_count": 34,
   "metadata": {
    "collapsed": false
   },
   "outputs": [
    {
     "data": {
      "text/plain": [
       "d    0\n",
       "a    1\n",
       "b    2\n",
       "c    3\n",
       "dtype: int64"
      ]
     },
     "execution_count": 34,
     "metadata": {},
     "output_type": "execute_result"
    }
   ],
   "source": [
    "obj = Series(range(4), index=['d', 'a', 'b', 'c'])\n",
    "obj"
   ]
  },
  {
   "cell_type": "code",
   "execution_count": 35,
   "metadata": {
    "collapsed": false
   },
   "outputs": [
    {
     "data": {
      "text/plain": [
       "a    1\n",
       "b    2\n",
       "c    3\n",
       "d    0\n",
       "dtype: int64"
      ]
     },
     "execution_count": 35,
     "metadata": {},
     "output_type": "execute_result"
    }
   ],
   "source": [
    "obj.sort_index()  # literally, sort by INDEX, this makes a copy"
   ]
  },
  {
   "cell_type": "code",
   "execution_count": 36,
   "metadata": {
    "collapsed": false
   },
   "outputs": [
    {
     "data": {
      "text/plain": [
       "d    0\n",
       "a    1\n",
       "b    2\n",
       "c    3\n",
       "dtype: int64"
      ]
     },
     "execution_count": 36,
     "metadata": {},
     "output_type": "execute_result"
    }
   ],
   "source": [
    "obj"
   ]
  },
  {
   "cell_type": "code",
   "execution_count": 41,
   "metadata": {
    "collapsed": false
   },
   "outputs": [
    {
     "data": {
      "text/html": [
       "<div>\n",
       "<table border=\"1\" class=\"dataframe\">\n",
       "  <thead>\n",
       "    <tr style=\"text-align: right;\">\n",
       "      <th></th>\n",
       "      <th>d</th>\n",
       "      <th>a</th>\n",
       "      <th>b</th>\n",
       "      <th>c</th>\n",
       "    </tr>\n",
       "  </thead>\n",
       "  <tbody>\n",
       "    <tr>\n",
       "      <th>three</th>\n",
       "      <td>0</td>\n",
       "      <td>1</td>\n",
       "      <td>2</td>\n",
       "      <td>3</td>\n",
       "    </tr>\n",
       "    <tr>\n",
       "      <th>one</th>\n",
       "      <td>4</td>\n",
       "      <td>5</td>\n",
       "      <td>6</td>\n",
       "      <td>7</td>\n",
       "    </tr>\n",
       "  </tbody>\n",
       "</table>\n",
       "</div>"
      ],
      "text/plain": [
       "       d  a  b  c\n",
       "three  0  1  2  3\n",
       "one    4  5  6  7"
      ]
     },
     "execution_count": 41,
     "metadata": {},
     "output_type": "execute_result"
    }
   ],
   "source": [
    "frame = DataFrame(\n",
    "    np.arange(8).reshape((2, 4)),\n",
    "    index=['three', 'one'],\n",
    "    columns=list('dabc')\n",
    ")\n",
    "frame"
   ]
  },
  {
   "cell_type": "code",
   "execution_count": 42,
   "metadata": {
    "collapsed": false
   },
   "outputs": [
    {
     "data": {
      "text/html": [
       "<div>\n",
       "<table border=\"1\" class=\"dataframe\">\n",
       "  <thead>\n",
       "    <tr style=\"text-align: right;\">\n",
       "      <th></th>\n",
       "      <th>d</th>\n",
       "      <th>a</th>\n",
       "      <th>b</th>\n",
       "      <th>c</th>\n",
       "    </tr>\n",
       "  </thead>\n",
       "  <tbody>\n",
       "    <tr>\n",
       "      <th>one</th>\n",
       "      <td>4</td>\n",
       "      <td>5</td>\n",
       "      <td>6</td>\n",
       "      <td>7</td>\n",
       "    </tr>\n",
       "    <tr>\n",
       "      <th>three</th>\n",
       "      <td>0</td>\n",
       "      <td>1</td>\n",
       "      <td>2</td>\n",
       "      <td>3</td>\n",
       "    </tr>\n",
       "  </tbody>\n",
       "</table>\n",
       "</div>"
      ],
      "text/plain": [
       "       d  a  b  c\n",
       "one    4  5  6  7\n",
       "three  0  1  2  3"
      ]
     },
     "execution_count": 42,
     "metadata": {},
     "output_type": "execute_result"
    }
   ],
   "source": [
    "frame.sort_index()  # axis default to 0, default to ascending"
   ]
  },
  {
   "cell_type": "code",
   "execution_count": 44,
   "metadata": {
    "collapsed": false
   },
   "outputs": [
    {
     "data": {
      "text/html": [
       "<div>\n",
       "<table border=\"1\" class=\"dataframe\">\n",
       "  <thead>\n",
       "    <tr style=\"text-align: right;\">\n",
       "      <th></th>\n",
       "      <th>a</th>\n",
       "      <th>b</th>\n",
       "      <th>c</th>\n",
       "      <th>d</th>\n",
       "    </tr>\n",
       "  </thead>\n",
       "  <tbody>\n",
       "    <tr>\n",
       "      <th>three</th>\n",
       "      <td>1</td>\n",
       "      <td>2</td>\n",
       "      <td>3</td>\n",
       "      <td>0</td>\n",
       "    </tr>\n",
       "    <tr>\n",
       "      <th>one</th>\n",
       "      <td>5</td>\n",
       "      <td>6</td>\n",
       "      <td>7</td>\n",
       "      <td>4</td>\n",
       "    </tr>\n",
       "  </tbody>\n",
       "</table>\n",
       "</div>"
      ],
      "text/plain": [
       "       a  b  c  d\n",
       "three  1  2  3  0\n",
       "one    5  6  7  4"
      ]
     },
     "execution_count": 44,
     "metadata": {},
     "output_type": "execute_result"
    }
   ],
   "source": [
    "frame.sort_index(axis=1)"
   ]
  },
  {
   "cell_type": "code",
   "execution_count": 45,
   "metadata": {
    "collapsed": false
   },
   "outputs": [
    {
     "data": {
      "text/html": [
       "<div>\n",
       "<table border=\"1\" class=\"dataframe\">\n",
       "  <thead>\n",
       "    <tr style=\"text-align: right;\">\n",
       "      <th></th>\n",
       "      <th>d</th>\n",
       "      <th>c</th>\n",
       "      <th>b</th>\n",
       "      <th>a</th>\n",
       "    </tr>\n",
       "  </thead>\n",
       "  <tbody>\n",
       "    <tr>\n",
       "      <th>three</th>\n",
       "      <td>0</td>\n",
       "      <td>3</td>\n",
       "      <td>2</td>\n",
       "      <td>1</td>\n",
       "    </tr>\n",
       "    <tr>\n",
       "      <th>one</th>\n",
       "      <td>4</td>\n",
       "      <td>7</td>\n",
       "      <td>6</td>\n",
       "      <td>5</td>\n",
       "    </tr>\n",
       "  </tbody>\n",
       "</table>\n",
       "</div>"
      ],
      "text/plain": [
       "       d  c  b  a\n",
       "three  0  3  2  1\n",
       "one    4  7  6  5"
      ]
     },
     "execution_count": 45,
     "metadata": {},
     "output_type": "execute_result"
    }
   ],
   "source": [
    "frame.sort_index(axis=1, ascending=False)  # descending"
   ]
  },
  {
   "cell_type": "code",
   "execution_count": 46,
   "metadata": {
    "collapsed": false
   },
   "outputs": [
    {
     "data": {
      "text/plain": [
       "0    4\n",
       "1    7\n",
       "2   -3\n",
       "3    2\n",
       "dtype: int64"
      ]
     },
     "execution_count": 46,
     "metadata": {},
     "output_type": "execute_result"
    }
   ],
   "source": [
    "obj = Series([4, 7, -3, 2])\n",
    "obj"
   ]
  },
  {
   "cell_type": "code",
   "execution_count": 47,
   "metadata": {
    "collapsed": false
   },
   "outputs": [
    {
     "name": "stderr",
     "output_type": "stream",
     "text": [
      "/Users/yth/anaconda/envs/101/lib/python3.5/site-packages/ipykernel/__main__.py:1: FutureWarning: order is deprecated, use sort_values(...)\n",
      "  if __name__ == '__main__':\n"
     ]
    },
    {
     "data": {
      "text/plain": [
       "2   -3\n",
       "3    2\n",
       "0    4\n",
       "1    7\n",
       "dtype: int64"
      ]
     },
     "execution_count": 47,
     "metadata": {},
     "output_type": "execute_result"
    }
   ],
   "source": [
    "obj.order()  # sort a Series by values, DEPRECIATING"
   ]
  },
  {
   "cell_type": "code",
   "execution_count": 48,
   "metadata": {
    "collapsed": false
   },
   "outputs": [
    {
     "data": {
      "text/plain": [
       "2   -3\n",
       "3    2\n",
       "0    4\n",
       "1    7\n",
       "dtype: int64"
      ]
     },
     "execution_count": 48,
     "metadata": {},
     "output_type": "execute_result"
    }
   ],
   "source": [
    "obj.sort_values()"
   ]
  },
  {
   "cell_type": "code",
   "execution_count": 53,
   "metadata": {
    "collapsed": false
   },
   "outputs": [
    {
     "data": {
      "text/plain": [
       "(4    -3\n",
       " 5     2\n",
       " 0     4\n",
       " 2     7\n",
       " 1   NaN\n",
       " 3   NaN\n",
       " dtype: float64, 0     4\n",
       " 1   NaN\n",
       " 2     7\n",
       " 3   NaN\n",
       " 4    -3\n",
       " 5     2\n",
       " dtype: float64)"
      ]
     },
     "execution_count": 53,
     "metadata": {},
     "output_type": "execute_result"
    }
   ],
   "source": [
    "obj = Series([4, np.nan, 7, np.nan, -3, 2])\n",
    "obj.sort_values(), obj.sort_index()  # NAN is sorted to the end of the series"
   ]
  },
  {
   "cell_type": "code",
   "execution_count": 50,
   "metadata": {
    "collapsed": false
   },
   "outputs": [
    {
     "data": {
      "text/html": [
       "<div>\n",
       "<table border=\"1\" class=\"dataframe\">\n",
       "  <thead>\n",
       "    <tr style=\"text-align: right;\">\n",
       "      <th></th>\n",
       "      <th>b</th>\n",
       "      <th>c</th>\n",
       "    </tr>\n",
       "  </thead>\n",
       "  <tbody>\n",
       "    <tr>\n",
       "      <th>0</th>\n",
       "      <td>4</td>\n",
       "      <td>0</td>\n",
       "    </tr>\n",
       "    <tr>\n",
       "      <th>1</th>\n",
       "      <td>7</td>\n",
       "      <td>1</td>\n",
       "    </tr>\n",
       "    <tr>\n",
       "      <th>2</th>\n",
       "      <td>-3</td>\n",
       "      <td>0</td>\n",
       "    </tr>\n",
       "    <tr>\n",
       "      <th>3</th>\n",
       "      <td>2</td>\n",
       "      <td>1</td>\n",
       "    </tr>\n",
       "  </tbody>\n",
       "</table>\n",
       "</div>"
      ],
      "text/plain": [
       "   b  c\n",
       "0  4  0\n",
       "1  7  1\n",
       "2 -3  0\n",
       "3  2  1"
      ]
     },
     "execution_count": 50,
     "metadata": {},
     "output_type": "execute_result"
    }
   ],
   "source": [
    "frame = DataFrame({\n",
    "    'b': [4, 7, -3, 2],\n",
    "    'c': [0, 1, 0, 1]\n",
    "})\n",
    "frame"
   ]
  },
  {
   "cell_type": "code",
   "execution_count": 51,
   "metadata": {
    "collapsed": false
   },
   "outputs": [
    {
     "name": "stderr",
     "output_type": "stream",
     "text": [
      "/Users/yth/anaconda/envs/101/lib/python3.5/site-packages/ipykernel/__main__.py:1: FutureWarning: by argument to sort_index is deprecated, pls use .sort_values(by=...)\n",
      "  if __name__ == '__main__':\n"
     ]
    },
    {
     "data": {
      "text/html": [
       "<div>\n",
       "<table border=\"1\" class=\"dataframe\">\n",
       "  <thead>\n",
       "    <tr style=\"text-align: right;\">\n",
       "      <th></th>\n",
       "      <th>b</th>\n",
       "      <th>c</th>\n",
       "    </tr>\n",
       "  </thead>\n",
       "  <tbody>\n",
       "    <tr>\n",
       "      <th>2</th>\n",
       "      <td>-3</td>\n",
       "      <td>0</td>\n",
       "    </tr>\n",
       "    <tr>\n",
       "      <th>3</th>\n",
       "      <td>2</td>\n",
       "      <td>1</td>\n",
       "    </tr>\n",
       "    <tr>\n",
       "      <th>0</th>\n",
       "      <td>4</td>\n",
       "      <td>0</td>\n",
       "    </tr>\n",
       "    <tr>\n",
       "      <th>1</th>\n",
       "      <td>7</td>\n",
       "      <td>1</td>\n",
       "    </tr>\n",
       "  </tbody>\n",
       "</table>\n",
       "</div>"
      ],
      "text/plain": [
       "   b  c\n",
       "2 -3  0\n",
       "3  2  1\n",
       "0  4  0\n",
       "1  7  1"
      ]
     },
     "execution_count": 51,
     "metadata": {},
     "output_type": "execute_result"
    }
   ],
   "source": [
    "frame.sort_index(by='b')  # DataFrame sort by values, DEPRECIATING"
   ]
  },
  {
   "cell_type": "code",
   "execution_count": 52,
   "metadata": {
    "collapsed": false
   },
   "outputs": [
    {
     "data": {
      "text/html": [
       "<div>\n",
       "<table border=\"1\" class=\"dataframe\">\n",
       "  <thead>\n",
       "    <tr style=\"text-align: right;\">\n",
       "      <th></th>\n",
       "      <th>b</th>\n",
       "      <th>c</th>\n",
       "    </tr>\n",
       "  </thead>\n",
       "  <tbody>\n",
       "    <tr>\n",
       "      <th>2</th>\n",
       "      <td>-3</td>\n",
       "      <td>0</td>\n",
       "    </tr>\n",
       "    <tr>\n",
       "      <th>3</th>\n",
       "      <td>2</td>\n",
       "      <td>1</td>\n",
       "    </tr>\n",
       "    <tr>\n",
       "      <th>0</th>\n",
       "      <td>4</td>\n",
       "      <td>0</td>\n",
       "    </tr>\n",
       "    <tr>\n",
       "      <th>1</th>\n",
       "      <td>7</td>\n",
       "      <td>1</td>\n",
       "    </tr>\n",
       "  </tbody>\n",
       "</table>\n",
       "</div>"
      ],
      "text/plain": [
       "   b  c\n",
       "2 -3  0\n",
       "3  2  1\n",
       "0  4  0\n",
       "1  7  1"
      ]
     },
     "execution_count": 52,
     "metadata": {},
     "output_type": "execute_result"
    }
   ],
   "source": [
    "frame.sort_values(by='b')"
   ]
  },
  {
   "cell_type": "code",
   "execution_count": 54,
   "metadata": {
    "collapsed": false
   },
   "outputs": [
    {
     "data": {
      "text/plain": [
       "\"\\nFor sorting on values: sort_values()\\n    Series: series.sort_values()\\n    DataFrame: dataframe.sort_values(by='b)\\nFor sorting on indexes: sort_index()\\n    Series: series.sort_index()\\n    DataFrame.sort_index(axis=1)\\n\""
      ]
     },
     "execution_count": 54,
     "metadata": {},
     "output_type": "execute_result"
    }
   ],
   "source": [
    "\"\"\"\n",
    "For sorting on values: sort_values()\n",
    "    Series: series.sort_values()\n",
    "    DataFrame: dataframe.sort_values(by='b)\n",
    "For sorting on indexes: sort_index()\n",
    "    Series: series.sort_index()\n",
    "    DataFrame.sort_index(axis=1)\n",
    "\"\"\""
   ]
  },
  {
   "cell_type": "code",
   "execution_count": 56,
   "metadata": {
    "collapsed": false
   },
   "outputs": [
    {
     "data": {
      "text/plain": [
       "(   b  c\n",
       " 0  4  0\n",
       " 1  7  1\n",
       " 2 -3  0\n",
       " 3  2  1,    b  c\n",
       " 2 -3  0\n",
       " 0  4  0\n",
       " 3  2  1\n",
       " 1  7  1)"
      ]
     },
     "execution_count": 56,
     "metadata": {},
     "output_type": "execute_result"
    }
   ],
   "source": [
    "frame, frame.sort_values(by=['c', 'b'])  # primary c, secondary b"
   ]
  },
  {
   "cell_type": "code",
   "execution_count": 57,
   "metadata": {
    "collapsed": false
   },
   "outputs": [
    {
     "data": {
      "text/plain": [
       "0    7\n",
       "1   -5\n",
       "2    7\n",
       "3    4\n",
       "4    2\n",
       "5    0\n",
       "6    4\n",
       "dtype: int64"
      ]
     },
     "execution_count": 57,
     "metadata": {},
     "output_type": "execute_result"
    }
   ],
   "source": [
    "# ranking is like numpy's argsort()\n",
    "# except that ties has special management\n",
    "obj = Series([7, -5, 7, 4, 2, 0, 4])\n",
    "obj"
   ]
  },
  {
   "cell_type": "code",
   "execution_count": 58,
   "metadata": {
    "collapsed": false
   },
   "outputs": [
    {
     "data": {
      "text/plain": [
       "0    6.5\n",
       "1    1.0\n",
       "2    6.5\n",
       "3    4.5\n",
       "4    3.0\n",
       "5    2.0\n",
       "6    4.5\n",
       "dtype: float64"
      ]
     },
     "execution_count": 58,
     "metadata": {},
     "output_type": "execute_result"
    }
   ],
   "source": [
    "obj.rank()  # ties default to mean"
   ]
  },
  {
   "cell_type": "code",
   "execution_count": 60,
   "metadata": {
    "collapsed": false
   },
   "outputs": [
    {
     "data": {
      "text/plain": [
       "0    6\n",
       "1    1\n",
       "2    7\n",
       "3    4\n",
       "4    3\n",
       "5    2\n",
       "6    5\n",
       "dtype: float64"
      ]
     },
     "execution_count": 60,
     "metadata": {},
     "output_type": "execute_result"
    }
   ],
   "source": [
    "obj.rank(method='first')  # different tie handling"
   ]
  },
  {
   "cell_type": "code",
   "execution_count": 62,
   "metadata": {
    "collapsed": false
   },
   "outputs": [
    {
     "data": {
      "text/plain": [
       "0    2\n",
       "1    7\n",
       "2    2\n",
       "3    4\n",
       "4    5\n",
       "5    6\n",
       "6    4\n",
       "dtype: float64"
      ]
     },
     "execution_count": 62,
     "metadata": {},
     "output_type": "execute_result"
    }
   ],
   "source": [
    "obj.rank(method='max', ascending=False)  # descending"
   ]
  },
  {
   "cell_type": "code",
   "execution_count": 63,
   "metadata": {
    "collapsed": false
   },
   "outputs": [
    {
     "data": {
      "text/html": [
       "<div>\n",
       "<table border=\"1\" class=\"dataframe\">\n",
       "  <thead>\n",
       "    <tr style=\"text-align: right;\">\n",
       "      <th></th>\n",
       "      <th>a</th>\n",
       "      <th>b</th>\n",
       "      <th>c</th>\n",
       "    </tr>\n",
       "  </thead>\n",
       "  <tbody>\n",
       "    <tr>\n",
       "      <th>0</th>\n",
       "      <td>0</td>\n",
       "      <td>4.3</td>\n",
       "      <td>-2.0</td>\n",
       "    </tr>\n",
       "    <tr>\n",
       "      <th>1</th>\n",
       "      <td>1</td>\n",
       "      <td>7.0</td>\n",
       "      <td>5.0</td>\n",
       "    </tr>\n",
       "    <tr>\n",
       "      <th>2</th>\n",
       "      <td>0</td>\n",
       "      <td>-3.0</td>\n",
       "      <td>8.0</td>\n",
       "    </tr>\n",
       "    <tr>\n",
       "      <th>3</th>\n",
       "      <td>1</td>\n",
       "      <td>2.0</td>\n",
       "      <td>-2.5</td>\n",
       "    </tr>\n",
       "  </tbody>\n",
       "</table>\n",
       "</div>"
      ],
      "text/plain": [
       "   a    b    c\n",
       "0  0  4.3 -2.0\n",
       "1  1  7.0  5.0\n",
       "2  0 -3.0  8.0\n",
       "3  1  2.0 -2.5"
      ]
     },
     "execution_count": 63,
     "metadata": {},
     "output_type": "execute_result"
    }
   ],
   "source": [
    "# ranks for data frames\n",
    "frame = DataFrame({\n",
    "        'b': [4.3, 7, -3, 2],\n",
    "        'a': [0, 1, 0, 1],\n",
    "        'c': [-2, 5, 8, -2.5]\n",
    "    })\n",
    "frame"
   ]
  },
  {
   "cell_type": "code",
   "execution_count": 64,
   "metadata": {
    "collapsed": false
   },
   "outputs": [
    {
     "data": {
      "text/html": [
       "<div>\n",
       "<table border=\"1\" class=\"dataframe\">\n",
       "  <thead>\n",
       "    <tr style=\"text-align: right;\">\n",
       "      <th></th>\n",
       "      <th>a</th>\n",
       "      <th>b</th>\n",
       "      <th>c</th>\n",
       "    </tr>\n",
       "  </thead>\n",
       "  <tbody>\n",
       "    <tr>\n",
       "      <th>0</th>\n",
       "      <td>2</td>\n",
       "      <td>3</td>\n",
       "      <td>1</td>\n",
       "    </tr>\n",
       "    <tr>\n",
       "      <th>1</th>\n",
       "      <td>1</td>\n",
       "      <td>3</td>\n",
       "      <td>2</td>\n",
       "    </tr>\n",
       "    <tr>\n",
       "      <th>2</th>\n",
       "      <td>2</td>\n",
       "      <td>1</td>\n",
       "      <td>3</td>\n",
       "    </tr>\n",
       "    <tr>\n",
       "      <th>3</th>\n",
       "      <td>2</td>\n",
       "      <td>3</td>\n",
       "      <td>1</td>\n",
       "    </tr>\n",
       "  </tbody>\n",
       "</table>\n",
       "</div>"
      ],
      "text/plain": [
       "   a  b  c\n",
       "0  2  3  1\n",
       "1  1  3  2\n",
       "2  2  1  3\n",
       "3  2  3  1"
      ]
     },
     "execution_count": 64,
     "metadata": {},
     "output_type": "execute_result"
    }
   ],
   "source": [
    "frame.rank(axis=1)"
   ]
  },
  {
   "cell_type": "markdown",
   "metadata": {},
   "source": [
    "### axis indexes with duplicate values"
   ]
  },
  {
   "cell_type": "code",
   "execution_count": 65,
   "metadata": {
    "collapsed": false
   },
   "outputs": [
    {
     "data": {
      "text/plain": [
       "a    0\n",
       "a    1\n",
       "b    2\n",
       "b    3\n",
       "c    4\n",
       "dtype: int64"
      ]
     },
     "execution_count": 65,
     "metadata": {},
     "output_type": "execute_result"
    }
   ],
   "source": [
    "# indexes are not mandatory to be unique\n",
    "obj = Series(np.arange(5), index=list('aabbc'))\n",
    "obj"
   ]
  },
  {
   "cell_type": "code",
   "execution_count": 66,
   "metadata": {
    "collapsed": false
   },
   "outputs": [
    {
     "data": {
      "text/plain": [
       "a    0\n",
       "a    1\n",
       "dtype: int64"
      ]
     },
     "execution_count": 66,
     "metadata": {},
     "output_type": "execute_result"
    }
   ],
   "source": [
    "obj['a']  # duplicate indexing becomes a Series"
   ]
  },
  {
   "cell_type": "code",
   "execution_count": 67,
   "metadata": {
    "collapsed": false
   },
   "outputs": [
    {
     "data": {
      "text/plain": [
       "4"
      ]
     },
     "execution_count": 67,
     "metadata": {},
     "output_type": "execute_result"
    }
   ],
   "source": [
    "obj['c']  # normal indexing returns a scalar"
   ]
  },
  {
   "cell_type": "code",
   "execution_count": 68,
   "metadata": {
    "collapsed": false
   },
   "outputs": [
    {
     "data": {
      "text/plain": [
       "False"
      ]
     },
     "execution_count": 68,
     "metadata": {},
     "output_type": "execute_result"
    }
   ],
   "source": [
    "obj.index.is_unique"
   ]
  },
  {
   "cell_type": "code",
   "execution_count": 70,
   "metadata": {
    "collapsed": false
   },
   "outputs": [
    {
     "data": {
      "text/html": [
       "<div>\n",
       "<table border=\"1\" class=\"dataframe\">\n",
       "  <thead>\n",
       "    <tr style=\"text-align: right;\">\n",
       "      <th></th>\n",
       "      <th>0</th>\n",
       "      <th>1</th>\n",
       "      <th>2</th>\n",
       "    </tr>\n",
       "  </thead>\n",
       "  <tbody>\n",
       "    <tr>\n",
       "      <th>a</th>\n",
       "      <td>0.101136</td>\n",
       "      <td>-0.964027</td>\n",
       "      <td>-1.456854</td>\n",
       "    </tr>\n",
       "    <tr>\n",
       "      <th>a</th>\n",
       "      <td>-0.045870</td>\n",
       "      <td>0.638905</td>\n",
       "      <td>0.087718</td>\n",
       "    </tr>\n",
       "    <tr>\n",
       "      <th>b</th>\n",
       "      <td>-1.602502</td>\n",
       "      <td>0.182494</td>\n",
       "      <td>-0.337372</td>\n",
       "    </tr>\n",
       "    <tr>\n",
       "      <th>b</th>\n",
       "      <td>1.170355</td>\n",
       "      <td>0.115085</td>\n",
       "      <td>-0.576805</td>\n",
       "    </tr>\n",
       "  </tbody>\n",
       "</table>\n",
       "</div>"
      ],
      "text/plain": [
       "          0         1         2\n",
       "a  0.101136 -0.964027 -1.456854\n",
       "a -0.045870  0.638905  0.087718\n",
       "b -1.602502  0.182494 -0.337372\n",
       "b  1.170355  0.115085 -0.576805"
      ]
     },
     "execution_count": 70,
     "metadata": {},
     "output_type": "execute_result"
    }
   ],
   "source": [
    "df = DataFrame(np.random.randn(4, 3), index=list('aabb'))\n",
    "df"
   ]
  },
  {
   "cell_type": "code",
   "execution_count": 71,
   "metadata": {
    "collapsed": false
   },
   "outputs": [
    {
     "data": {
      "text/html": [
       "<div>\n",
       "<table border=\"1\" class=\"dataframe\">\n",
       "  <thead>\n",
       "    <tr style=\"text-align: right;\">\n",
       "      <th></th>\n",
       "      <th>0</th>\n",
       "      <th>1</th>\n",
       "      <th>2</th>\n",
       "    </tr>\n",
       "  </thead>\n",
       "  <tbody>\n",
       "    <tr>\n",
       "      <th>a</th>\n",
       "      <td>0.101136</td>\n",
       "      <td>-0.964027</td>\n",
       "      <td>-1.456854</td>\n",
       "    </tr>\n",
       "    <tr>\n",
       "      <th>a</th>\n",
       "      <td>-0.045870</td>\n",
       "      <td>0.638905</td>\n",
       "      <td>0.087718</td>\n",
       "    </tr>\n",
       "  </tbody>\n",
       "</table>\n",
       "</div>"
      ],
      "text/plain": [
       "          0         1         2\n",
       "a  0.101136 -0.964027 -1.456854\n",
       "a -0.045870  0.638905  0.087718"
      ]
     },
     "execution_count": 71,
     "metadata": {},
     "output_type": "execute_result"
    }
   ],
   "source": [
    "df.ix['a']"
   ]
  },
  {
   "cell_type": "markdown",
   "metadata": {},
   "source": [
    "### summarzing and computing descriptive statistics"
   ]
  },
  {
   "cell_type": "code",
   "execution_count": 72,
   "metadata": {
    "collapsed": true
   },
   "outputs": [],
   "source": [
    "from pandas import DataFrame, Series\n",
    "import pandas as pd\n",
    "import numpy as np"
   ]
  },
  {
   "cell_type": "code",
   "execution_count": 73,
   "metadata": {
    "collapsed": false
   },
   "outputs": [
    {
     "data": {
      "text/html": [
       "<div>\n",
       "<table border=\"1\" class=\"dataframe\">\n",
       "  <thead>\n",
       "    <tr style=\"text-align: right;\">\n",
       "      <th></th>\n",
       "      <th>one</th>\n",
       "      <th>two</th>\n",
       "    </tr>\n",
       "  </thead>\n",
       "  <tbody>\n",
       "    <tr>\n",
       "      <th>a</th>\n",
       "      <td>1.40</td>\n",
       "      <td>NaN</td>\n",
       "    </tr>\n",
       "    <tr>\n",
       "      <th>b</th>\n",
       "      <td>7.10</td>\n",
       "      <td>-4.5</td>\n",
       "    </tr>\n",
       "    <tr>\n",
       "      <th>c</th>\n",
       "      <td>NaN</td>\n",
       "      <td>NaN</td>\n",
       "    </tr>\n",
       "    <tr>\n",
       "      <th>d</th>\n",
       "      <td>0.75</td>\n",
       "      <td>-1.3</td>\n",
       "    </tr>\n",
       "  </tbody>\n",
       "</table>\n",
       "</div>"
      ],
      "text/plain": [
       "    one  two\n",
       "a  1.40  NaN\n",
       "b  7.10 -4.5\n",
       "c   NaN  NaN\n",
       "d  0.75 -1.3"
      ]
     },
     "execution_count": 73,
     "metadata": {},
     "output_type": "execute_result"
    }
   ],
   "source": [
    "df = DataFrame(\n",
    "    [[1.4, np.nan], [7.1, -4.5], [np.nan, np.nan], [0.75, -1.3]],\n",
    "    index=list('abcd'),\n",
    "    columns=['one', 'two']\n",
    ")\n",
    "df"
   ]
  },
  {
   "cell_type": "code",
   "execution_count": 74,
   "metadata": {
    "collapsed": false
   },
   "outputs": [
    {
     "data": {
      "text/plain": [
       "one    9.25\n",
       "two   -5.80\n",
       "dtype: float64"
      ]
     },
     "execution_count": 74,
     "metadata": {},
     "output_type": "execute_result"
    }
   ],
   "source": [
    "df.sum()"
   ]
  },
  {
   "cell_type": "code",
   "execution_count": 75,
   "metadata": {
    "collapsed": false
   },
   "outputs": [
    {
     "data": {
      "text/plain": [
       "a    1.40\n",
       "b    2.60\n",
       "c     NaN\n",
       "d   -0.55\n",
       "dtype: float64"
      ]
     },
     "execution_count": 75,
     "metadata": {},
     "output_type": "execute_result"
    }
   ],
   "source": [
    "df.sum(axis=1)"
   ]
  },
  {
   "cell_type": "code",
   "execution_count": 76,
   "metadata": {
    "collapsed": false
   },
   "outputs": [
    {
     "data": {
      "text/plain": [
       "one    3.083333\n",
       "two   -2.900000\n",
       "dtype: float64"
      ]
     },
     "execution_count": 76,
     "metadata": {},
     "output_type": "execute_result"
    }
   ],
   "source": [
    "df.mean()  # skipna default to True"
   ]
  },
  {
   "cell_type": "code",
   "execution_count": 77,
   "metadata": {
    "collapsed": false
   },
   "outputs": [
    {
     "data": {
      "text/plain": [
       "a      NaN\n",
       "b    1.300\n",
       "c      NaN\n",
       "d   -0.275\n",
       "dtype: float64"
      ]
     },
     "execution_count": 77,
     "metadata": {},
     "output_type": "execute_result"
    }
   ],
   "source": [
    "df.mean(axis=1, skipna=False)"
   ]
  },
  {
   "cell_type": "code",
   "execution_count": 79,
   "metadata": {
    "collapsed": false
   },
   "outputs": [
    {
     "data": {
      "text/plain": [
       "one    b\n",
       "two    d\n",
       "dtype: object"
      ]
     },
     "execution_count": 79,
     "metadata": {},
     "output_type": "execute_result"
    }
   ],
   "source": [
    "df.idxmax()"
   ]
  },
  {
   "cell_type": "code",
   "execution_count": 84,
   "metadata": {
    "collapsed": false
   },
   "outputs": [
    {
     "data": {
      "text/plain": [
       "'d'"
      ]
     },
     "execution_count": 84,
     "metadata": {},
     "output_type": "execute_result"
    }
   ],
   "source": [
    "df['one'].argmin()  # a Series method"
   ]
  },
  {
   "cell_type": "code",
   "execution_count": 85,
   "metadata": {
    "collapsed": false
   },
   "outputs": [
    {
     "data": {
      "text/html": [
       "<div>\n",
       "<table border=\"1\" class=\"dataframe\">\n",
       "  <thead>\n",
       "    <tr style=\"text-align: right;\">\n",
       "      <th></th>\n",
       "      <th>one</th>\n",
       "      <th>two</th>\n",
       "    </tr>\n",
       "  </thead>\n",
       "  <tbody>\n",
       "    <tr>\n",
       "      <th>a</th>\n",
       "      <td>1.40</td>\n",
       "      <td>NaN</td>\n",
       "    </tr>\n",
       "    <tr>\n",
       "      <th>b</th>\n",
       "      <td>8.50</td>\n",
       "      <td>-4.5</td>\n",
       "    </tr>\n",
       "    <tr>\n",
       "      <th>c</th>\n",
       "      <td>NaN</td>\n",
       "      <td>NaN</td>\n",
       "    </tr>\n",
       "    <tr>\n",
       "      <th>d</th>\n",
       "      <td>9.25</td>\n",
       "      <td>-5.8</td>\n",
       "    </tr>\n",
       "  </tbody>\n",
       "</table>\n",
       "</div>"
      ],
      "text/plain": [
       "    one  two\n",
       "a  1.40  NaN\n",
       "b  8.50 -4.5\n",
       "c   NaN  NaN\n",
       "d  9.25 -5.8"
      ]
     },
     "execution_count": 85,
     "metadata": {},
     "output_type": "execute_result"
    }
   ],
   "source": [
    "df.cumsum()"
   ]
  },
  {
   "cell_type": "code",
   "execution_count": 86,
   "metadata": {
    "collapsed": false
   },
   "outputs": [
    {
     "data": {
      "text/html": [
       "<div>\n",
       "<table border=\"1\" class=\"dataframe\">\n",
       "  <thead>\n",
       "    <tr style=\"text-align: right;\">\n",
       "      <th></th>\n",
       "      <th>one</th>\n",
       "      <th>two</th>\n",
       "    </tr>\n",
       "  </thead>\n",
       "  <tbody>\n",
       "    <tr>\n",
       "      <th>count</th>\n",
       "      <td>3.000000</td>\n",
       "      <td>2.000000</td>\n",
       "    </tr>\n",
       "    <tr>\n",
       "      <th>mean</th>\n",
       "      <td>3.083333</td>\n",
       "      <td>-2.900000</td>\n",
       "    </tr>\n",
       "    <tr>\n",
       "      <th>std</th>\n",
       "      <td>3.493685</td>\n",
       "      <td>2.262742</td>\n",
       "    </tr>\n",
       "    <tr>\n",
       "      <th>min</th>\n",
       "      <td>0.750000</td>\n",
       "      <td>-4.500000</td>\n",
       "    </tr>\n",
       "    <tr>\n",
       "      <th>25%</th>\n",
       "      <td>1.075000</td>\n",
       "      <td>-3.700000</td>\n",
       "    </tr>\n",
       "    <tr>\n",
       "      <th>50%</th>\n",
       "      <td>1.400000</td>\n",
       "      <td>-2.900000</td>\n",
       "    </tr>\n",
       "    <tr>\n",
       "      <th>75%</th>\n",
       "      <td>4.250000</td>\n",
       "      <td>-2.100000</td>\n",
       "    </tr>\n",
       "    <tr>\n",
       "      <th>max</th>\n",
       "      <td>7.100000</td>\n",
       "      <td>-1.300000</td>\n",
       "    </tr>\n",
       "  </tbody>\n",
       "</table>\n",
       "</div>"
      ],
      "text/plain": [
       "            one       two\n",
       "count  3.000000  2.000000\n",
       "mean   3.083333 -2.900000\n",
       "std    3.493685  2.262742\n",
       "min    0.750000 -4.500000\n",
       "25%    1.075000 -3.700000\n",
       "50%    1.400000 -2.900000\n",
       "75%    4.250000 -2.100000\n",
       "max    7.100000 -1.300000"
      ]
     },
     "execution_count": 86,
     "metadata": {},
     "output_type": "execute_result"
    }
   ],
   "source": [
    "df.describe()"
   ]
  },
  {
   "cell_type": "code",
   "execution_count": 87,
   "metadata": {
    "collapsed": false
   },
   "outputs": [
    {
     "data": {
      "text/plain": [
       "0     a\n",
       "1     a\n",
       "2     b\n",
       "3     c\n",
       "4     a\n",
       "5     a\n",
       "6     b\n",
       "7     c\n",
       "8     a\n",
       "9     a\n",
       "10    b\n",
       "11    c\n",
       "12    a\n",
       "13    a\n",
       "14    b\n",
       "15    c\n",
       "dtype: object"
      ]
     },
     "execution_count": 87,
     "metadata": {},
     "output_type": "execute_result"
    }
   ],
   "source": [
    "obj = Series(list('aabc') * 4)\n",
    "obj"
   ]
  },
  {
   "cell_type": "code",
   "execution_count": 89,
   "metadata": {
    "collapsed": false
   },
   "outputs": [
    {
     "data": {
      "text/plain": [
       "count     16\n",
       "unique     3\n",
       "top        a\n",
       "freq       8\n",
       "dtype: object"
      ]
     },
     "execution_count": 89,
     "metadata": {},
     "output_type": "execute_result"
    }
   ],
   "source": [
    "obj.describe()  # different result for non-numeric data"
   ]
  },
  {
   "cell_type": "markdown",
   "metadata": {},
   "source": [
    "### correlation and covariance"
   ]
  },
  {
   "cell_type": "code",
   "execution_count": 90,
   "metadata": {
    "collapsed": false
   },
   "outputs": [
    {
     "name": "stderr",
     "output_type": "stream",
     "text": [
      "/Users/yth/anaconda/envs/101/lib/python3.5/site-packages/pandas/io/data.py:33: FutureWarning: \n",
      "The pandas.io.data module is moved to a separate package (pandas-datareader) and will be removed from pandas in a future version.\n",
      "After installing the pandas-datareader package (https://github.com/pydata/pandas-datareader), you can change the import ``from pandas.io import data, wb`` to ``from pandas_datareader import data, wb``.\n",
      "  FutureWarning)\n"
     ]
    }
   ],
   "source": [
    "import pandas.io.data as web"
   ]
  },
  {
   "cell_type": "code",
   "execution_count": 91,
   "metadata": {
    "collapsed": false
   },
   "outputs": [
    {
     "data": {
      "text/plain": [
       "{'AAPL':                   Open        High         Low       Close     Volume  \\\n",
       " Date                                                                    \n",
       " 2010-01-04  213.429998  214.499996  212.380001  214.009998  123432400   \n",
       " 2010-01-05  214.599998  215.589994  213.249994  214.379993  150476200   \n",
       " 2010-01-06  214.379993  215.230000  210.750004  210.969995  138040000   \n",
       " 2010-01-07  211.750000  212.000006  209.050005  210.580000  119282800   \n",
       " 2010-01-08  210.299994  212.000006  209.060005  211.980005  111902700   \n",
       " 2010-01-11  212.799997  213.000002  208.450005  210.110003  115557400   \n",
       " 2010-01-12  209.189995  209.769995  206.419998  207.720001  148614900   \n",
       " 2010-01-13  207.870005  210.929995  204.099998  210.650002  151473000   \n",
       " 2010-01-14  210.110003  210.459997  209.020004  209.430000  108223500   \n",
       " 2010-01-15  210.929995  211.599997  205.869999  205.930000  148516900   \n",
       " 2010-01-19  208.330002  215.189999  207.240004  215.039995  182501900   \n",
       " 2010-01-20  214.910006  215.549994  209.500002  211.730000  153038200   \n",
       " 2010-01-21  212.079994  213.309996  207.210003  208.069996  152038600   \n",
       " 2010-01-22  206.780006  207.499996  197.160000  197.750000  220441900   \n",
       " 2010-01-25  202.510002  204.699999  200.190002  203.070002  266424900   \n",
       " 2010-01-26  205.950001  213.710005  202.580004  205.940001  466777500   \n",
       " 2010-01-27  206.849995  210.580000  199.530001  207.880005  430642100   \n",
       " 2010-01-28  204.930004  205.500004  198.699995  199.289995  293375600   \n",
       " 2010-01-29  201.079996  202.199995  190.250002  192.060003  311488100   \n",
       " 2010-02-01  192.369997  196.000000  191.299999  194.729998  187469100   \n",
       " 2010-02-02  195.909998  196.319994  193.379993  195.859997  174585600   \n",
       " 2010-02-03  195.169994  200.200003  194.420004  199.229994  153832000   \n",
       " 2010-02-04  196.730003  198.370001  191.570005  192.050003  189413000   \n",
       " 2010-02-05  192.630003  196.000000  190.850002  195.460001  212576700   \n",
       " 2010-02-08  195.690006  197.880003  193.999994  194.119997  119567700   \n",
       " 2010-02-09  196.419996  197.499994  194.749998  196.190004  158221700   \n",
       " 2010-02-10  195.889997  196.600000  194.260000  195.120007   92590400   \n",
       " 2010-02-11  194.880001  199.750006  194.059996  198.669994  137586400   \n",
       " 2010-02-12  198.109995  201.639996  195.500002  200.379993  163867200   \n",
       " 2010-02-16  201.940002  203.690002  201.520006  203.399996  135934400   \n",
       " ...                ...         ...         ...         ...        ...   \n",
       " 2016-01-25  101.519997  101.529999   99.209999   99.440002   51794500   \n",
       " 2016-01-26   99.930000  100.879997   98.070000   99.989998   75077000   \n",
       " 2016-01-27   96.040001   96.629997   93.339996   93.419998  133369700   \n",
       " 2016-01-28   93.790001   94.519997   92.389999   94.089996   55678800   \n",
       " 2016-01-29   94.790001   97.339996   94.349998   97.339996   64416500   \n",
       " 2016-02-01   96.470001   96.709999   95.400002   96.430000   40943500   \n",
       " 2016-02-02   95.419998   96.040001   94.279999   94.480003   37357200   \n",
       " 2016-02-03   95.000000   96.839996   94.080002   96.349998   45964300   \n",
       " 2016-02-04   95.860001   97.330002   95.190002   96.599998   46471700   \n",
       " 2016-02-05   96.519997   96.919998   93.690002   94.019997   46418100   \n",
       " 2016-02-08   93.129997   95.699997   93.040001   95.010002   54021400   \n",
       " 2016-02-09   94.290001   95.940002   93.930000   94.989998   44331200   \n",
       " 2016-02-10   95.919998   96.349998   94.099998   94.269997   42245000   \n",
       " 2016-02-11   93.790001   94.720001   92.589996   93.699997   49686200   \n",
       " 2016-02-12   94.190002   94.500000   93.010002   93.989998   40121700   \n",
       " 2016-02-16   95.019997   96.849998   94.610001   96.639999   47490700   \n",
       " 2016-02-17   96.669998   98.209999   96.150002   98.120003   44390200   \n",
       " 2016-02-18   98.839996   98.889999   96.089996   96.260002   38494400   \n",
       " 2016-02-19   96.000000   96.760002   95.800003   96.040001   34485600   \n",
       " 2016-02-22   96.309998   96.900002   95.919998   96.879997   34048200   \n",
       " 2016-02-23   96.400002   96.500000   94.550003   94.690002   31686700   \n",
       " 2016-02-24   93.980003   96.379997   93.320000   96.099998   36155600   \n",
       " 2016-02-25   96.050003   96.760002   95.250000   96.760002   27393900   \n",
       " 2016-02-26   97.199997   98.019997   96.580002   96.910004   28913200   \n",
       " 2016-02-29   96.860001   98.230003   96.650002   96.690002   34876600   \n",
       " 2016-03-01   97.650002  100.769997   97.419998  100.529999   50153900   \n",
       " 2016-03-02  100.510002  100.889999   99.639999  100.750000   33084900   \n",
       " 2016-03-03  100.580002  101.709999  100.449997  101.500000   36792200   \n",
       " 2016-03-04  102.370003  103.750000  101.370003  103.010002   45936500   \n",
       " 2016-03-07  102.389999  102.830002  100.959999  101.870003   35828900   \n",
       " \n",
       "              Adj Close  \n",
       " Date                    \n",
       " 2010-01-04   28.313195  \n",
       " 2010-01-05   28.362145  \n",
       " 2010-01-06   27.911008  \n",
       " 2010-01-07   27.859412  \n",
       " 2010-01-08   28.044630  \n",
       " 2010-01-11   27.797232  \n",
       " 2010-01-12   27.481038  \n",
       " 2010-01-13   27.868673  \n",
       " 2010-01-14   27.707269  \n",
       " 2010-01-15   27.244224  \n",
       " 2010-01-19   28.449462  \n",
       " 2010-01-20   28.011555  \n",
       " 2010-01-21   27.527342  \n",
       " 2010-01-22   26.162022  \n",
       " 2010-01-25   26.865850  \n",
       " 2010-01-26   27.245547  \n",
       " 2010-01-27   27.502206  \n",
       " 2010-01-28   26.365761  \n",
       " 2010-01-29   25.409244  \n",
       " 2010-02-01   25.762481  \n",
       " 2010-02-02   25.911978  \n",
       " 2010-02-03   26.357823  \n",
       " 2010-02-04   25.407921  \n",
       " 2010-02-05   25.859059  \n",
       " 2010-02-08   25.681779  \n",
       " 2010-02-09   25.955637  \n",
       " 2010-02-10   25.814078  \n",
       " 2010-02-11   26.283736  \n",
       " 2010-02-12   26.509966  \n",
       " 2010-02-16   26.909508  \n",
       " ...                ...  \n",
       " 2016-01-25   98.903329  \n",
       " 2016-01-26   99.450356  \n",
       " 2016-01-27   92.915814  \n",
       " 2016-01-28   93.582196  \n",
       " 2016-01-29   96.814656  \n",
       " 2016-02-01   95.909571  \n",
       " 2016-02-02   93.970098  \n",
       " 2016-02-03   95.830001  \n",
       " 2016-02-04   96.599998  \n",
       " 2016-02-05   94.019997  \n",
       " 2016-02-08   95.010002  \n",
       " 2016-02-09   94.989998  \n",
       " 2016-02-10   94.269997  \n",
       " 2016-02-11   93.699997  \n",
       " 2016-02-12   93.989998  \n",
       " 2016-02-16   96.639999  \n",
       " 2016-02-17   98.120003  \n",
       " 2016-02-18   96.260002  \n",
       " 2016-02-19   96.040001  \n",
       " 2016-02-22   96.879997  \n",
       " 2016-02-23   94.690002  \n",
       " 2016-02-24   96.099998  \n",
       " 2016-02-25   96.760002  \n",
       " 2016-02-26   96.910004  \n",
       " 2016-02-29   96.690002  \n",
       " 2016-03-01  100.529999  \n",
       " 2016-03-02  100.750000  \n",
       " 2016-03-03  101.500000  \n",
       " 2016-03-04  103.010002  \n",
       " 2016-03-07  101.870003  \n",
       " \n",
       " [1554 rows x 6 columns],\n",
       " 'GOOG':                   Open        High         Low       Close    Volume  \\\n",
       " Date                                                                   \n",
       " 2010-01-04  626.951088  629.511067  624.241073  626.751061   3927000   \n",
       " 2010-01-05  627.181073  627.841071  621.541045  623.991055   6031900   \n",
       " 2010-01-06  625.861078  625.861078  606.361042  608.261023   7987100   \n",
       " 2010-01-07  609.401025  610.001045  592.651008  594.101005  12876600   \n",
       " 2010-01-08  592.000997  603.251034  589.110988  602.021036   9483900   \n",
       " 2010-01-11  604.461060  604.461060  594.041028  601.111020  14479800   \n",
       " 2010-01-12  597.651011  598.161034  588.001007  590.481036   9742900   \n",
       " 2010-01-13  576.490965  588.381027  573.900966  587.090991  13041800   \n",
       " 2010-01-14  583.900972  594.200988  582.811024  589.850997   8511900   \n",
       " 2010-01-15  593.341025  593.561024  578.041006  580.000965  10909600   \n",
       " 2010-01-19  581.201005  590.420997  576.290999  587.620986   8665700   \n",
       " 2010-01-20  585.981009  585.981009  575.290986  580.411005   6525700   \n",
       " 2010-01-21  583.441002  586.821000  572.251003  582.980970  12662600   \n",
       " 2010-01-22  564.500980  570.600979  534.860888  550.010933  13651700   \n",
       " 2010-01-25  546.590929  549.880931  535.510900  540.000941   8872800   \n",
       " 2010-01-26  537.970896  549.600954  536.290913  542.420931   8743600   \n",
       " 2010-01-27  541.270944  547.650920  535.310934  542.100949   7958400   \n",
       " 2010-01-28  544.490921  547.000908  530.600893  534.290888   6482300   \n",
       " 2010-01-29  538.490905  540.990906  525.610876  529.940896   8311900   \n",
       " 2010-02-01  534.600945  535.810910  530.300883  533.020884   4518400   \n",
       " 2010-02-02  534.960932  534.960932  527.610902  531.120903   8223000   \n",
       " 2010-02-03  528.670892  542.100949  528.230894  540.820899   6020500   \n",
       " 2010-02-04  537.000902  538.000915  525.560885  526.780897   6780600   \n",
       " 2010-02-05  528.400902  533.500888  522.460925  531.290910   6335600   \n",
       " 2010-02-08  532.500936  542.000905  531.530881  533.470930   5408700   \n",
       " 2010-02-09  539.540909  541.530949  535.070901  536.440949   5660200   \n",
       " 2010-02-10  534.070888  537.790902  527.690913  534.450909   5369000   \n",
       " 2010-02-11  533.320894  540.490931  529.500898  536.400943   4838000   \n",
       " 2010-02-12  532.970893  537.150938  530.500910  533.120928   4576400   \n",
       " 2010-02-16  536.870900  544.130933  534.300935  541.300902   7336100   \n",
       " ...                ...         ...         ...         ...       ...   \n",
       " 2016-01-25  723.580017  729.679993  710.010010  711.669983   1711700   \n",
       " 2016-01-26  713.849976  718.280029  706.479980  713.039978   1331700   \n",
       " 2016-01-27  713.669983  718.234985  694.390015  699.989990   2194200   \n",
       " 2016-01-28  722.219971  733.690002  712.349976  730.960022   2676400   \n",
       " 2016-01-29  731.530029  744.989990  726.799988  742.950012   3474300   \n",
       " 2016-02-01  750.460022  757.859985  743.270020  752.000000   5139200   \n",
       " 2016-02-02  784.500000  789.869995  764.650024  764.650024   6348100   \n",
       " 2016-02-03  770.219971  774.500000  720.500000  726.950012   6171000   \n",
       " 2016-02-04  722.809998  727.000000  701.859985  708.010010   5168700   \n",
       " 2016-02-05  703.869995  703.989990  680.150024  683.570007   5105700   \n",
       " 2016-02-08  667.849976  684.030029  663.059998  682.739990   4247400   \n",
       " 2016-02-09  672.320007  699.900024  668.770020  678.109985   3608900   \n",
       " 2016-02-10  686.859985  701.309998  682.130005  684.119995   2638000   \n",
       " 2016-02-11  675.000000  689.349976  668.867981  683.109985   3024000   \n",
       " 2016-02-12  690.260010  693.750000  678.599976  682.400024   2141400   \n",
       " 2016-02-16  692.979980  698.000000  685.049988  691.000000   2520000   \n",
       " 2016-02-17  698.090027  709.750000  691.380005  708.400024   2490000   \n",
       " 2016-02-18  710.000000  712.349976  696.030029  697.349976   1859100   \n",
       " 2016-02-19  695.030029  703.080994  694.049988  700.909973   1582300   \n",
       " 2016-02-22  707.450012  713.239990  702.510010  706.460022   1946100   \n",
       " 2016-02-23  701.450012  708.400024  693.580017  695.849976   1999700   \n",
       " 2016-02-24  688.919983  700.000000  680.780029  699.559998   1958600   \n",
       " 2016-02-25  700.010010  705.979980  690.585022  705.750000   1631900   \n",
       " 2016-02-26  708.580017  713.429993  700.859985  705.070007   2240000   \n",
       " 2016-02-29  700.320007  710.890015  697.679993  697.770020   2280300   \n",
       " 2016-03-01  703.619995  718.809998  699.770020  718.809998   2147400   \n",
       " 2016-03-02  719.000000  720.000000  712.000000  718.849976   1627800   \n",
       " 2016-03-03  718.679993  719.450012  706.020020  712.419983   1956800   \n",
       " 2016-03-04  714.989990  716.489990  706.020020  710.890015   1967900   \n",
       " 2016-03-07  706.900024  708.091003  686.900024  695.159973   2985100   \n",
       " \n",
       "              Adj Close  \n",
       " Date                    \n",
       " 2010-01-04  313.062468  \n",
       " 2010-01-05  311.683844  \n",
       " 2010-01-06  303.826685  \n",
       " 2010-01-07  296.753749  \n",
       " 2010-01-08  300.709808  \n",
       " 2010-01-11  300.255255  \n",
       " 2010-01-12  294.945572  \n",
       " 2010-01-13  293.252243  \n",
       " 2010-01-14  294.630868  \n",
       " 2010-01-15  289.710772  \n",
       " 2010-01-19  293.516976  \n",
       " 2010-01-20  289.915587  \n",
       " 2010-01-21  291.199286  \n",
       " 2010-01-22  274.730736  \n",
       " 2010-01-25  269.730740  \n",
       " 2010-01-26  270.939526  \n",
       " 2010-01-27  270.779695  \n",
       " 2010-01-28  266.878565  \n",
       " 2010-01-29  264.705742  \n",
       " 2010-02-01  266.244198  \n",
       " 2010-02-02  265.295156  \n",
       " 2010-02-03  270.140309  \n",
       " 2010-02-04  263.127321  \n",
       " 2010-02-05  265.380075  \n",
       " 2010-02-08  266.468996  \n",
       " 2010-02-09  267.952522  \n",
       " 2010-02-10  266.958496  \n",
       " 2010-02-11  267.932539  \n",
       " 2010-02-12  266.294170  \n",
       " 2010-02-16  270.380071  \n",
       " ...                ...  \n",
       " 2016-01-25  711.669983  \n",
       " 2016-01-26  713.039978  \n",
       " 2016-01-27  699.989990  \n",
       " 2016-01-28  730.960022  \n",
       " 2016-01-29  742.950012  \n",
       " 2016-02-01  752.000000  \n",
       " 2016-02-02  764.650024  \n",
       " 2016-02-03  726.950012  \n",
       " 2016-02-04  708.010010  \n",
       " 2016-02-05  683.570007  \n",
       " 2016-02-08  682.739990  \n",
       " 2016-02-09  678.109985  \n",
       " 2016-02-10  684.119995  \n",
       " 2016-02-11  683.109985  \n",
       " 2016-02-12  682.400024  \n",
       " 2016-02-16  691.000000  \n",
       " 2016-02-17  708.400024  \n",
       " 2016-02-18  697.349976  \n",
       " 2016-02-19  700.909973  \n",
       " 2016-02-22  706.460022  \n",
       " 2016-02-23  695.849976  \n",
       " 2016-02-24  699.559998  \n",
       " 2016-02-25  705.750000  \n",
       " 2016-02-26  705.070007  \n",
       " 2016-02-29  697.770020  \n",
       " 2016-03-01  718.809998  \n",
       " 2016-03-02  718.849976  \n",
       " 2016-03-03  712.419983  \n",
       " 2016-03-04  710.890015  \n",
       " 2016-03-07  695.159973  \n",
       " \n",
       " [1554 rows x 6 columns],\n",
       " 'IBM':                   Open        High         Low       Close    Volume  \\\n",
       " Date                                                                   \n",
       " 2010-01-04  131.179993  132.970001  130.850006  132.449997   6155300   \n",
       " 2010-01-05  131.679993  131.850006  130.100006  130.850006   6841400   \n",
       " 2010-01-06  130.679993  131.490005  129.809998  130.000000   5605300   \n",
       " 2010-01-07  129.869995  130.250000  128.910004  129.550003   5840600   \n",
       " 2010-01-08  129.070007  130.919998  129.050003  130.850006   4197200   \n",
       " 2010-01-11  131.059998  131.059998  128.669998  129.479996   5730400   \n",
       " 2010-01-12  129.029999  131.330002  129.000000  130.509995   8081500   \n",
       " 2010-01-13  130.389999  131.119995  129.160004  130.229996   6455400   \n",
       " 2010-01-14  130.550003  132.710007  129.910004  132.309998   7111800   \n",
       " 2010-01-15  132.029999  132.889999  131.089996  131.779999   8494400   \n",
       " 2010-01-19  131.630005  134.250000  131.559998  134.139999  13916200   \n",
       " 2010-01-20  130.460007  131.149994  128.949997  130.250000  15197500   \n",
       " 2010-01-21  130.470001  130.690002  128.059998  129.000000   9608600   \n",
       " 2010-01-22  128.669998  128.889999  125.370003  125.500000  10088600   \n",
       " 2010-01-25  126.330002  126.889999  125.709999  126.120003   5738500   \n",
       " 2010-01-26  125.919998  127.750000  125.410004  125.750000   7135300   \n",
       " 2010-01-27  125.820000  126.959999  125.040001  126.330002   8719200   \n",
       " 2010-01-28  127.029999  127.040001  123.050003  123.750000   9622200   \n",
       " 2010-01-29  124.320000  125.000000  121.900002  122.389999  11571200   \n",
       " 2010-02-01  123.230003  124.949997  122.779999  124.669998   7242900   \n",
       " 2010-02-02  124.790001  125.809998  123.949997  125.529999   5899900   \n",
       " 2010-02-03  125.160004  126.070000  125.070000  125.660004   4177100   \n",
       " 2010-02-04  125.190002  125.440002  122.900002  123.000000   9126900   \n",
       " 2010-02-05  123.040001  123.720001  121.830002  123.519997   8617000   \n",
       " 2010-02-08  123.150002  123.220001  121.739998  121.879997   5718500   \n",
       " 2010-02-09  122.650002  124.199997  122.459999  123.209999   6044500   \n",
       " 2010-02-10  122.940002  123.650002  122.209999  122.809998   5219100   \n",
       " 2010-02-11  122.580002  124.199997  122.059998  123.730003   5089000   \n",
       " 2010-02-12  123.010002  124.050003  121.610001  124.000000   8017700   \n",
       " 2010-02-16  124.910004  125.230003  124.110001  125.230003   6777300   \n",
       " ...                ...         ...         ...         ...       ...   \n",
       " 2016-01-25  122.099998  124.230003  121.639999  122.080002   5446000   \n",
       " 2016-01-26  122.250000  123.610001  122.239998  122.589996   4617800   \n",
       " 2016-01-27  122.730003  123.370003  120.650002  120.959999   5026400   \n",
       " 2016-01-28  121.260002  122.830002  121.010002  122.220001   3942500   \n",
       " 2016-01-29  123.279999  124.790001  122.959999  124.790001   8248100   \n",
       " 2016-02-01  124.400002  125.290001  123.709999  124.830002   3574900   \n",
       " 2016-02-02  123.669998  124.139999  122.639999  122.940002   3287300   \n",
       " 2016-02-03  123.989998  125.449997  122.290001  124.720001   6223500   \n",
       " 2016-02-04  125.080002  128.500000  125.000000  127.650002   5266500   \n",
       " 2016-02-05  127.220001  128.639999  125.849998  128.570007   7177700   \n",
       " 2016-02-08  126.000000  127.510002  124.129997  126.980003   7364000   \n",
       " 2016-02-09  126.120003  126.930000  123.769997  124.070000   5957200   \n",
       " 2016-02-10  125.000000  125.290001  119.839996  120.190002   6435100   \n",
       " 2016-02-11  118.779999  119.660004  116.900002  117.849998   7196100   \n",
       " 2016-02-12  119.260002  121.050003  118.349998  121.040001   4899000   \n",
       " 2016-02-16  121.830002  123.089996  121.339996  122.739998   4015600   \n",
       " 2016-02-17  123.709999  126.570000  123.250000  126.099998   4805500   \n",
       " 2016-02-18  130.000000  134.000000  129.750000  132.449997   9924900   \n",
       " 2016-02-19  132.360001  133.649994  130.839996  133.080002   5108500   \n",
       " 2016-02-22  133.080002  134.309998  132.410004  133.770004   4440500   \n",
       " 2016-02-23  133.139999  133.410004  132.009995  132.399994   3366800   \n",
       " 2016-02-24  131.550003  133.490005  129.679993  132.800003   4079800   \n",
       " 2016-02-25  133.289993  134.509995  130.880005  134.500000   4353600   \n",
       " 2016-02-26  134.509995  134.919998  131.949997  132.029999   4382900   \n",
       " 2016-02-29  132.000000  133.360001  130.899994  131.029999   4253300   \n",
       " 2016-03-01  132.240005  134.639999  132.029999  134.369995   3781100   \n",
       " 2016-03-02  133.699997  137.440002  133.220001  136.300003   5163000   \n",
       " 2016-03-03  137.220001  137.960007  136.070007  137.800003   5141200   \n",
       " 2016-03-04  137.539993  139.419998  137.020004  137.800003   3945100   \n",
       " 2016-03-07  137.279999  140.509995  136.869995  140.149994   5142400   \n",
       " \n",
       "              Adj Close  \n",
       " Date                    \n",
       " 2010-01-04  115.385996  \n",
       " 2010-01-05  113.992138  \n",
       " 2010-01-06  113.251641  \n",
       " 2010-01-07  112.859619  \n",
       " 2010-01-08  113.992138  \n",
       " 2010-01-11  112.798631  \n",
       " 2010-01-12  113.695931  \n",
       " 2010-01-13  113.452005  \n",
       " 2010-01-14  115.264033  \n",
       " 2010-01-15  114.802316  \n",
       " 2010-01-19  116.858269  \n",
       " 2010-01-20  113.469432  \n",
       " 2010-01-21  112.380474  \n",
       " 2010-01-22  109.331392  \n",
       " 2010-01-25  109.871517  \n",
       " 2010-01-26  109.549183  \n",
       " 2010-01-27  110.054461  \n",
       " 2010-01-28  107.806850  \n",
       " 2010-01-29  106.622063  \n",
       " 2010-02-01  108.608322  \n",
       " 2010-02-02  109.357526  \n",
       " 2010-02-03  109.470782  \n",
       " 2010-02-04  107.153476  \n",
       " 2010-02-05  107.606479  \n",
       " 2010-02-08  106.652662  \n",
       " 2010-02-09  107.816497  \n",
       " 2010-02-10  107.466471  \n",
       " 2010-02-11  108.271533  \n",
       " 2010-02-12  108.507797  \n",
       " 2010-02-16  109.584128  \n",
       " ...                ...  \n",
       " 2016-01-25  120.845625  \n",
       " 2016-01-26  121.350463  \n",
       " 2016-01-27  119.736947  \n",
       " 2016-01-28  120.984209  \n",
       " 2016-01-29  123.528223  \n",
       " 2016-02-01  123.567819  \n",
       " 2016-02-02  121.696930  \n",
       " 2016-02-03  123.458931  \n",
       " 2016-02-04  126.359305  \n",
       " 2016-02-05  127.270009  \n",
       " 2016-02-08  126.980003  \n",
       " 2016-02-09  124.070000  \n",
       " 2016-02-10  120.190002  \n",
       " 2016-02-11  117.849998  \n",
       " 2016-02-12  121.040001  \n",
       " 2016-02-16  122.739998  \n",
       " 2016-02-17  126.099998  \n",
       " 2016-02-18  132.449997  \n",
       " 2016-02-19  133.080002  \n",
       " 2016-02-22  133.770004  \n",
       " 2016-02-23  132.399994  \n",
       " 2016-02-24  132.800003  \n",
       " 2016-02-25  134.500000  \n",
       " 2016-02-26  132.029999  \n",
       " 2016-02-29  131.029999  \n",
       " 2016-03-01  134.369995  \n",
       " 2016-03-02  136.300003  \n",
       " 2016-03-03  137.800003  \n",
       " 2016-03-04  137.800003  \n",
       " 2016-03-07  140.149994  \n",
       " \n",
       " [1554 rows x 6 columns],\n",
       " 'MSFT':                  Open       High        Low      Close     Volume  Adj Close\n",
       " Date                                                                        \n",
       " 2010-01-04  30.620001  31.100000  30.590000  30.950001   38409100  26.227603\n",
       " 2010-01-05  30.850000  31.100000  30.639999  30.959999   49749600  26.236076\n",
       " 2010-01-06  30.879999  31.080000  30.520000  30.770000   58182400  26.075067\n",
       " 2010-01-07  30.629999  30.700001  30.190001  30.450001   50559700  25.803894\n",
       " 2010-01-08  30.280001  30.879999  30.240000  30.660000   51197400  25.981851\n",
       " 2010-01-11  30.709999  30.760000  30.120001  30.270000   68754700  25.651358\n",
       " 2010-01-12  30.150000  30.400000  29.910000  30.070000   65912100  25.481874\n",
       " 2010-01-13  30.260000  30.520000  30.010000  30.350000   51863500  25.719151\n",
       " 2010-01-14  30.309999  31.100000  30.260000  30.959999   63228100  26.236076\n",
       " 2010-01-15  31.080000  31.240000  30.709999  30.860001   79913200  26.151335\n",
       " 2010-01-19  30.750000  31.240000  30.680000  31.100000   46575700  26.354715\n",
       " 2010-01-20  30.809999  30.940001  30.309999  30.590000   54849500  25.922532\n",
       " 2010-01-21  30.610001  30.719999  30.000000  30.010000   73086700  25.431029\n",
       " 2010-01-22  30.000000  30.200001  28.840000  28.959999  102004600  24.541239\n",
       " 2010-01-25  29.240000  29.660000  29.100000  29.320000   63373000  24.846310\n",
       " 2010-01-26  29.200001  29.850000  29.090000  29.500000   66639900  24.998845\n",
       " 2010-01-27  29.350000  29.820000  29.020000  29.670000   63949500  25.142907\n",
       " 2010-01-28  29.840000  29.870001  28.889999  29.160000  117513700  24.710723\n",
       " 2010-01-29  29.900000  29.920000  27.660000  28.180000  193888500  23.880253\n",
       " 2010-02-01  28.389999  28.480000  27.920000  28.410000   85931100  24.075159\n",
       " 2010-02-02  28.370001  28.500000  28.139999  28.459999   54413700  24.117529\n",
       " 2010-02-03  28.260000  28.790001  28.120001  28.629999   61397900  24.261591\n",
       " 2010-02-04  28.379999  28.500000  27.809999  27.840000   77850000  23.592131\n",
       " 2010-02-05  28.000000  28.280001  27.570000  28.020000   80960100  23.744666\n",
       " 2010-02-08  28.010000  28.080000  27.570000  27.719999   52820600  23.490440\n",
       " 2010-02-09  27.969999  28.340000  27.750000  28.010000   59195800  23.736192\n",
       " 2010-02-10  28.030001  28.240000  27.840000  27.990000   48591300  23.719243\n",
       " 2010-02-11  27.930000  28.400000  27.700001  28.120001   65993700  23.829409\n",
       " 2010-02-12  27.809999  28.059999  27.580000  27.930000   81117200  23.668399\n",
       " 2010-02-16  28.129999  28.370001  28.020000  28.350000   51935600  24.136659\n",
       " ...               ...        ...        ...        ...        ...        ...\n",
       " 2016-01-25  51.939999  52.650002  51.650002  51.790001   34707700  51.420805\n",
       " 2016-01-26  51.790001  52.439999  51.549999  52.169998   28900800  51.798093\n",
       " 2016-01-27  52.009998  52.200001  51.020000  51.220001   36775200  50.854868\n",
       " 2016-01-28  51.860001  52.209999  51.250000  52.060001   62513800  51.688880\n",
       " 2016-01-29  54.730000  55.090000  54.000000  55.090000   83611700  54.697279\n",
       " 2016-02-01  54.880001  55.090000  54.500000  54.709999   44208500  54.319987\n",
       " 2016-02-02  54.169998  54.259998  52.650002  53.000000   56313800  52.622178\n",
       " 2016-02-03  53.250000  53.389999  51.259998  52.160000   57559800  51.788166\n",
       " 2016-02-04  52.099998  52.810001  51.369999  52.000000   46987100  51.629307\n",
       " 2016-02-05  51.939999  52.000000  49.560001  50.160000   62009000  49.802423\n",
       " 2016-02-08  49.549999  49.570000  48.189999  49.410000   59290500  49.057770\n",
       " 2016-02-09  49.020000  50.240002  48.669998  49.279999   46740500  48.928696\n",
       " 2016-02-10  49.889999  50.389999  49.520000  49.709999   38237000  49.355631\n",
       " 2016-02-11  48.680000  50.110001  48.509998  49.689999   48878600  49.335773\n",
       " 2016-02-12  50.250000  50.680000  49.750000  50.500000   34243300  50.140000\n",
       " 2016-02-16  50.900002  51.090000  50.130001  51.090000   35937100  51.090000\n",
       " 2016-02-17  51.490002  52.770000  51.450001  52.419998   39670300  52.419998\n",
       " 2016-02-18  52.330002  52.950001  52.099998  52.189999   26244700  52.189999\n",
       " 2016-02-19  51.970001  52.279999  51.529999  51.820000   33275400  51.820000\n",
       " 2016-02-22  52.279999  53.000000  52.279999  52.650002   24854400  52.650002\n",
       " 2016-02-23  52.340000  52.369999  50.980000  51.180000   28390800  51.180000\n",
       " 2016-02-24  50.689999  51.500000  50.200001  51.360001   32076000  51.360001\n",
       " 2016-02-25  51.730000  52.099998  50.610001  52.099998   26695900  52.099998\n",
       " 2016-02-26  52.599998  52.680000  51.099998  51.299999   35869200  51.299999\n",
       " 2016-02-29  51.349998  51.650002  50.660000  50.880001   31247100  50.880001\n",
       " 2016-03-01  50.970001  52.590000  50.919998  52.580002   32778500  52.580002\n",
       " 2016-03-02  52.410000  52.959999  52.160000  52.950001   29049200  52.950001\n",
       " 2016-03-03  52.970001  52.970001  51.779999  52.349998   24418100  52.349998\n",
       " 2016-03-04  52.400002  52.450001  51.709999  52.029999   32280400  52.029999\n",
       " 2016-03-07  51.560001  51.799999  50.580002  51.029999   38407800  51.029999\n",
       " \n",
       " [1554 rows x 6 columns]}"
      ]
     },
     "execution_count": 91,
     "metadata": {},
     "output_type": "execute_result"
    }
   ],
   "source": [
    "all_data = {}\n",
    "for ticker in ['AAPL', 'IBM', 'MSFT', 'GOOG']:\n",
    "    all_data[ticker] = web.get_data_yahoo(ticker)\n",
    "all_data"
   ]
  },
  {
   "cell_type": "code",
   "execution_count": 93,
   "metadata": {
    "collapsed": false
   },
   "outputs": [
    {
     "data": {
      "text/plain": [
       "(                  AAPL        GOOG         IBM       MSFT\n",
       " Date                                                     \n",
       " 2010-01-04   28.313195  313.062468  115.385996  26.227603\n",
       " 2010-01-05   28.362145  311.683844  113.992138  26.236076\n",
       " 2010-01-06   27.911008  303.826685  113.251641  26.075067\n",
       " 2010-01-07   27.859412  296.753749  112.859619  25.803894\n",
       " 2010-01-08   28.044630  300.709808  113.992138  25.981851\n",
       " 2010-01-11   27.797232  300.255255  112.798631  25.651358\n",
       " 2010-01-12   27.481038  294.945572  113.695931  25.481874\n",
       " 2010-01-13   27.868673  293.252243  113.452005  25.719151\n",
       " 2010-01-14   27.707269  294.630868  115.264033  26.236076\n",
       " 2010-01-15   27.244224  289.710772  114.802316  26.151335\n",
       " 2010-01-19   28.449462  293.516976  116.858269  26.354715\n",
       " 2010-01-20   28.011555  289.915587  113.469432  25.922532\n",
       " 2010-01-21   27.527342  291.199286  112.380474  25.431029\n",
       " 2010-01-22   26.162022  274.730736  109.331392  24.541239\n",
       " 2010-01-25   26.865850  269.730740  109.871517  24.846310\n",
       " 2010-01-26   27.245547  270.939526  109.549183  24.998845\n",
       " 2010-01-27   27.502206  270.779695  110.054461  25.142907\n",
       " 2010-01-28   26.365761  266.878565  107.806850  24.710723\n",
       " 2010-01-29   25.409244  264.705742  106.622063  23.880253\n",
       " 2010-02-01   25.762481  266.244198  108.608322  24.075159\n",
       " 2010-02-02   25.911978  265.295156  109.357526  24.117529\n",
       " 2010-02-03   26.357823  270.140309  109.470782  24.261591\n",
       " 2010-02-04   25.407921  263.127321  107.153476  23.592131\n",
       " 2010-02-05   25.859059  265.380075  107.606479  23.744666\n",
       " 2010-02-08   25.681779  266.468996  106.652662  23.490440\n",
       " 2010-02-09   25.955637  267.952522  107.816497  23.736192\n",
       " 2010-02-10   25.814078  266.958496  107.466471  23.719243\n",
       " 2010-02-11   26.283736  267.932539  108.271533  23.829409\n",
       " 2010-02-12   26.509966  266.294170  108.507797  23.668399\n",
       " 2010-02-16   26.909508  270.380071  109.584128  24.136659\n",
       " ...                ...         ...         ...        ...\n",
       " 2016-01-25   98.903329  711.669983  120.845625  51.420805\n",
       " 2016-01-26   99.450356  713.039978  121.350463  51.798093\n",
       " 2016-01-27   92.915814  699.989990  119.736947  50.854868\n",
       " 2016-01-28   93.582196  730.960022  120.984209  51.688880\n",
       " 2016-01-29   96.814656  742.950012  123.528223  54.697279\n",
       " 2016-02-01   95.909571  752.000000  123.567819  54.319987\n",
       " 2016-02-02   93.970098  764.650024  121.696930  52.622178\n",
       " 2016-02-03   95.830001  726.950012  123.458931  51.788166\n",
       " 2016-02-04   96.599998  708.010010  126.359305  51.629307\n",
       " 2016-02-05   94.019997  683.570007  127.270009  49.802423\n",
       " 2016-02-08   95.010002  682.739990  126.980003  49.057770\n",
       " 2016-02-09   94.989998  678.109985  124.070000  48.928696\n",
       " 2016-02-10   94.269997  684.119995  120.190002  49.355631\n",
       " 2016-02-11   93.699997  683.109985  117.849998  49.335773\n",
       " 2016-02-12   93.989998  682.400024  121.040001  50.140000\n",
       " 2016-02-16   96.639999  691.000000  122.739998  51.090000\n",
       " 2016-02-17   98.120003  708.400024  126.099998  52.419998\n",
       " 2016-02-18   96.260002  697.349976  132.449997  52.189999\n",
       " 2016-02-19   96.040001  700.909973  133.080002  51.820000\n",
       " 2016-02-22   96.879997  706.460022  133.770004  52.650002\n",
       " 2016-02-23   94.690002  695.849976  132.399994  51.180000\n",
       " 2016-02-24   96.099998  699.559998  132.800003  51.360001\n",
       " 2016-02-25   96.760002  705.750000  134.500000  52.099998\n",
       " 2016-02-26   96.910004  705.070007  132.029999  51.299999\n",
       " 2016-02-29   96.690002  697.770020  131.029999  50.880001\n",
       " 2016-03-01  100.529999  718.809998  134.369995  52.580002\n",
       " 2016-03-02  100.750000  718.849976  136.300003  52.950001\n",
       " 2016-03-03  101.500000  712.419983  137.800003  52.349998\n",
       " 2016-03-04  103.010002  710.890015  137.800003  52.029999\n",
       " 2016-03-07  101.870003  695.159973  140.149994  51.029999\n",
       " \n",
       " [1554 rows x 4 columns],                  AAPL      GOOG       IBM       MSFT\n",
       " Date                                                \n",
       " 2010-01-04  123432400   3927000   6155300   38409100\n",
       " 2010-01-05  150476200   6031900   6841400   49749600\n",
       " 2010-01-06  138040000   7987100   5605300   58182400\n",
       " 2010-01-07  119282800  12876600   5840600   50559700\n",
       " 2010-01-08  111902700   9483900   4197200   51197400\n",
       " 2010-01-11  115557400  14479800   5730400   68754700\n",
       " 2010-01-12  148614900   9742900   8081500   65912100\n",
       " 2010-01-13  151473000  13041800   6455400   51863500\n",
       " 2010-01-14  108223500   8511900   7111800   63228100\n",
       " 2010-01-15  148516900  10909600   8494400   79913200\n",
       " 2010-01-19  182501900   8665700  13916200   46575700\n",
       " 2010-01-20  153038200   6525700  15197500   54849500\n",
       " 2010-01-21  152038600  12662600   9608600   73086700\n",
       " 2010-01-22  220441900  13651700  10088600  102004600\n",
       " 2010-01-25  266424900   8872800   5738500   63373000\n",
       " 2010-01-26  466777500   8743600   7135300   66639900\n",
       " 2010-01-27  430642100   7958400   8719200   63949500\n",
       " 2010-01-28  293375600   6482300   9622200  117513700\n",
       " 2010-01-29  311488100   8311900  11571200  193888500\n",
       " 2010-02-01  187469100   4518400   7242900   85931100\n",
       " 2010-02-02  174585600   8223000   5899900   54413700\n",
       " 2010-02-03  153832000   6020500   4177100   61397900\n",
       " 2010-02-04  189413000   6780600   9126900   77850000\n",
       " 2010-02-05  212576700   6335600   8617000   80960100\n",
       " 2010-02-08  119567700   5408700   5718500   52820600\n",
       " 2010-02-09  158221700   5660200   6044500   59195800\n",
       " 2010-02-10   92590400   5369000   5219100   48591300\n",
       " 2010-02-11  137586400   4838000   5089000   65993700\n",
       " 2010-02-12  163867200   4576400   8017700   81117200\n",
       " 2010-02-16  135934400   7336100   6777300   51935600\n",
       " ...               ...       ...       ...        ...\n",
       " 2016-01-25   51794500   1711700   5446000   34707700\n",
       " 2016-01-26   75077000   1331700   4617800   28900800\n",
       " 2016-01-27  133369700   2194200   5026400   36775200\n",
       " 2016-01-28   55678800   2676400   3942500   62513800\n",
       " 2016-01-29   64416500   3474300   8248100   83611700\n",
       " 2016-02-01   40943500   5139200   3574900   44208500\n",
       " 2016-02-02   37357200   6348100   3287300   56313800\n",
       " 2016-02-03   45964300   6171000   6223500   57559800\n",
       " 2016-02-04   46471700   5168700   5266500   46987100\n",
       " 2016-02-05   46418100   5105700   7177700   62009000\n",
       " 2016-02-08   54021400   4247400   7364000   59290500\n",
       " 2016-02-09   44331200   3608900   5957200   46740500\n",
       " 2016-02-10   42245000   2638000   6435100   38237000\n",
       " 2016-02-11   49686200   3024000   7196100   48878600\n",
       " 2016-02-12   40121700   2141400   4899000   34243300\n",
       " 2016-02-16   47490700   2520000   4015600   35937100\n",
       " 2016-02-17   44390200   2490000   4805500   39670300\n",
       " 2016-02-18   38494400   1859100   9924900   26244700\n",
       " 2016-02-19   34485600   1582300   5108500   33275400\n",
       " 2016-02-22   34048200   1946100   4440500   24854400\n",
       " 2016-02-23   31686700   1999700   3366800   28390800\n",
       " 2016-02-24   36155600   1958600   4079800   32076000\n",
       " 2016-02-25   27393900   1631900   4353600   26695900\n",
       " 2016-02-26   28913200   2240000   4382900   35869200\n",
       " 2016-02-29   34876600   2280300   4253300   31247100\n",
       " 2016-03-01   50153900   2147400   3781100   32778500\n",
       " 2016-03-02   33084900   1627800   5163000   29049200\n",
       " 2016-03-03   36792200   1956800   5141200   24418100\n",
       " 2016-03-04   45936500   1967900   3945100   32280400\n",
       " 2016-03-07   35828900   2985100   5142400   38407800\n",
       " \n",
       " [1554 rows x 4 columns])"
      ]
     },
     "execution_count": 93,
     "metadata": {},
     "output_type": "execute_result"
    }
   ],
   "source": [
    "price = DataFrame({\n",
    "        tic: data['Adj Close']\n",
    "        for tic, data in all_data.items()\n",
    "    })\n",
    "volume = DataFrame({\n",
    "        tic: data['Volume']\n",
    "        for tic, data in all_data.items()\n",
    "    })\n",
    "price, volume"
   ]
  },
  {
   "cell_type": "code",
   "execution_count": 94,
   "metadata": {
    "collapsed": false
   },
   "outputs": [
    {
     "data": {
      "text/html": [
       "<div>\n",
       "<table border=\"1\" class=\"dataframe\">\n",
       "  <thead>\n",
       "    <tr style=\"text-align: right;\">\n",
       "      <th></th>\n",
       "      <th>AAPL</th>\n",
       "      <th>GOOG</th>\n",
       "      <th>IBM</th>\n",
       "      <th>MSFT</th>\n",
       "    </tr>\n",
       "    <tr>\n",
       "      <th>Date</th>\n",
       "      <th></th>\n",
       "      <th></th>\n",
       "      <th></th>\n",
       "      <th></th>\n",
       "    </tr>\n",
       "  </thead>\n",
       "  <tbody>\n",
       "    <tr>\n",
       "      <th>2016-03-01</th>\n",
       "      <td>0.039715</td>\n",
       "      <td>0.030153</td>\n",
       "      <td>0.025490</td>\n",
       "      <td>0.033412</td>\n",
       "    </tr>\n",
       "    <tr>\n",
       "      <th>2016-03-02</th>\n",
       "      <td>0.002188</td>\n",
       "      <td>0.000056</td>\n",
       "      <td>0.014363</td>\n",
       "      <td>0.007037</td>\n",
       "    </tr>\n",
       "    <tr>\n",
       "      <th>2016-03-03</th>\n",
       "      <td>0.007444</td>\n",
       "      <td>-0.008945</td>\n",
       "      <td>0.011005</td>\n",
       "      <td>-0.011332</td>\n",
       "    </tr>\n",
       "    <tr>\n",
       "      <th>2016-03-04</th>\n",
       "      <td>0.014877</td>\n",
       "      <td>-0.002148</td>\n",
       "      <td>0.000000</td>\n",
       "      <td>-0.006113</td>\n",
       "    </tr>\n",
       "    <tr>\n",
       "      <th>2016-03-07</th>\n",
       "      <td>-0.011067</td>\n",
       "      <td>-0.022127</td>\n",
       "      <td>0.017054</td>\n",
       "      <td>-0.019220</td>\n",
       "    </tr>\n",
       "  </tbody>\n",
       "</table>\n",
       "</div>"
      ],
      "text/plain": [
       "                AAPL      GOOG       IBM      MSFT\n",
       "Date                                              \n",
       "2016-03-01  0.039715  0.030153  0.025490  0.033412\n",
       "2016-03-02  0.002188  0.000056  0.014363  0.007037\n",
       "2016-03-03  0.007444 -0.008945  0.011005 -0.011332\n",
       "2016-03-04  0.014877 -0.002148  0.000000 -0.006113\n",
       "2016-03-07 -0.011067 -0.022127  0.017054 -0.019220"
      ]
     },
     "execution_count": 94,
     "metadata": {},
     "output_type": "execute_result"
    }
   ],
   "source": [
    "returns = price.pct_change()\n",
    "returns.tail()"
   ]
  },
  {
   "cell_type": "code",
   "execution_count": 95,
   "metadata": {
    "collapsed": false
   },
   "outputs": [
    {
     "data": {
      "text/plain": [
       "0.50079116426248049"
      ]
     },
     "execution_count": 95,
     "metadata": {},
     "output_type": "execute_result"
    }
   ],
   "source": [
    "returns['MSFT'].corr(returns['IBM'])  # Series"
   ]
  },
  {
   "cell_type": "code",
   "execution_count": 96,
   "metadata": {
    "collapsed": false
   },
   "outputs": [
    {
     "data": {
      "text/plain": [
       "9.0400254937132455e-05"
      ]
     },
     "execution_count": 96,
     "metadata": {},
     "output_type": "execute_result"
    }
   ],
   "source": [
    "returns['MSFT'].cov(returns['IBM'])  # Series"
   ]
  },
  {
   "cell_type": "code",
   "execution_count": 97,
   "metadata": {
    "collapsed": false
   },
   "outputs": [
    {
     "data": {
      "text/html": [
       "<div>\n",
       "<table border=\"1\" class=\"dataframe\">\n",
       "  <thead>\n",
       "    <tr style=\"text-align: right;\">\n",
       "      <th></th>\n",
       "      <th>AAPL</th>\n",
       "      <th>GOOG</th>\n",
       "      <th>IBM</th>\n",
       "      <th>MSFT</th>\n",
       "    </tr>\n",
       "  </thead>\n",
       "  <tbody>\n",
       "    <tr>\n",
       "      <th>AAPL</th>\n",
       "      <td>1.000000</td>\n",
       "      <td>0.409313</td>\n",
       "      <td>0.394773</td>\n",
       "      <td>0.397084</td>\n",
       "    </tr>\n",
       "    <tr>\n",
       "      <th>GOOG</th>\n",
       "      <td>0.409313</td>\n",
       "      <td>1.000000</td>\n",
       "      <td>0.399868</td>\n",
       "      <td>0.454979</td>\n",
       "    </tr>\n",
       "    <tr>\n",
       "      <th>IBM</th>\n",
       "      <td>0.394773</td>\n",
       "      <td>0.399868</td>\n",
       "      <td>1.000000</td>\n",
       "      <td>0.500791</td>\n",
       "    </tr>\n",
       "    <tr>\n",
       "      <th>MSFT</th>\n",
       "      <td>0.397084</td>\n",
       "      <td>0.454979</td>\n",
       "      <td>0.500791</td>\n",
       "      <td>1.000000</td>\n",
       "    </tr>\n",
       "  </tbody>\n",
       "</table>\n",
       "</div>"
      ],
      "text/plain": [
       "          AAPL      GOOG       IBM      MSFT\n",
       "AAPL  1.000000  0.409313  0.394773  0.397084\n",
       "GOOG  0.409313  1.000000  0.399868  0.454979\n",
       "IBM   0.394773  0.399868  1.000000  0.500791\n",
       "MSFT  0.397084  0.454979  0.500791  1.000000"
      ]
     },
     "execution_count": 97,
     "metadata": {},
     "output_type": "execute_result"
    }
   ],
   "source": [
    "returns.corr()  # DataFrame"
   ]
  },
  {
   "cell_type": "code",
   "execution_count": 98,
   "metadata": {
    "collapsed": false
   },
   "outputs": [
    {
     "data": {
      "text/html": [
       "<div>\n",
       "<table border=\"1\" class=\"dataframe\">\n",
       "  <thead>\n",
       "    <tr style=\"text-align: right;\">\n",
       "      <th></th>\n",
       "      <th>AAPL</th>\n",
       "      <th>GOOG</th>\n",
       "      <th>IBM</th>\n",
       "      <th>MSFT</th>\n",
       "    </tr>\n",
       "  </thead>\n",
       "  <tbody>\n",
       "    <tr>\n",
       "      <th>AAPL</th>\n",
       "      <td>0.000287</td>\n",
       "      <td>0.000113</td>\n",
       "      <td>0.000081</td>\n",
       "      <td>0.00010</td>\n",
       "    </tr>\n",
       "    <tr>\n",
       "      <th>GOOG</th>\n",
       "      <td>0.000113</td>\n",
       "      <td>0.000265</td>\n",
       "      <td>0.000079</td>\n",
       "      <td>0.00011</td>\n",
       "    </tr>\n",
       "    <tr>\n",
       "      <th>IBM</th>\n",
       "      <td>0.000081</td>\n",
       "      <td>0.000079</td>\n",
       "      <td>0.000148</td>\n",
       "      <td>0.00009</td>\n",
       "    </tr>\n",
       "    <tr>\n",
       "      <th>MSFT</th>\n",
       "      <td>0.000100</td>\n",
       "      <td>0.000110</td>\n",
       "      <td>0.000090</td>\n",
       "      <td>0.00022</td>\n",
       "    </tr>\n",
       "  </tbody>\n",
       "</table>\n",
       "</div>"
      ],
      "text/plain": [
       "          AAPL      GOOG       IBM     MSFT\n",
       "AAPL  0.000287  0.000113  0.000081  0.00010\n",
       "GOOG  0.000113  0.000265  0.000079  0.00011\n",
       "IBM   0.000081  0.000079  0.000148  0.00009\n",
       "MSFT  0.000100  0.000110  0.000090  0.00022"
      ]
     },
     "execution_count": 98,
     "metadata": {},
     "output_type": "execute_result"
    }
   ],
   "source": [
    "returns.cov()  # DataFrame"
   ]
  },
  {
   "cell_type": "code",
   "execution_count": 99,
   "metadata": {
    "collapsed": false
   },
   "outputs": [
    {
     "data": {
      "text/plain": [
       "AAPL    0.394773\n",
       "GOOG    0.399868\n",
       "IBM     1.000000\n",
       "MSFT    0.500791\n",
       "dtype: float64"
      ]
     },
     "execution_count": 99,
     "metadata": {},
     "output_type": "execute_result"
    }
   ],
   "source": [
    "returns.corrwith(returns.IBM)  # DataFrame corrWith Series"
   ]
  },
  {
   "cell_type": "code",
   "execution_count": 101,
   "metadata": {
    "collapsed": false
   },
   "outputs": [
    {
     "data": {
      "text/plain": [
       "AAPL   -0.081546\n",
       "GOOG   -0.001707\n",
       "IBM    -0.203455\n",
       "MSFT   -0.081673\n",
       "dtype: float64"
      ]
     },
     "execution_count": 101,
     "metadata": {},
     "output_type": "execute_result"
    }
   ],
   "source": [
    "returns.corrwith(volume)  # DataFrame corrwith DataFrame, matching columes"
   ]
  },
  {
   "cell_type": "markdown",
   "metadata": {},
   "source": [
    "### unique values, value counts and membership"
   ]
  },
  {
   "cell_type": "code",
   "execution_count": 102,
   "metadata": {
    "collapsed": true
   },
   "outputs": [],
   "source": [
    "obj = Series(list('cadaabbcc'))"
   ]
  },
  {
   "cell_type": "code",
   "execution_count": 103,
   "metadata": {
    "collapsed": false
   },
   "outputs": [
    {
     "data": {
      "text/plain": [
       "0    c\n",
       "1    a\n",
       "2    d\n",
       "3    a\n",
       "4    a\n",
       "5    b\n",
       "6    b\n",
       "7    c\n",
       "8    c\n",
       "dtype: object"
      ]
     },
     "execution_count": 103,
     "metadata": {},
     "output_type": "execute_result"
    }
   ],
   "source": [
    "obj"
   ]
  },
  {
   "cell_type": "code",
   "execution_count": 104,
   "metadata": {
    "collapsed": false
   },
   "outputs": [
    {
     "data": {
      "text/plain": [
       "array(['c', 'a', 'd', 'b'], dtype=object)"
      ]
     },
     "execution_count": 104,
     "metadata": {},
     "output_type": "execute_result"
    }
   ],
   "source": [
    "obj.unique()"
   ]
  },
  {
   "cell_type": "code",
   "execution_count": 105,
   "metadata": {
    "collapsed": false
   },
   "outputs": [
    {
     "data": {
      "text/plain": [
       "c    3\n",
       "a    3\n",
       "b    2\n",
       "d    1\n",
       "dtype: int64"
      ]
     },
     "execution_count": 105,
     "metadata": {},
     "output_type": "execute_result"
    }
   ],
   "source": [
    "obj.value_counts()  # as a Series method"
   ]
  },
  {
   "cell_type": "code",
   "execution_count": 106,
   "metadata": {
    "collapsed": false
   },
   "outputs": [
    {
     "data": {
      "text/plain": [
       "c    3\n",
       "a    3\n",
       "b    2\n",
       "d    1\n",
       "dtype: int64"
      ]
     },
     "execution_count": 106,
     "metadata": {},
     "output_type": "execute_result"
    }
   ],
   "source": [
    "pd.value_counts(obj.values)  # as a pandas top-level method"
   ]
  },
  {
   "cell_type": "code",
   "execution_count": 107,
   "metadata": {
    "collapsed": false
   },
   "outputs": [
    {
     "data": {
      "text/plain": [
       "0     True\n",
       "1    False\n",
       "2    False\n",
       "3    False\n",
       "4    False\n",
       "5     True\n",
       "6     True\n",
       "7     True\n",
       "8     True\n",
       "dtype: bool"
      ]
     },
     "execution_count": 107,
     "metadata": {},
     "output_type": "execute_result"
    }
   ],
   "source": [
    "mask = obj.isin(list('bc'))\n",
    "mask"
   ]
  },
  {
   "cell_type": "code",
   "execution_count": 108,
   "metadata": {
    "collapsed": false
   },
   "outputs": [
    {
     "data": {
      "text/plain": [
       "0    c\n",
       "5    b\n",
       "6    b\n",
       "7    c\n",
       "8    c\n",
       "dtype: object"
      ]
     },
     "execution_count": 108,
     "metadata": {},
     "output_type": "execute_result"
    }
   ],
   "source": [
    "obj[mask]"
   ]
  },
  {
   "cell_type": "code",
   "execution_count": 109,
   "metadata": {
    "collapsed": false
   },
   "outputs": [
    {
     "data": {
      "text/html": [
       "<div>\n",
       "<table border=\"1\" class=\"dataframe\">\n",
       "  <thead>\n",
       "    <tr style=\"text-align: right;\">\n",
       "      <th></th>\n",
       "      <th>Qu1</th>\n",
       "      <th>Qu2</th>\n",
       "      <th>Qu3</th>\n",
       "    </tr>\n",
       "  </thead>\n",
       "  <tbody>\n",
       "    <tr>\n",
       "      <th>0</th>\n",
       "      <td>1</td>\n",
       "      <td>2</td>\n",
       "      <td>1</td>\n",
       "    </tr>\n",
       "    <tr>\n",
       "      <th>1</th>\n",
       "      <td>3</td>\n",
       "      <td>3</td>\n",
       "      <td>5</td>\n",
       "    </tr>\n",
       "    <tr>\n",
       "      <th>2</th>\n",
       "      <td>4</td>\n",
       "      <td>1</td>\n",
       "      <td>2</td>\n",
       "    </tr>\n",
       "    <tr>\n",
       "      <th>3</th>\n",
       "      <td>3</td>\n",
       "      <td>2</td>\n",
       "      <td>4</td>\n",
       "    </tr>\n",
       "    <tr>\n",
       "      <th>4</th>\n",
       "      <td>4</td>\n",
       "      <td>3</td>\n",
       "      <td>4</td>\n",
       "    </tr>\n",
       "  </tbody>\n",
       "</table>\n",
       "</div>"
      ],
      "text/plain": [
       "   Qu1  Qu2  Qu3\n",
       "0    1    2    1\n",
       "1    3    3    5\n",
       "2    4    1    2\n",
       "3    3    2    4\n",
       "4    4    3    4"
      ]
     },
     "execution_count": 109,
     "metadata": {},
     "output_type": "execute_result"
    }
   ],
   "source": [
    "data = DataFrame({\n",
    "        'Qu1': [1, 3, 4, 3, 4],\n",
    "        'Qu2': [2, 3, 1, 2, 3],\n",
    "        'Qu3': [1, 5, 2, 4, 4]\n",
    "    })\n",
    "data"
   ]
  },
  {
   "cell_type": "code",
   "execution_count": 110,
   "metadata": {
    "collapsed": false
   },
   "outputs": [
    {
     "data": {
      "text/html": [
       "<div>\n",
       "<table border=\"1\" class=\"dataframe\">\n",
       "  <thead>\n",
       "    <tr style=\"text-align: right;\">\n",
       "      <th></th>\n",
       "      <th>Qu1</th>\n",
       "      <th>Qu2</th>\n",
       "      <th>Qu3</th>\n",
       "    </tr>\n",
       "  </thead>\n",
       "  <tbody>\n",
       "    <tr>\n",
       "      <th>1</th>\n",
       "      <td>1</td>\n",
       "      <td>1</td>\n",
       "      <td>1</td>\n",
       "    </tr>\n",
       "    <tr>\n",
       "      <th>2</th>\n",
       "      <td>NaN</td>\n",
       "      <td>2</td>\n",
       "      <td>1</td>\n",
       "    </tr>\n",
       "    <tr>\n",
       "      <th>3</th>\n",
       "      <td>2</td>\n",
       "      <td>2</td>\n",
       "      <td>NaN</td>\n",
       "    </tr>\n",
       "    <tr>\n",
       "      <th>4</th>\n",
       "      <td>2</td>\n",
       "      <td>NaN</td>\n",
       "      <td>2</td>\n",
       "    </tr>\n",
       "    <tr>\n",
       "      <th>5</th>\n",
       "      <td>NaN</td>\n",
       "      <td>NaN</td>\n",
       "      <td>1</td>\n",
       "    </tr>\n",
       "  </tbody>\n",
       "</table>\n",
       "</div>"
      ],
      "text/plain": [
       "   Qu1  Qu2  Qu3\n",
       "1    1    1    1\n",
       "2  NaN    2    1\n",
       "3    2    2  NaN\n",
       "4    2  NaN    2\n",
       "5  NaN  NaN    1"
      ]
     },
     "execution_count": 110,
     "metadata": {},
     "output_type": "execute_result"
    }
   ],
   "source": [
    "data.apply(pd.value_counts)  # apply to each column"
   ]
  },
  {
   "cell_type": "code",
   "execution_count": 111,
   "metadata": {
    "collapsed": false
   },
   "outputs": [
    {
     "data": {
      "text/html": [
       "<div>\n",
       "<table border=\"1\" class=\"dataframe\">\n",
       "  <thead>\n",
       "    <tr style=\"text-align: right;\">\n",
       "      <th></th>\n",
       "      <th>Qu1</th>\n",
       "      <th>Qu2</th>\n",
       "      <th>Qu3</th>\n",
       "    </tr>\n",
       "  </thead>\n",
       "  <tbody>\n",
       "    <tr>\n",
       "      <th>1</th>\n",
       "      <td>1</td>\n",
       "      <td>1</td>\n",
       "      <td>1</td>\n",
       "    </tr>\n",
       "    <tr>\n",
       "      <th>2</th>\n",
       "      <td>0</td>\n",
       "      <td>2</td>\n",
       "      <td>1</td>\n",
       "    </tr>\n",
       "    <tr>\n",
       "      <th>3</th>\n",
       "      <td>2</td>\n",
       "      <td>2</td>\n",
       "      <td>0</td>\n",
       "    </tr>\n",
       "    <tr>\n",
       "      <th>4</th>\n",
       "      <td>2</td>\n",
       "      <td>0</td>\n",
       "      <td>2</td>\n",
       "    </tr>\n",
       "    <tr>\n",
       "      <th>5</th>\n",
       "      <td>0</td>\n",
       "      <td>0</td>\n",
       "      <td>1</td>\n",
       "    </tr>\n",
       "  </tbody>\n",
       "</table>\n",
       "</div>"
      ],
      "text/plain": [
       "   Qu1  Qu2  Qu3\n",
       "1    1    1    1\n",
       "2    0    2    1\n",
       "3    2    2    0\n",
       "4    2    0    2\n",
       "5    0    0    1"
      ]
     },
     "execution_count": 111,
     "metadata": {},
     "output_type": "execute_result"
    }
   ],
   "source": [
    "data.apply(pd.value_counts).fillna(0)"
   ]
  },
  {
   "cell_type": "markdown",
   "metadata": {},
   "source": [
    "### handling missing data"
   ]
  },
  {
   "cell_type": "code",
   "execution_count": 112,
   "metadata": {
    "collapsed": true
   },
   "outputs": [],
   "source": [
    "from numpy import nan as NA"
   ]
  },
  {
   "cell_type": "code",
   "execution_count": 113,
   "metadata": {
    "collapsed": false
   },
   "outputs": [
    {
     "data": {
      "text/plain": [
       "0     aardvark\n",
       "1    artichoke\n",
       "2          NaN\n",
       "3      avocado\n",
       "dtype: object"
      ]
     },
     "execution_count": 113,
     "metadata": {},
     "output_type": "execute_result"
    }
   ],
   "source": [
    "string_data = Series(['aardvark', 'artichoke', NA, 'avocado'])\n",
    "string_data"
   ]
  },
  {
   "cell_type": "code",
   "execution_count": 114,
   "metadata": {
    "collapsed": false
   },
   "outputs": [
    {
     "data": {
      "text/plain": [
       "0    False\n",
       "1    False\n",
       "2     True\n",
       "3    False\n",
       "dtype: bool"
      ]
     },
     "execution_count": 114,
     "metadata": {},
     "output_type": "execute_result"
    }
   ],
   "source": [
    "string_data.isnull()"
   ]
  },
  {
   "cell_type": "code",
   "execution_count": 115,
   "metadata": {
    "collapsed": false
   },
   "outputs": [
    {
     "data": {
      "text/plain": [
       "0          NaN\n",
       "1    artichoke\n",
       "2          NaN\n",
       "3      avocado\n",
       "dtype: object"
      ]
     },
     "execution_count": 115,
     "metadata": {},
     "output_type": "execute_result"
    }
   ],
   "source": [
    "string_data[0] = NA\n",
    "string_data"
   ]
  },
  {
   "cell_type": "code",
   "execution_count": 116,
   "metadata": {
    "collapsed": false
   },
   "outputs": [
    {
     "data": {
      "text/plain": [
       "0     True\n",
       "1    False\n",
       "2     True\n",
       "3    False\n",
       "dtype: bool"
      ]
     },
     "execution_count": 116,
     "metadata": {},
     "output_type": "execute_result"
    }
   ],
   "source": [
    "string_data.isnull()"
   ]
  },
  {
   "cell_type": "code",
   "execution_count": 117,
   "metadata": {
    "collapsed": false
   },
   "outputs": [
    {
     "data": {
      "text/plain": [
       "0    1.0\n",
       "1    NaN\n",
       "2    3.5\n",
       "3    NaN\n",
       "4    7.0\n",
       "dtype: float64"
      ]
     },
     "execution_count": 117,
     "metadata": {},
     "output_type": "execute_result"
    }
   ],
   "source": [
    "data = Series([1, NA, 3.5, NA, 7])\n",
    "data"
   ]
  },
  {
   "cell_type": "code",
   "execution_count": 118,
   "metadata": {
    "collapsed": false
   },
   "outputs": [
    {
     "data": {
      "text/plain": [
       "0    1.0\n",
       "2    3.5\n",
       "4    7.0\n",
       "dtype: float64"
      ]
     },
     "execution_count": 118,
     "metadata": {},
     "output_type": "execute_result"
    }
   ],
   "source": [
    "data.dropna()"
   ]
  },
  {
   "cell_type": "code",
   "execution_count": 119,
   "metadata": {
    "collapsed": false
   },
   "outputs": [
    {
     "data": {
      "text/plain": [
       "0    1.0\n",
       "2    3.5\n",
       "4    7.0\n",
       "dtype: float64"
      ]
     },
     "execution_count": 119,
     "metadata": {},
     "output_type": "execute_result"
    }
   ],
   "source": [
    "data[data.notnull()]  # boolean filtering also works"
   ]
  },
  {
   "cell_type": "code",
   "execution_count": 121,
   "metadata": {
    "collapsed": false
   },
   "outputs": [
    {
     "data": {
      "text/html": [
       "<div>\n",
       "<table border=\"1\" class=\"dataframe\">\n",
       "  <thead>\n",
       "    <tr style=\"text-align: right;\">\n",
       "      <th></th>\n",
       "      <th>0</th>\n",
       "      <th>1</th>\n",
       "      <th>2</th>\n",
       "    </tr>\n",
       "  </thead>\n",
       "  <tbody>\n",
       "    <tr>\n",
       "      <th>0</th>\n",
       "      <td>1</td>\n",
       "      <td>6.5</td>\n",
       "      <td>3</td>\n",
       "    </tr>\n",
       "    <tr>\n",
       "      <th>1</th>\n",
       "      <td>1</td>\n",
       "      <td>NaN</td>\n",
       "      <td>NaN</td>\n",
       "    </tr>\n",
       "    <tr>\n",
       "      <th>2</th>\n",
       "      <td>NaN</td>\n",
       "      <td>NaN</td>\n",
       "      <td>NaN</td>\n",
       "    </tr>\n",
       "    <tr>\n",
       "      <th>3</th>\n",
       "      <td>NaN</td>\n",
       "      <td>6.5</td>\n",
       "      <td>3</td>\n",
       "    </tr>\n",
       "  </tbody>\n",
       "</table>\n",
       "</div>"
      ],
      "text/plain": [
       "    0    1   2\n",
       "0   1  6.5   3\n",
       "1   1  NaN NaN\n",
       "2 NaN  NaN NaN\n",
       "3 NaN  6.5   3"
      ]
     },
     "execution_count": 121,
     "metadata": {},
     "output_type": "execute_result"
    }
   ],
   "source": [
    "data = DataFrame(\n",
    "    [[1, 6.5, 3], [1, NA, NA], [NA, NA, NA], [NA, 6.5, 3]]\n",
    ")\n",
    "data"
   ]
  },
  {
   "cell_type": "code",
   "execution_count": 122,
   "metadata": {
    "collapsed": false
   },
   "outputs": [
    {
     "data": {
      "text/html": [
       "<div>\n",
       "<table border=\"1\" class=\"dataframe\">\n",
       "  <thead>\n",
       "    <tr style=\"text-align: right;\">\n",
       "      <th></th>\n",
       "      <th>0</th>\n",
       "      <th>1</th>\n",
       "      <th>2</th>\n",
       "    </tr>\n",
       "  </thead>\n",
       "  <tbody>\n",
       "    <tr>\n",
       "      <th>0</th>\n",
       "      <td>1</td>\n",
       "      <td>6.5</td>\n",
       "      <td>3</td>\n",
       "    </tr>\n",
       "  </tbody>\n",
       "</table>\n",
       "</div>"
      ],
      "text/plain": [
       "   0    1  2\n",
       "0  1  6.5  3"
      ]
     },
     "execution_count": 122,
     "metadata": {},
     "output_type": "execute_result"
    }
   ],
   "source": [
    "cleaned = data.dropna()  # remove rows that contains ANY NA\n",
    "cleaned"
   ]
  },
  {
   "cell_type": "code",
   "execution_count": 123,
   "metadata": {
    "collapsed": false
   },
   "outputs": [
    {
     "data": {
      "text/html": [
       "<div>\n",
       "<table border=\"1\" class=\"dataframe\">\n",
       "  <thead>\n",
       "    <tr style=\"text-align: right;\">\n",
       "      <th></th>\n",
       "      <th>0</th>\n",
       "      <th>1</th>\n",
       "      <th>2</th>\n",
       "    </tr>\n",
       "  </thead>\n",
       "  <tbody>\n",
       "    <tr>\n",
       "      <th>0</th>\n",
       "      <td>1</td>\n",
       "      <td>6.5</td>\n",
       "      <td>3</td>\n",
       "    </tr>\n",
       "    <tr>\n",
       "      <th>1</th>\n",
       "      <td>1</td>\n",
       "      <td>NaN</td>\n",
       "      <td>NaN</td>\n",
       "    </tr>\n",
       "    <tr>\n",
       "      <th>3</th>\n",
       "      <td>NaN</td>\n",
       "      <td>6.5</td>\n",
       "      <td>3</td>\n",
       "    </tr>\n",
       "  </tbody>\n",
       "</table>\n",
       "</div>"
      ],
      "text/plain": [
       "    0    1   2\n",
       "0   1  6.5   3\n",
       "1   1  NaN NaN\n",
       "3 NaN  6.5   3"
      ]
     },
     "execution_count": 123,
     "metadata": {},
     "output_type": "execute_result"
    }
   ],
   "source": [
    "data.dropna(how='all')  # remove rows that ALL contain NA"
   ]
  },
  {
   "cell_type": "code",
   "execution_count": 124,
   "metadata": {
    "collapsed": false
   },
   "outputs": [
    {
     "data": {
      "text/html": [
       "<div>\n",
       "<table border=\"1\" class=\"dataframe\">\n",
       "  <thead>\n",
       "    <tr style=\"text-align: right;\">\n",
       "      <th></th>\n",
       "      <th>0</th>\n",
       "      <th>1</th>\n",
       "      <th>2</th>\n",
       "      <th>4</th>\n",
       "    </tr>\n",
       "  </thead>\n",
       "  <tbody>\n",
       "    <tr>\n",
       "      <th>0</th>\n",
       "      <td>1</td>\n",
       "      <td>6.5</td>\n",
       "      <td>3</td>\n",
       "      <td>NaN</td>\n",
       "    </tr>\n",
       "    <tr>\n",
       "      <th>1</th>\n",
       "      <td>1</td>\n",
       "      <td>NaN</td>\n",
       "      <td>NaN</td>\n",
       "      <td>NaN</td>\n",
       "    </tr>\n",
       "    <tr>\n",
       "      <th>2</th>\n",
       "      <td>NaN</td>\n",
       "      <td>NaN</td>\n",
       "      <td>NaN</td>\n",
       "      <td>NaN</td>\n",
       "    </tr>\n",
       "    <tr>\n",
       "      <th>3</th>\n",
       "      <td>NaN</td>\n",
       "      <td>6.5</td>\n",
       "      <td>3</td>\n",
       "      <td>NaN</td>\n",
       "    </tr>\n",
       "  </tbody>\n",
       "</table>\n",
       "</div>"
      ],
      "text/plain": [
       "    0    1   2   4\n",
       "0   1  6.5   3 NaN\n",
       "1   1  NaN NaN NaN\n",
       "2 NaN  NaN NaN NaN\n",
       "3 NaN  6.5   3 NaN"
      ]
     },
     "execution_count": 124,
     "metadata": {},
     "output_type": "execute_result"
    }
   ],
   "source": [
    "data[4] = NA\n",
    "data"
   ]
  },
  {
   "cell_type": "code",
   "execution_count": 125,
   "metadata": {
    "collapsed": false
   },
   "outputs": [
    {
     "data": {
      "text/html": [
       "<div>\n",
       "<table border=\"1\" class=\"dataframe\">\n",
       "  <thead>\n",
       "    <tr style=\"text-align: right;\">\n",
       "      <th></th>\n",
       "      <th>0</th>\n",
       "      <th>1</th>\n",
       "      <th>2</th>\n",
       "    </tr>\n",
       "  </thead>\n",
       "  <tbody>\n",
       "    <tr>\n",
       "      <th>0</th>\n",
       "      <td>1</td>\n",
       "      <td>6.5</td>\n",
       "      <td>3</td>\n",
       "    </tr>\n",
       "    <tr>\n",
       "      <th>1</th>\n",
       "      <td>1</td>\n",
       "      <td>NaN</td>\n",
       "      <td>NaN</td>\n",
       "    </tr>\n",
       "    <tr>\n",
       "      <th>2</th>\n",
       "      <td>NaN</td>\n",
       "      <td>NaN</td>\n",
       "      <td>NaN</td>\n",
       "    </tr>\n",
       "    <tr>\n",
       "      <th>3</th>\n",
       "      <td>NaN</td>\n",
       "      <td>6.5</td>\n",
       "      <td>3</td>\n",
       "    </tr>\n",
       "  </tbody>\n",
       "</table>\n",
       "</div>"
      ],
      "text/plain": [
       "    0    1   2\n",
       "0   1  6.5   3\n",
       "1   1  NaN NaN\n",
       "2 NaN  NaN NaN\n",
       "3 NaN  6.5   3"
      ]
     },
     "execution_count": 125,
     "metadata": {},
     "output_type": "execute_result"
    }
   ],
   "source": [
    "data.dropna(axis=1, how='all')"
   ]
  },
  {
   "cell_type": "code",
   "execution_count": 127,
   "metadata": {
    "collapsed": false
   },
   "outputs": [],
   "source": [
    "df = DataFrame(np.random.randn(7, 3))"
   ]
  },
  {
   "cell_type": "code",
   "execution_count": 128,
   "metadata": {
    "collapsed": false
   },
   "outputs": [
    {
     "data": {
      "text/html": [
       "<div>\n",
       "<table border=\"1\" class=\"dataframe\">\n",
       "  <thead>\n",
       "    <tr style=\"text-align: right;\">\n",
       "      <th></th>\n",
       "      <th>0</th>\n",
       "      <th>1</th>\n",
       "      <th>2</th>\n",
       "    </tr>\n",
       "  </thead>\n",
       "  <tbody>\n",
       "    <tr>\n",
       "      <th>0</th>\n",
       "      <td>0.323986</td>\n",
       "      <td>NaN</td>\n",
       "      <td>NaN</td>\n",
       "    </tr>\n",
       "    <tr>\n",
       "      <th>1</th>\n",
       "      <td>-0.415452</td>\n",
       "      <td>NaN</td>\n",
       "      <td>NaN</td>\n",
       "    </tr>\n",
       "    <tr>\n",
       "      <th>2</th>\n",
       "      <td>0.349384</td>\n",
       "      <td>NaN</td>\n",
       "      <td>NaN</td>\n",
       "    </tr>\n",
       "    <tr>\n",
       "      <th>3</th>\n",
       "      <td>-0.000201</td>\n",
       "      <td>NaN</td>\n",
       "      <td>-0.215349</td>\n",
       "    </tr>\n",
       "    <tr>\n",
       "      <th>4</th>\n",
       "      <td>0.108098</td>\n",
       "      <td>NaN</td>\n",
       "      <td>1.825984</td>\n",
       "    </tr>\n",
       "    <tr>\n",
       "      <th>5</th>\n",
       "      <td>0.697039</td>\n",
       "      <td>-1.318071</td>\n",
       "      <td>1.134732</td>\n",
       "    </tr>\n",
       "    <tr>\n",
       "      <th>6</th>\n",
       "      <td>1.083768</td>\n",
       "      <td>0.149328</td>\n",
       "      <td>1.327780</td>\n",
       "    </tr>\n",
       "  </tbody>\n",
       "</table>\n",
       "</div>"
      ],
      "text/plain": [
       "          0         1         2\n",
       "0  0.323986       NaN       NaN\n",
       "1 -0.415452       NaN       NaN\n",
       "2  0.349384       NaN       NaN\n",
       "3 -0.000201       NaN -0.215349\n",
       "4  0.108098       NaN  1.825984\n",
       "5  0.697039 -1.318071  1.134732\n",
       "6  1.083768  0.149328  1.327780"
      ]
     },
     "execution_count": 128,
     "metadata": {},
     "output_type": "execute_result"
    }
   ],
   "source": [
    "df.ix[:4, 1] = NA\n",
    "df.ix[:2, 2] = NA\n",
    "df"
   ]
  },
  {
   "cell_type": "code",
   "execution_count": 129,
   "metadata": {
    "collapsed": false
   },
   "outputs": [
    {
     "data": {
      "text/html": [
       "<div>\n",
       "<table border=\"1\" class=\"dataframe\">\n",
       "  <thead>\n",
       "    <tr style=\"text-align: right;\">\n",
       "      <th></th>\n",
       "      <th>0</th>\n",
       "      <th>1</th>\n",
       "      <th>2</th>\n",
       "    </tr>\n",
       "  </thead>\n",
       "  <tbody>\n",
       "    <tr>\n",
       "      <th>5</th>\n",
       "      <td>0.697039</td>\n",
       "      <td>-1.318071</td>\n",
       "      <td>1.134732</td>\n",
       "    </tr>\n",
       "    <tr>\n",
       "      <th>6</th>\n",
       "      <td>1.083768</td>\n",
       "      <td>0.149328</td>\n",
       "      <td>1.327780</td>\n",
       "    </tr>\n",
       "  </tbody>\n",
       "</table>\n",
       "</div>"
      ],
      "text/plain": [
       "          0         1         2\n",
       "5  0.697039 -1.318071  1.134732\n",
       "6  1.083768  0.149328  1.327780"
      ]
     },
     "execution_count": 129,
     "metadata": {},
     "output_type": "execute_result"
    }
   ],
   "source": [
    "df.dropna(thresh=3)  # need to be at least 3 records"
   ]
  },
  {
   "cell_type": "markdown",
   "metadata": {},
   "source": [
    "### filling in missing data"
   ]
  },
  {
   "cell_type": "code",
   "execution_count": 130,
   "metadata": {
    "collapsed": false
   },
   "outputs": [
    {
     "data": {
      "text/html": [
       "<div>\n",
       "<table border=\"1\" class=\"dataframe\">\n",
       "  <thead>\n",
       "    <tr style=\"text-align: right;\">\n",
       "      <th></th>\n",
       "      <th>0</th>\n",
       "      <th>1</th>\n",
       "      <th>2</th>\n",
       "    </tr>\n",
       "  </thead>\n",
       "  <tbody>\n",
       "    <tr>\n",
       "      <th>0</th>\n",
       "      <td>0.323986</td>\n",
       "      <td>0.000000</td>\n",
       "      <td>0.000000</td>\n",
       "    </tr>\n",
       "    <tr>\n",
       "      <th>1</th>\n",
       "      <td>-0.415452</td>\n",
       "      <td>0.000000</td>\n",
       "      <td>0.000000</td>\n",
       "    </tr>\n",
       "    <tr>\n",
       "      <th>2</th>\n",
       "      <td>0.349384</td>\n",
       "      <td>0.000000</td>\n",
       "      <td>0.000000</td>\n",
       "    </tr>\n",
       "    <tr>\n",
       "      <th>3</th>\n",
       "      <td>-0.000201</td>\n",
       "      <td>0.000000</td>\n",
       "      <td>-0.215349</td>\n",
       "    </tr>\n",
       "    <tr>\n",
       "      <th>4</th>\n",
       "      <td>0.108098</td>\n",
       "      <td>0.000000</td>\n",
       "      <td>1.825984</td>\n",
       "    </tr>\n",
       "    <tr>\n",
       "      <th>5</th>\n",
       "      <td>0.697039</td>\n",
       "      <td>-1.318071</td>\n",
       "      <td>1.134732</td>\n",
       "    </tr>\n",
       "    <tr>\n",
       "      <th>6</th>\n",
       "      <td>1.083768</td>\n",
       "      <td>0.149328</td>\n",
       "      <td>1.327780</td>\n",
       "    </tr>\n",
       "  </tbody>\n",
       "</table>\n",
       "</div>"
      ],
      "text/plain": [
       "          0         1         2\n",
       "0  0.323986  0.000000  0.000000\n",
       "1 -0.415452  0.000000  0.000000\n",
       "2  0.349384  0.000000  0.000000\n",
       "3 -0.000201  0.000000 -0.215349\n",
       "4  0.108098  0.000000  1.825984\n",
       "5  0.697039 -1.318071  1.134732\n",
       "6  1.083768  0.149328  1.327780"
      ]
     },
     "execution_count": 130,
     "metadata": {},
     "output_type": "execute_result"
    }
   ],
   "source": [
    "df.fillna(0)"
   ]
  },
  {
   "cell_type": "code",
   "execution_count": 131,
   "metadata": {
    "collapsed": false
   },
   "outputs": [
    {
     "data": {
      "text/html": [
       "<div>\n",
       "<table border=\"1\" class=\"dataframe\">\n",
       "  <thead>\n",
       "    <tr style=\"text-align: right;\">\n",
       "      <th></th>\n",
       "      <th>0</th>\n",
       "      <th>1</th>\n",
       "      <th>2</th>\n",
       "    </tr>\n",
       "  </thead>\n",
       "  <tbody>\n",
       "    <tr>\n",
       "      <th>0</th>\n",
       "      <td>0.323986</td>\n",
       "      <td>0.500000</td>\n",
       "      <td>NaN</td>\n",
       "    </tr>\n",
       "    <tr>\n",
       "      <th>1</th>\n",
       "      <td>-0.415452</td>\n",
       "      <td>0.500000</td>\n",
       "      <td>NaN</td>\n",
       "    </tr>\n",
       "    <tr>\n",
       "      <th>2</th>\n",
       "      <td>0.349384</td>\n",
       "      <td>0.500000</td>\n",
       "      <td>NaN</td>\n",
       "    </tr>\n",
       "    <tr>\n",
       "      <th>3</th>\n",
       "      <td>-0.000201</td>\n",
       "      <td>0.500000</td>\n",
       "      <td>-0.215349</td>\n",
       "    </tr>\n",
       "    <tr>\n",
       "      <th>4</th>\n",
       "      <td>0.108098</td>\n",
       "      <td>0.500000</td>\n",
       "      <td>1.825984</td>\n",
       "    </tr>\n",
       "    <tr>\n",
       "      <th>5</th>\n",
       "      <td>0.697039</td>\n",
       "      <td>-1.318071</td>\n",
       "      <td>1.134732</td>\n",
       "    </tr>\n",
       "    <tr>\n",
       "      <th>6</th>\n",
       "      <td>1.083768</td>\n",
       "      <td>0.149328</td>\n",
       "      <td>1.327780</td>\n",
       "    </tr>\n",
       "  </tbody>\n",
       "</table>\n",
       "</div>"
      ],
      "text/plain": [
       "          0         1         2\n",
       "0  0.323986  0.500000       NaN\n",
       "1 -0.415452  0.500000       NaN\n",
       "2  0.349384  0.500000       NaN\n",
       "3 -0.000201  0.500000 -0.215349\n",
       "4  0.108098  0.500000  1.825984\n",
       "5  0.697039 -1.318071  1.134732\n",
       "6  1.083768  0.149328  1.327780"
      ]
     },
     "execution_count": 131,
     "metadata": {},
     "output_type": "execute_result"
    }
   ],
   "source": [
    "df.fillna({1: 0.5, 3: -1})  # pass in dict, each column fill different values"
   ]
  },
  {
   "cell_type": "code",
   "execution_count": 132,
   "metadata": {
    "collapsed": false
   },
   "outputs": [
    {
     "data": {
      "text/html": [
       "<div>\n",
       "<table border=\"1\" class=\"dataframe\">\n",
       "  <thead>\n",
       "    <tr style=\"text-align: right;\">\n",
       "      <th></th>\n",
       "      <th>0</th>\n",
       "      <th>1</th>\n",
       "      <th>2</th>\n",
       "    </tr>\n",
       "  </thead>\n",
       "  <tbody>\n",
       "    <tr>\n",
       "      <th>0</th>\n",
       "      <td>0.323986</td>\n",
       "      <td>NaN</td>\n",
       "      <td>NaN</td>\n",
       "    </tr>\n",
       "    <tr>\n",
       "      <th>1</th>\n",
       "      <td>-0.415452</td>\n",
       "      <td>NaN</td>\n",
       "      <td>NaN</td>\n",
       "    </tr>\n",
       "    <tr>\n",
       "      <th>2</th>\n",
       "      <td>0.349384</td>\n",
       "      <td>NaN</td>\n",
       "      <td>NaN</td>\n",
       "    </tr>\n",
       "    <tr>\n",
       "      <th>3</th>\n",
       "      <td>-0.000201</td>\n",
       "      <td>NaN</td>\n",
       "      <td>-0.215349</td>\n",
       "    </tr>\n",
       "    <tr>\n",
       "      <th>4</th>\n",
       "      <td>0.108098</td>\n",
       "      <td>NaN</td>\n",
       "      <td>1.825984</td>\n",
       "    </tr>\n",
       "    <tr>\n",
       "      <th>5</th>\n",
       "      <td>0.697039</td>\n",
       "      <td>-1.318071</td>\n",
       "      <td>1.134732</td>\n",
       "    </tr>\n",
       "    <tr>\n",
       "      <th>6</th>\n",
       "      <td>1.083768</td>\n",
       "      <td>0.149328</td>\n",
       "      <td>1.327780</td>\n",
       "    </tr>\n",
       "  </tbody>\n",
       "</table>\n",
       "</div>"
      ],
      "text/plain": [
       "          0         1         2\n",
       "0  0.323986       NaN       NaN\n",
       "1 -0.415452       NaN       NaN\n",
       "2  0.349384       NaN       NaN\n",
       "3 -0.000201       NaN -0.215349\n",
       "4  0.108098       NaN  1.825984\n",
       "5  0.697039 -1.318071  1.134732\n",
       "6  1.083768  0.149328  1.327780"
      ]
     },
     "execution_count": 132,
     "metadata": {},
     "output_type": "execute_result"
    }
   ],
   "source": [
    "df  # fillna and dropna all return a new object"
   ]
  },
  {
   "cell_type": "code",
   "execution_count": 133,
   "metadata": {
    "collapsed": true
   },
   "outputs": [],
   "source": [
    "df.fillna(0, inplace=True)  # inplace change"
   ]
  },
  {
   "cell_type": "code",
   "execution_count": 134,
   "metadata": {
    "collapsed": false
   },
   "outputs": [
    {
     "data": {
      "text/html": [
       "<div>\n",
       "<table border=\"1\" class=\"dataframe\">\n",
       "  <thead>\n",
       "    <tr style=\"text-align: right;\">\n",
       "      <th></th>\n",
       "      <th>0</th>\n",
       "      <th>1</th>\n",
       "      <th>2</th>\n",
       "    </tr>\n",
       "  </thead>\n",
       "  <tbody>\n",
       "    <tr>\n",
       "      <th>0</th>\n",
       "      <td>0.323986</td>\n",
       "      <td>0.000000</td>\n",
       "      <td>0.000000</td>\n",
       "    </tr>\n",
       "    <tr>\n",
       "      <th>1</th>\n",
       "      <td>-0.415452</td>\n",
       "      <td>0.000000</td>\n",
       "      <td>0.000000</td>\n",
       "    </tr>\n",
       "    <tr>\n",
       "      <th>2</th>\n",
       "      <td>0.349384</td>\n",
       "      <td>0.000000</td>\n",
       "      <td>0.000000</td>\n",
       "    </tr>\n",
       "    <tr>\n",
       "      <th>3</th>\n",
       "      <td>-0.000201</td>\n",
       "      <td>0.000000</td>\n",
       "      <td>-0.215349</td>\n",
       "    </tr>\n",
       "    <tr>\n",
       "      <th>4</th>\n",
       "      <td>0.108098</td>\n",
       "      <td>0.000000</td>\n",
       "      <td>1.825984</td>\n",
       "    </tr>\n",
       "    <tr>\n",
       "      <th>5</th>\n",
       "      <td>0.697039</td>\n",
       "      <td>-1.318071</td>\n",
       "      <td>1.134732</td>\n",
       "    </tr>\n",
       "    <tr>\n",
       "      <th>6</th>\n",
       "      <td>1.083768</td>\n",
       "      <td>0.149328</td>\n",
       "      <td>1.327780</td>\n",
       "    </tr>\n",
       "  </tbody>\n",
       "</table>\n",
       "</div>"
      ],
      "text/plain": [
       "          0         1         2\n",
       "0  0.323986  0.000000  0.000000\n",
       "1 -0.415452  0.000000  0.000000\n",
       "2  0.349384  0.000000  0.000000\n",
       "3 -0.000201  0.000000 -0.215349\n",
       "4  0.108098  0.000000  1.825984\n",
       "5  0.697039 -1.318071  1.134732\n",
       "6  1.083768  0.149328  1.327780"
      ]
     },
     "execution_count": 134,
     "metadata": {},
     "output_type": "execute_result"
    }
   ],
   "source": [
    "df"
   ]
  },
  {
   "cell_type": "code",
   "execution_count": 135,
   "metadata": {
    "collapsed": false
   },
   "outputs": [
    {
     "data": {
      "text/html": [
       "<div>\n",
       "<table border=\"1\" class=\"dataframe\">\n",
       "  <thead>\n",
       "    <tr style=\"text-align: right;\">\n",
       "      <th></th>\n",
       "      <th>0</th>\n",
       "      <th>1</th>\n",
       "      <th>2</th>\n",
       "    </tr>\n",
       "  </thead>\n",
       "  <tbody>\n",
       "    <tr>\n",
       "      <th>0</th>\n",
       "      <td>0.290092</td>\n",
       "      <td>-0.916409</td>\n",
       "      <td>0.365928</td>\n",
       "    </tr>\n",
       "    <tr>\n",
       "      <th>1</th>\n",
       "      <td>0.540010</td>\n",
       "      <td>-2.682149</td>\n",
       "      <td>-1.200310</td>\n",
       "    </tr>\n",
       "    <tr>\n",
       "      <th>2</th>\n",
       "      <td>-0.695206</td>\n",
       "      <td>NaN</td>\n",
       "      <td>-0.341819</td>\n",
       "    </tr>\n",
       "    <tr>\n",
       "      <th>3</th>\n",
       "      <td>0.053803</td>\n",
       "      <td>NaN</td>\n",
       "      <td>-0.791963</td>\n",
       "    </tr>\n",
       "    <tr>\n",
       "      <th>4</th>\n",
       "      <td>-0.147866</td>\n",
       "      <td>NaN</td>\n",
       "      <td>NaN</td>\n",
       "    </tr>\n",
       "    <tr>\n",
       "      <th>5</th>\n",
       "      <td>-0.215331</td>\n",
       "      <td>NaN</td>\n",
       "      <td>NaN</td>\n",
       "    </tr>\n",
       "  </tbody>\n",
       "</table>\n",
       "</div>"
      ],
      "text/plain": [
       "          0         1         2\n",
       "0  0.290092 -0.916409  0.365928\n",
       "1  0.540010 -2.682149 -1.200310\n",
       "2 -0.695206       NaN -0.341819\n",
       "3  0.053803       NaN -0.791963\n",
       "4 -0.147866       NaN       NaN\n",
       "5 -0.215331       NaN       NaN"
      ]
     },
     "execution_count": 135,
     "metadata": {},
     "output_type": "execute_result"
    }
   ],
   "source": [
    "df = DataFrame(np.random.randn(6, 3))\n",
    "df.ix[2:, 1] = NA\n",
    "df.ix[4:, 2] = NA\n",
    "df"
   ]
  },
  {
   "cell_type": "code",
   "execution_count": 136,
   "metadata": {
    "collapsed": false
   },
   "outputs": [
    {
     "data": {
      "text/html": [
       "<div>\n",
       "<table border=\"1\" class=\"dataframe\">\n",
       "  <thead>\n",
       "    <tr style=\"text-align: right;\">\n",
       "      <th></th>\n",
       "      <th>0</th>\n",
       "      <th>1</th>\n",
       "      <th>2</th>\n",
       "    </tr>\n",
       "  </thead>\n",
       "  <tbody>\n",
       "    <tr>\n",
       "      <th>0</th>\n",
       "      <td>0.290092</td>\n",
       "      <td>-0.916409</td>\n",
       "      <td>0.365928</td>\n",
       "    </tr>\n",
       "    <tr>\n",
       "      <th>1</th>\n",
       "      <td>0.540010</td>\n",
       "      <td>-2.682149</td>\n",
       "      <td>-1.200310</td>\n",
       "    </tr>\n",
       "    <tr>\n",
       "      <th>2</th>\n",
       "      <td>-0.695206</td>\n",
       "      <td>-2.682149</td>\n",
       "      <td>-0.341819</td>\n",
       "    </tr>\n",
       "    <tr>\n",
       "      <th>3</th>\n",
       "      <td>0.053803</td>\n",
       "      <td>-2.682149</td>\n",
       "      <td>-0.791963</td>\n",
       "    </tr>\n",
       "    <tr>\n",
       "      <th>4</th>\n",
       "      <td>-0.147866</td>\n",
       "      <td>-2.682149</td>\n",
       "      <td>-0.791963</td>\n",
       "    </tr>\n",
       "    <tr>\n",
       "      <th>5</th>\n",
       "      <td>-0.215331</td>\n",
       "      <td>-2.682149</td>\n",
       "      <td>-0.791963</td>\n",
       "    </tr>\n",
       "  </tbody>\n",
       "</table>\n",
       "</div>"
      ],
      "text/plain": [
       "          0         1         2\n",
       "0  0.290092 -0.916409  0.365928\n",
       "1  0.540010 -2.682149 -1.200310\n",
       "2 -0.695206 -2.682149 -0.341819\n",
       "3  0.053803 -2.682149 -0.791963\n",
       "4 -0.147866 -2.682149 -0.791963\n",
       "5 -0.215331 -2.682149 -0.791963"
      ]
     },
     "execution_count": 136,
     "metadata": {},
     "output_type": "execute_result"
    }
   ],
   "source": [
    "df.fillna(method='ffill')  # fill with the forward value"
   ]
  },
  {
   "cell_type": "code",
   "execution_count": 137,
   "metadata": {
    "collapsed": false
   },
   "outputs": [
    {
     "data": {
      "text/html": [
       "<div>\n",
       "<table border=\"1\" class=\"dataframe\">\n",
       "  <thead>\n",
       "    <tr style=\"text-align: right;\">\n",
       "      <th></th>\n",
       "      <th>0</th>\n",
       "      <th>1</th>\n",
       "      <th>2</th>\n",
       "    </tr>\n",
       "  </thead>\n",
       "  <tbody>\n",
       "    <tr>\n",
       "      <th>0</th>\n",
       "      <td>0.290092</td>\n",
       "      <td>-0.916409</td>\n",
       "      <td>0.365928</td>\n",
       "    </tr>\n",
       "    <tr>\n",
       "      <th>1</th>\n",
       "      <td>0.540010</td>\n",
       "      <td>-2.682149</td>\n",
       "      <td>-1.200310</td>\n",
       "    </tr>\n",
       "    <tr>\n",
       "      <th>2</th>\n",
       "      <td>-0.695206</td>\n",
       "      <td>-2.682149</td>\n",
       "      <td>-0.341819</td>\n",
       "    </tr>\n",
       "    <tr>\n",
       "      <th>3</th>\n",
       "      <td>0.053803</td>\n",
       "      <td>-2.682149</td>\n",
       "      <td>-0.791963</td>\n",
       "    </tr>\n",
       "    <tr>\n",
       "      <th>4</th>\n",
       "      <td>-0.147866</td>\n",
       "      <td>NaN</td>\n",
       "      <td>-0.791963</td>\n",
       "    </tr>\n",
       "    <tr>\n",
       "      <th>5</th>\n",
       "      <td>-0.215331</td>\n",
       "      <td>NaN</td>\n",
       "      <td>-0.791963</td>\n",
       "    </tr>\n",
       "  </tbody>\n",
       "</table>\n",
       "</div>"
      ],
      "text/plain": [
       "          0         1         2\n",
       "0  0.290092 -0.916409  0.365928\n",
       "1  0.540010 -2.682149 -1.200310\n",
       "2 -0.695206 -2.682149 -0.341819\n",
       "3  0.053803 -2.682149 -0.791963\n",
       "4 -0.147866       NaN -0.791963\n",
       "5 -0.215331       NaN -0.791963"
      ]
     },
     "execution_count": 137,
     "metadata": {},
     "output_type": "execute_result"
    }
   ],
   "source": [
    "df.fillna(method='ffill', limit=2)  # fill up to two NAs"
   ]
  },
  {
   "cell_type": "code",
   "execution_count": 138,
   "metadata": {
    "collapsed": true
   },
   "outputs": [],
   "source": [
    "data = Series([1, NA, 3.5, NA, 7])"
   ]
  },
  {
   "cell_type": "code",
   "execution_count": 139,
   "metadata": {
    "collapsed": false
   },
   "outputs": [
    {
     "data": {
      "text/plain": [
       "0    1.0\n",
       "1    NaN\n",
       "2    3.5\n",
       "3    NaN\n",
       "4    7.0\n",
       "dtype: float64"
      ]
     },
     "execution_count": 139,
     "metadata": {},
     "output_type": "execute_result"
    }
   ],
   "source": [
    "data"
   ]
  },
  {
   "cell_type": "code",
   "execution_count": 140,
   "metadata": {
    "collapsed": false
   },
   "outputs": [
    {
     "data": {
      "text/plain": [
       "0    1.000000\n",
       "1    3.833333\n",
       "2    3.500000\n",
       "3    3.833333\n",
       "4    7.000000\n",
       "dtype: float64"
      ]
     },
     "execution_count": 140,
     "metadata": {},
     "output_type": "execute_result"
    }
   ],
   "source": [
    "data.fillna(data.mean())"
   ]
  },
  {
   "cell_type": "markdown",
   "metadata": {},
   "source": [
    "### hierarchical indexing"
   ]
  },
  {
   "cell_type": "code",
   "execution_count": 141,
   "metadata": {
    "collapsed": false
   },
   "outputs": [
    {
     "data": {
      "text/plain": [
       "a  1    0.527858\n",
       "   2   -1.877800\n",
       "   3   -0.252707\n",
       "b  1    0.108736\n",
       "   2    0.315283\n",
       "   3    0.171873\n",
       "c  1   -0.135583\n",
       "   2   -1.024411\n",
       "d  3   -0.756714\n",
       "   4    0.426752\n",
       "dtype: float64"
      ]
     },
     "execution_count": 141,
     "metadata": {},
     "output_type": "execute_result"
    }
   ],
   "source": [
    "data = Series(\n",
    "    np.random.randn(10),\n",
    "    index=[list('aaabbbccdd'), [1, 2, 3, 1, 2, 3, 1, 2, 3, 4]]\n",
    ")  # multiple levels of index\n",
    "data"
   ]
  },
  {
   "cell_type": "code",
   "execution_count": 142,
   "metadata": {
    "collapsed": false
   },
   "outputs": [
    {
     "data": {
      "text/plain": [
       "MultiIndex(levels=[['a', 'b', 'c', 'd'], [1, 2, 3, 4]],\n",
       "           labels=[[0, 0, 0, 1, 1, 1, 2, 2, 3, 3], [0, 1, 2, 0, 1, 2, 0, 1, 2, 3]])"
      ]
     },
     "execution_count": 142,
     "metadata": {},
     "output_type": "execute_result"
    }
   ],
   "source": [
    "data.index"
   ]
  },
  {
   "cell_type": "code",
   "execution_count": 143,
   "metadata": {
    "collapsed": false
   },
   "outputs": [
    {
     "data": {
      "text/plain": [
       "1    0.108736\n",
       "2    0.315283\n",
       "3    0.171873\n",
       "dtype: float64"
      ]
     },
     "execution_count": 143,
     "metadata": {},
     "output_type": "execute_result"
    }
   ],
   "source": [
    "# partial indexing\n",
    "data['b']"
   ]
  },
  {
   "cell_type": "code",
   "execution_count": 144,
   "metadata": {
    "collapsed": false
   },
   "outputs": [
    {
     "data": {
      "text/plain": [
       "b  1    0.108736\n",
       "   2    0.315283\n",
       "   3    0.171873\n",
       "c  1   -0.135583\n",
       "   2   -1.024411\n",
       "dtype: float64"
      ]
     },
     "execution_count": 144,
     "metadata": {},
     "output_type": "execute_result"
    }
   ],
   "source": [
    "data['b': 'c']"
   ]
  },
  {
   "cell_type": "code",
   "execution_count": 146,
   "metadata": {
    "collapsed": false
   },
   "outputs": [
    {
     "data": {
      "text/plain": [
       "b  1    0.108736\n",
       "   2    0.315283\n",
       "   3    0.171873\n",
       "d  3   -0.756714\n",
       "   4    0.426752\n",
       "dtype: float64"
      ]
     },
     "execution_count": 146,
     "metadata": {},
     "output_type": "execute_result"
    }
   ],
   "source": [
    "data[['b', 'd']]"
   ]
  },
  {
   "cell_type": "code",
   "execution_count": 147,
   "metadata": {
    "collapsed": false
   },
   "outputs": [
    {
     "data": {
      "text/plain": [
       "a   -1.877800\n",
       "b    0.315283\n",
       "c   -1.024411\n",
       "dtype: float64"
      ]
     },
     "execution_count": 147,
     "metadata": {},
     "output_type": "execute_result"
    }
   ],
   "source": [
    "data[:, 2]  # selection into the second level"
   ]
  },
  {
   "cell_type": "code",
   "execution_count": 148,
   "metadata": {
    "collapsed": false
   },
   "outputs": [
    {
     "data": {
      "text/plain": [
       "a  1    0.527858\n",
       "   2   -1.877800\n",
       "   3   -0.252707\n",
       "b  1    0.108736\n",
       "   2    0.315283\n",
       "   3    0.171873\n",
       "c  1   -0.135583\n",
       "   2   -1.024411\n",
       "d  3   -0.756714\n",
       "   4    0.426752\n",
       "dtype: float64"
      ]
     },
     "execution_count": 148,
     "metadata": {},
     "output_type": "execute_result"
    }
   ],
   "source": [
    "data"
   ]
  },
  {
   "cell_type": "code",
   "execution_count": 149,
   "metadata": {
    "collapsed": false
   },
   "outputs": [
    {
     "data": {
      "text/html": [
       "<div>\n",
       "<table border=\"1\" class=\"dataframe\">\n",
       "  <thead>\n",
       "    <tr style=\"text-align: right;\">\n",
       "      <th></th>\n",
       "      <th>1</th>\n",
       "      <th>2</th>\n",
       "      <th>3</th>\n",
       "      <th>4</th>\n",
       "    </tr>\n",
       "  </thead>\n",
       "  <tbody>\n",
       "    <tr>\n",
       "      <th>a</th>\n",
       "      <td>0.527858</td>\n",
       "      <td>-1.877800</td>\n",
       "      <td>-0.252707</td>\n",
       "      <td>NaN</td>\n",
       "    </tr>\n",
       "    <tr>\n",
       "      <th>b</th>\n",
       "      <td>0.108736</td>\n",
       "      <td>0.315283</td>\n",
       "      <td>0.171873</td>\n",
       "      <td>NaN</td>\n",
       "    </tr>\n",
       "    <tr>\n",
       "      <th>c</th>\n",
       "      <td>-0.135583</td>\n",
       "      <td>-1.024411</td>\n",
       "      <td>NaN</td>\n",
       "      <td>NaN</td>\n",
       "    </tr>\n",
       "    <tr>\n",
       "      <th>d</th>\n",
       "      <td>NaN</td>\n",
       "      <td>NaN</td>\n",
       "      <td>-0.756714</td>\n",
       "      <td>0.426752</td>\n",
       "    </tr>\n",
       "  </tbody>\n",
       "</table>\n",
       "</div>"
      ],
      "text/plain": [
       "          1         2         3         4\n",
       "a  0.527858 -1.877800 -0.252707       NaN\n",
       "b  0.108736  0.315283  0.171873       NaN\n",
       "c -0.135583 -1.024411       NaN       NaN\n",
       "d       NaN       NaN -0.756714  0.426752"
      ]
     },
     "execution_count": 149,
     "metadata": {},
     "output_type": "execute_result"
    }
   ],
   "source": [
    "data.unstack()  # unstack into a higher level, DataFrame"
   ]
  },
  {
   "cell_type": "code",
   "execution_count": 150,
   "metadata": {
    "collapsed": false
   },
   "outputs": [
    {
     "data": {
      "text/plain": [
       "a  1    0.527858\n",
       "   2   -1.877800\n",
       "   3   -0.252707\n",
       "b  1    0.108736\n",
       "   2    0.315283\n",
       "   3    0.171873\n",
       "c  1   -0.135583\n",
       "   2   -1.024411\n",
       "d  3   -0.756714\n",
       "   4    0.426752\n",
       "dtype: float64"
      ]
     },
     "execution_count": 150,
     "metadata": {},
     "output_type": "execute_result"
    }
   ],
   "source": [
    "data.unstack().stack()  # unstack and stack are inverse operations"
   ]
  },
  {
   "cell_type": "code",
   "execution_count": 151,
   "metadata": {
    "collapsed": false
   },
   "outputs": [
    {
     "data": {
      "text/html": [
       "<div>\n",
       "<table border=\"1\" class=\"dataframe\">\n",
       "  <thead>\n",
       "    <tr>\n",
       "      <th></th>\n",
       "      <th></th>\n",
       "      <th colspan=\"2\" halign=\"left\">ohio</th>\n",
       "      <th>colorado</th>\n",
       "    </tr>\n",
       "    <tr>\n",
       "      <th></th>\n",
       "      <th></th>\n",
       "      <th>green</th>\n",
       "      <th>red</th>\n",
       "      <th>green</th>\n",
       "    </tr>\n",
       "  </thead>\n",
       "  <tbody>\n",
       "    <tr>\n",
       "      <th rowspan=\"2\" valign=\"top\">a</th>\n",
       "      <th>1</th>\n",
       "      <td>0</td>\n",
       "      <td>1</td>\n",
       "      <td>2</td>\n",
       "    </tr>\n",
       "    <tr>\n",
       "      <th>2</th>\n",
       "      <td>3</td>\n",
       "      <td>4</td>\n",
       "      <td>5</td>\n",
       "    </tr>\n",
       "    <tr>\n",
       "      <th rowspan=\"2\" valign=\"top\">b</th>\n",
       "      <th>1</th>\n",
       "      <td>6</td>\n",
       "      <td>7</td>\n",
       "      <td>8</td>\n",
       "    </tr>\n",
       "    <tr>\n",
       "      <th>2</th>\n",
       "      <td>9</td>\n",
       "      <td>10</td>\n",
       "      <td>11</td>\n",
       "    </tr>\n",
       "  </tbody>\n",
       "</table>\n",
       "</div>"
      ],
      "text/plain": [
       "     ohio     colorado\n",
       "    green red    green\n",
       "a 1     0   1        2\n",
       "  2     3   4        5\n",
       "b 1     6   7        8\n",
       "  2     9  10       11"
      ]
     },
     "execution_count": 151,
     "metadata": {},
     "output_type": "execute_result"
    }
   ],
   "source": [
    "frame = DataFrame(\n",
    "    np.arange(12).reshape((4, 3)),\n",
    "    index=[list('aabb'), [1, 2, 1, 2]],\n",
    "    columns=[['ohio', 'ohio', 'colorado'], ['green', 'red', 'green']]\n",
    ")  # hierarchical index and column for DataFrame\n",
    "frame"
   ]
  },
  {
   "cell_type": "code",
   "execution_count": 152,
   "metadata": {
    "collapsed": false
   },
   "outputs": [
    {
     "data": {
      "text/html": [
       "<div>\n",
       "<table border=\"1\" class=\"dataframe\">\n",
       "  <thead>\n",
       "    <tr>\n",
       "      <th></th>\n",
       "      <th>state</th>\n",
       "      <th colspan=\"2\" halign=\"left\">ohio</th>\n",
       "      <th>colorado</th>\n",
       "    </tr>\n",
       "    <tr>\n",
       "      <th></th>\n",
       "      <th>color</th>\n",
       "      <th>green</th>\n",
       "      <th>red</th>\n",
       "      <th>green</th>\n",
       "    </tr>\n",
       "    <tr>\n",
       "      <th>key1</th>\n",
       "      <th>key2</th>\n",
       "      <th></th>\n",
       "      <th></th>\n",
       "      <th></th>\n",
       "    </tr>\n",
       "  </thead>\n",
       "  <tbody>\n",
       "    <tr>\n",
       "      <th rowspan=\"2\" valign=\"top\">a</th>\n",
       "      <th>1</th>\n",
       "      <td>0</td>\n",
       "      <td>1</td>\n",
       "      <td>2</td>\n",
       "    </tr>\n",
       "    <tr>\n",
       "      <th>2</th>\n",
       "      <td>3</td>\n",
       "      <td>4</td>\n",
       "      <td>5</td>\n",
       "    </tr>\n",
       "    <tr>\n",
       "      <th rowspan=\"2\" valign=\"top\">b</th>\n",
       "      <th>1</th>\n",
       "      <td>6</td>\n",
       "      <td>7</td>\n",
       "      <td>8</td>\n",
       "    </tr>\n",
       "    <tr>\n",
       "      <th>2</th>\n",
       "      <td>9</td>\n",
       "      <td>10</td>\n",
       "      <td>11</td>\n",
       "    </tr>\n",
       "  </tbody>\n",
       "</table>\n",
       "</div>"
      ],
      "text/plain": [
       "state      ohio     colorado\n",
       "color     green red    green\n",
       "key1 key2                   \n",
       "a    1        0   1        2\n",
       "     2        3   4        5\n",
       "b    1        6   7        8\n",
       "     2        9  10       11"
      ]
     },
     "execution_count": 152,
     "metadata": {},
     "output_type": "execute_result"
    }
   ],
   "source": [
    "frame.index.names = ['key1', 'key2']\n",
    "frame.columns.names = ['state', 'color']\n",
    "frame"
   ]
  },
  {
   "cell_type": "code",
   "execution_count": 153,
   "metadata": {
    "collapsed": false
   },
   "outputs": [
    {
     "data": {
      "text/html": [
       "<div>\n",
       "<table border=\"1\" class=\"dataframe\">\n",
       "  <thead>\n",
       "    <tr style=\"text-align: right;\">\n",
       "      <th></th>\n",
       "      <th>color</th>\n",
       "      <th>green</th>\n",
       "      <th>red</th>\n",
       "    </tr>\n",
       "    <tr>\n",
       "      <th>key1</th>\n",
       "      <th>key2</th>\n",
       "      <th></th>\n",
       "      <th></th>\n",
       "    </tr>\n",
       "  </thead>\n",
       "  <tbody>\n",
       "    <tr>\n",
       "      <th rowspan=\"2\" valign=\"top\">a</th>\n",
       "      <th>1</th>\n",
       "      <td>0</td>\n",
       "      <td>1</td>\n",
       "    </tr>\n",
       "    <tr>\n",
       "      <th>2</th>\n",
       "      <td>3</td>\n",
       "      <td>4</td>\n",
       "    </tr>\n",
       "    <tr>\n",
       "      <th rowspan=\"2\" valign=\"top\">b</th>\n",
       "      <th>1</th>\n",
       "      <td>6</td>\n",
       "      <td>7</td>\n",
       "    </tr>\n",
       "    <tr>\n",
       "      <th>2</th>\n",
       "      <td>9</td>\n",
       "      <td>10</td>\n",
       "    </tr>\n",
       "  </tbody>\n",
       "</table>\n",
       "</div>"
      ],
      "text/plain": [
       "color      green  red\n",
       "key1 key2            \n",
       "a    1         0    1\n",
       "     2         3    4\n",
       "b    1         6    7\n",
       "     2         9   10"
      ]
     },
     "execution_count": 153,
     "metadata": {},
     "output_type": "execute_result"
    }
   ],
   "source": [
    "frame['ohio']"
   ]
  },
  {
   "cell_type": "markdown",
   "metadata": {},
   "source": [
    "### rendering and sorting levels"
   ]
  },
  {
   "cell_type": "code",
   "execution_count": 154,
   "metadata": {
    "collapsed": false
   },
   "outputs": [
    {
     "data": {
      "text/html": [
       "<div>\n",
       "<table border=\"1\" class=\"dataframe\">\n",
       "  <thead>\n",
       "    <tr>\n",
       "      <th></th>\n",
       "      <th>state</th>\n",
       "      <th colspan=\"2\" halign=\"left\">ohio</th>\n",
       "      <th>colorado</th>\n",
       "    </tr>\n",
       "    <tr>\n",
       "      <th></th>\n",
       "      <th>color</th>\n",
       "      <th>green</th>\n",
       "      <th>red</th>\n",
       "      <th>green</th>\n",
       "    </tr>\n",
       "    <tr>\n",
       "      <th>key1</th>\n",
       "      <th>key2</th>\n",
       "      <th></th>\n",
       "      <th></th>\n",
       "      <th></th>\n",
       "    </tr>\n",
       "  </thead>\n",
       "  <tbody>\n",
       "    <tr>\n",
       "      <th rowspan=\"2\" valign=\"top\">a</th>\n",
       "      <th>1</th>\n",
       "      <td>0</td>\n",
       "      <td>1</td>\n",
       "      <td>2</td>\n",
       "    </tr>\n",
       "    <tr>\n",
       "      <th>2</th>\n",
       "      <td>3</td>\n",
       "      <td>4</td>\n",
       "      <td>5</td>\n",
       "    </tr>\n",
       "    <tr>\n",
       "      <th rowspan=\"2\" valign=\"top\">b</th>\n",
       "      <th>1</th>\n",
       "      <td>6</td>\n",
       "      <td>7</td>\n",
       "      <td>8</td>\n",
       "    </tr>\n",
       "    <tr>\n",
       "      <th>2</th>\n",
       "      <td>9</td>\n",
       "      <td>10</td>\n",
       "      <td>11</td>\n",
       "    </tr>\n",
       "  </tbody>\n",
       "</table>\n",
       "</div>"
      ],
      "text/plain": [
       "state      ohio     colorado\n",
       "color     green red    green\n",
       "key1 key2                   \n",
       "a    1        0   1        2\n",
       "     2        3   4        5\n",
       "b    1        6   7        8\n",
       "     2        9  10       11"
      ]
     },
     "execution_count": 154,
     "metadata": {},
     "output_type": "execute_result"
    }
   ],
   "source": [
    "frame"
   ]
  },
  {
   "cell_type": "code",
   "execution_count": 155,
   "metadata": {
    "collapsed": false
   },
   "outputs": [
    {
     "data": {
      "text/html": [
       "<div>\n",
       "<table border=\"1\" class=\"dataframe\">\n",
       "  <thead>\n",
       "    <tr>\n",
       "      <th></th>\n",
       "      <th>state</th>\n",
       "      <th colspan=\"2\" halign=\"left\">ohio</th>\n",
       "      <th>colorado</th>\n",
       "    </tr>\n",
       "    <tr>\n",
       "      <th></th>\n",
       "      <th>color</th>\n",
       "      <th>green</th>\n",
       "      <th>red</th>\n",
       "      <th>green</th>\n",
       "    </tr>\n",
       "    <tr>\n",
       "      <th>key2</th>\n",
       "      <th>key1</th>\n",
       "      <th></th>\n",
       "      <th></th>\n",
       "      <th></th>\n",
       "    </tr>\n",
       "  </thead>\n",
       "  <tbody>\n",
       "    <tr>\n",
       "      <th>1</th>\n",
       "      <th>a</th>\n",
       "      <td>0</td>\n",
       "      <td>1</td>\n",
       "      <td>2</td>\n",
       "    </tr>\n",
       "    <tr>\n",
       "      <th>2</th>\n",
       "      <th>a</th>\n",
       "      <td>3</td>\n",
       "      <td>4</td>\n",
       "      <td>5</td>\n",
       "    </tr>\n",
       "    <tr>\n",
       "      <th>1</th>\n",
       "      <th>b</th>\n",
       "      <td>6</td>\n",
       "      <td>7</td>\n",
       "      <td>8</td>\n",
       "    </tr>\n",
       "    <tr>\n",
       "      <th>2</th>\n",
       "      <th>b</th>\n",
       "      <td>9</td>\n",
       "      <td>10</td>\n",
       "      <td>11</td>\n",
       "    </tr>\n",
       "  </tbody>\n",
       "</table>\n",
       "</div>"
      ],
      "text/plain": [
       "state      ohio     colorado\n",
       "color     green red    green\n",
       "key2 key1                   \n",
       "1    a        0   1        2\n",
       "2    a        3   4        5\n",
       "1    b        6   7        8\n",
       "2    b        9  10       11"
      ]
     },
     "execution_count": 155,
     "metadata": {},
     "output_type": "execute_result"
    }
   ],
   "source": [
    "frame.swaplevel('key1', 'key2')"
   ]
  },
  {
   "cell_type": "code",
   "execution_count": 157,
   "metadata": {
    "collapsed": false
   },
   "outputs": [
    {
     "data": {
      "text/html": [
       "<div>\n",
       "<table border=\"1\" class=\"dataframe\">\n",
       "  <thead>\n",
       "    <tr>\n",
       "      <th></th>\n",
       "      <th>state</th>\n",
       "      <th colspan=\"2\" halign=\"left\">ohio</th>\n",
       "      <th>colorado</th>\n",
       "    </tr>\n",
       "    <tr>\n",
       "      <th></th>\n",
       "      <th>color</th>\n",
       "      <th>green</th>\n",
       "      <th>red</th>\n",
       "      <th>green</th>\n",
       "    </tr>\n",
       "    <tr>\n",
       "      <th>key1</th>\n",
       "      <th>key2</th>\n",
       "      <th></th>\n",
       "      <th></th>\n",
       "      <th></th>\n",
       "    </tr>\n",
       "  </thead>\n",
       "  <tbody>\n",
       "    <tr>\n",
       "      <th>a</th>\n",
       "      <th>1</th>\n",
       "      <td>0</td>\n",
       "      <td>1</td>\n",
       "      <td>2</td>\n",
       "    </tr>\n",
       "    <tr>\n",
       "      <th>b</th>\n",
       "      <th>1</th>\n",
       "      <td>6</td>\n",
       "      <td>7</td>\n",
       "      <td>8</td>\n",
       "    </tr>\n",
       "    <tr>\n",
       "      <th>a</th>\n",
       "      <th>2</th>\n",
       "      <td>3</td>\n",
       "      <td>4</td>\n",
       "      <td>5</td>\n",
       "    </tr>\n",
       "    <tr>\n",
       "      <th>b</th>\n",
       "      <th>2</th>\n",
       "      <td>9</td>\n",
       "      <td>10</td>\n",
       "      <td>11</td>\n",
       "    </tr>\n",
       "  </tbody>\n",
       "</table>\n",
       "</div>"
      ],
      "text/plain": [
       "state      ohio     colorado\n",
       "color     green red    green\n",
       "key1 key2                   \n",
       "a    1        0   1        2\n",
       "b    1        6   7        8\n",
       "a    2        3   4        5\n",
       "b    2        9  10       11"
      ]
     },
     "execution_count": 157,
     "metadata": {},
     "output_type": "execute_result"
    }
   ],
   "source": [
    "frame.sortlevel(1)  # which is key2"
   ]
  },
  {
   "cell_type": "code",
   "execution_count": 158,
   "metadata": {
    "collapsed": false
   },
   "outputs": [
    {
     "data": {
      "text/html": [
       "<div>\n",
       "<table border=\"1\" class=\"dataframe\">\n",
       "  <thead>\n",
       "    <tr>\n",
       "      <th></th>\n",
       "      <th>state</th>\n",
       "      <th colspan=\"2\" halign=\"left\">ohio</th>\n",
       "      <th>colorado</th>\n",
       "    </tr>\n",
       "    <tr>\n",
       "      <th></th>\n",
       "      <th>color</th>\n",
       "      <th>green</th>\n",
       "      <th>red</th>\n",
       "      <th>green</th>\n",
       "    </tr>\n",
       "    <tr>\n",
       "      <th>key2</th>\n",
       "      <th>key1</th>\n",
       "      <th></th>\n",
       "      <th></th>\n",
       "      <th></th>\n",
       "    </tr>\n",
       "  </thead>\n",
       "  <tbody>\n",
       "    <tr>\n",
       "      <th>1</th>\n",
       "      <th>a</th>\n",
       "      <td>0</td>\n",
       "      <td>1</td>\n",
       "      <td>2</td>\n",
       "    </tr>\n",
       "    <tr>\n",
       "      <th>2</th>\n",
       "      <th>a</th>\n",
       "      <td>3</td>\n",
       "      <td>4</td>\n",
       "      <td>5</td>\n",
       "    </tr>\n",
       "    <tr>\n",
       "      <th>1</th>\n",
       "      <th>b</th>\n",
       "      <td>6</td>\n",
       "      <td>7</td>\n",
       "      <td>8</td>\n",
       "    </tr>\n",
       "    <tr>\n",
       "      <th>2</th>\n",
       "      <th>b</th>\n",
       "      <td>9</td>\n",
       "      <td>10</td>\n",
       "      <td>11</td>\n",
       "    </tr>\n",
       "  </tbody>\n",
       "</table>\n",
       "</div>"
      ],
      "text/plain": [
       "state      ohio     colorado\n",
       "color     green red    green\n",
       "key2 key1                   \n",
       "1    a        0   1        2\n",
       "2    a        3   4        5\n",
       "1    b        6   7        8\n",
       "2    b        9  10       11"
      ]
     },
     "execution_count": 158,
     "metadata": {},
     "output_type": "execute_result"
    }
   ],
   "source": [
    "frame.swaplevel(0, 1)  # key1 and key2"
   ]
  },
  {
   "cell_type": "code",
   "execution_count": 159,
   "metadata": {
    "collapsed": false
   },
   "outputs": [
    {
     "data": {
      "text/html": [
       "<div>\n",
       "<table border=\"1\" class=\"dataframe\">\n",
       "  <thead>\n",
       "    <tr>\n",
       "      <th></th>\n",
       "      <th>state</th>\n",
       "      <th colspan=\"2\" halign=\"left\">ohio</th>\n",
       "      <th>colorado</th>\n",
       "    </tr>\n",
       "    <tr>\n",
       "      <th></th>\n",
       "      <th>color</th>\n",
       "      <th>green</th>\n",
       "      <th>red</th>\n",
       "      <th>green</th>\n",
       "    </tr>\n",
       "    <tr>\n",
       "      <th>key2</th>\n",
       "      <th>key1</th>\n",
       "      <th></th>\n",
       "      <th></th>\n",
       "      <th></th>\n",
       "    </tr>\n",
       "  </thead>\n",
       "  <tbody>\n",
       "    <tr>\n",
       "      <th rowspan=\"2\" valign=\"top\">1</th>\n",
       "      <th>a</th>\n",
       "      <td>0</td>\n",
       "      <td>1</td>\n",
       "      <td>2</td>\n",
       "    </tr>\n",
       "    <tr>\n",
       "      <th>b</th>\n",
       "      <td>6</td>\n",
       "      <td>7</td>\n",
       "      <td>8</td>\n",
       "    </tr>\n",
       "    <tr>\n",
       "      <th rowspan=\"2\" valign=\"top\">2</th>\n",
       "      <th>a</th>\n",
       "      <td>3</td>\n",
       "      <td>4</td>\n",
       "      <td>5</td>\n",
       "    </tr>\n",
       "    <tr>\n",
       "      <th>b</th>\n",
       "      <td>9</td>\n",
       "      <td>10</td>\n",
       "      <td>11</td>\n",
       "    </tr>\n",
       "  </tbody>\n",
       "</table>\n",
       "</div>"
      ],
      "text/plain": [
       "state      ohio     colorado\n",
       "color     green red    green\n",
       "key2 key1                   \n",
       "1    a        0   1        2\n",
       "     b        6   7        8\n",
       "2    a        3   4        5\n",
       "     b        9  10       11"
      ]
     },
     "execution_count": 159,
     "metadata": {},
     "output_type": "execute_result"
    }
   ],
   "source": [
    "frame.swaplevel(0, 1).sortlevel(0)  # which is key2"
   ]
  },
  {
   "cell_type": "code",
   "execution_count": 160,
   "metadata": {
    "collapsed": true
   },
   "outputs": [],
   "source": [
    "# data selection performance is much better on hierarchically indexed objects if the index is\n",
    "# lexicographically sorted starting with the outer most level\n",
    "# that is, the result of calling sortlevel(0) or sort_index()"
   ]
  },
  {
   "cell_type": "markdown",
   "metadata": {},
   "source": [
    "### summary statistics by level"
   ]
  },
  {
   "cell_type": "code",
   "execution_count": 161,
   "metadata": {
    "collapsed": false
   },
   "outputs": [
    {
     "data": {
      "text/html": [
       "<div>\n",
       "<table border=\"1\" class=\"dataframe\">\n",
       "  <thead>\n",
       "    <tr>\n",
       "      <th></th>\n",
       "      <th>state</th>\n",
       "      <th colspan=\"2\" halign=\"left\">ohio</th>\n",
       "      <th>colorado</th>\n",
       "    </tr>\n",
       "    <tr>\n",
       "      <th></th>\n",
       "      <th>color</th>\n",
       "      <th>green</th>\n",
       "      <th>red</th>\n",
       "      <th>green</th>\n",
       "    </tr>\n",
       "    <tr>\n",
       "      <th>key1</th>\n",
       "      <th>key2</th>\n",
       "      <th></th>\n",
       "      <th></th>\n",
       "      <th></th>\n",
       "    </tr>\n",
       "  </thead>\n",
       "  <tbody>\n",
       "    <tr>\n",
       "      <th rowspan=\"2\" valign=\"top\">a</th>\n",
       "      <th>1</th>\n",
       "      <td>0</td>\n",
       "      <td>1</td>\n",
       "      <td>2</td>\n",
       "    </tr>\n",
       "    <tr>\n",
       "      <th>2</th>\n",
       "      <td>3</td>\n",
       "      <td>4</td>\n",
       "      <td>5</td>\n",
       "    </tr>\n",
       "    <tr>\n",
       "      <th rowspan=\"2\" valign=\"top\">b</th>\n",
       "      <th>1</th>\n",
       "      <td>6</td>\n",
       "      <td>7</td>\n",
       "      <td>8</td>\n",
       "    </tr>\n",
       "    <tr>\n",
       "      <th>2</th>\n",
       "      <td>9</td>\n",
       "      <td>10</td>\n",
       "      <td>11</td>\n",
       "    </tr>\n",
       "  </tbody>\n",
       "</table>\n",
       "</div>"
      ],
      "text/plain": [
       "state      ohio     colorado\n",
       "color     green red    green\n",
       "key1 key2                   \n",
       "a    1        0   1        2\n",
       "     2        3   4        5\n",
       "b    1        6   7        8\n",
       "     2        9  10       11"
      ]
     },
     "execution_count": 161,
     "metadata": {},
     "output_type": "execute_result"
    }
   ],
   "source": [
    "frame"
   ]
  },
  {
   "cell_type": "code",
   "execution_count": 162,
   "metadata": {
    "collapsed": false
   },
   "outputs": [
    {
     "data": {
      "text/html": [
       "<div>\n",
       "<table border=\"1\" class=\"dataframe\">\n",
       "  <thead>\n",
       "    <tr>\n",
       "      <th>state</th>\n",
       "      <th colspan=\"2\" halign=\"left\">ohio</th>\n",
       "      <th>colorado</th>\n",
       "    </tr>\n",
       "    <tr>\n",
       "      <th>color</th>\n",
       "      <th>green</th>\n",
       "      <th>red</th>\n",
       "      <th>green</th>\n",
       "    </tr>\n",
       "    <tr>\n",
       "      <th>key2</th>\n",
       "      <th></th>\n",
       "      <th></th>\n",
       "      <th></th>\n",
       "    </tr>\n",
       "  </thead>\n",
       "  <tbody>\n",
       "    <tr>\n",
       "      <th>1</th>\n",
       "      <td>6</td>\n",
       "      <td>8</td>\n",
       "      <td>10</td>\n",
       "    </tr>\n",
       "    <tr>\n",
       "      <th>2</th>\n",
       "      <td>12</td>\n",
       "      <td>14</td>\n",
       "      <td>16</td>\n",
       "    </tr>\n",
       "  </tbody>\n",
       "</table>\n",
       "</div>"
      ],
      "text/plain": [
       "state  ohio     colorado\n",
       "color green red    green\n",
       "key2                    \n",
       "1         6   8       10\n",
       "2        12  14       16"
      ]
     },
     "execution_count": 162,
     "metadata": {},
     "output_type": "execute_result"
    }
   ],
   "source": [
    "frame.sum(level='key2')  # this actually uses groupby() under the hood"
   ]
  },
  {
   "cell_type": "code",
   "execution_count": 163,
   "metadata": {
    "collapsed": false
   },
   "outputs": [
    {
     "data": {
      "text/html": [
       "<div>\n",
       "<table border=\"1\" class=\"dataframe\">\n",
       "  <thead>\n",
       "    <tr style=\"text-align: right;\">\n",
       "      <th></th>\n",
       "      <th>color</th>\n",
       "      <th>green</th>\n",
       "      <th>red</th>\n",
       "    </tr>\n",
       "    <tr>\n",
       "      <th>key1</th>\n",
       "      <th>key2</th>\n",
       "      <th></th>\n",
       "      <th></th>\n",
       "    </tr>\n",
       "  </thead>\n",
       "  <tbody>\n",
       "    <tr>\n",
       "      <th rowspan=\"2\" valign=\"top\">a</th>\n",
       "      <th>1</th>\n",
       "      <td>2</td>\n",
       "      <td>1</td>\n",
       "    </tr>\n",
       "    <tr>\n",
       "      <th>2</th>\n",
       "      <td>8</td>\n",
       "      <td>4</td>\n",
       "    </tr>\n",
       "    <tr>\n",
       "      <th rowspan=\"2\" valign=\"top\">b</th>\n",
       "      <th>1</th>\n",
       "      <td>14</td>\n",
       "      <td>7</td>\n",
       "    </tr>\n",
       "    <tr>\n",
       "      <th>2</th>\n",
       "      <td>20</td>\n",
       "      <td>10</td>\n",
       "    </tr>\n",
       "  </tbody>\n",
       "</table>\n",
       "</div>"
      ],
      "text/plain": [
       "color      green  red\n",
       "key1 key2            \n",
       "a    1         2    1\n",
       "     2         8    4\n",
       "b    1        14    7\n",
       "     2        20   10"
      ]
     },
     "execution_count": 163,
     "metadata": {},
     "output_type": "execute_result"
    }
   ],
   "source": [
    "frame.sum(level='color', axis=1)"
   ]
  },
  {
   "cell_type": "code",
   "execution_count": 164,
   "metadata": {
    "collapsed": false
   },
   "outputs": [
    {
     "data": {
      "text/html": [
       "<div>\n",
       "<table border=\"1\" class=\"dataframe\">\n",
       "  <thead>\n",
       "    <tr style=\"text-align: right;\">\n",
       "      <th></th>\n",
       "      <th>a</th>\n",
       "      <th>b</th>\n",
       "      <th>c</th>\n",
       "      <th>d</th>\n",
       "    </tr>\n",
       "  </thead>\n",
       "  <tbody>\n",
       "    <tr>\n",
       "      <th>0</th>\n",
       "      <td>0</td>\n",
       "      <td>7</td>\n",
       "      <td>one</td>\n",
       "      <td>0</td>\n",
       "    </tr>\n",
       "    <tr>\n",
       "      <th>1</th>\n",
       "      <td>1</td>\n",
       "      <td>6</td>\n",
       "      <td>one</td>\n",
       "      <td>1</td>\n",
       "    </tr>\n",
       "    <tr>\n",
       "      <th>2</th>\n",
       "      <td>2</td>\n",
       "      <td>5</td>\n",
       "      <td>one</td>\n",
       "      <td>2</td>\n",
       "    </tr>\n",
       "    <tr>\n",
       "      <th>3</th>\n",
       "      <td>3</td>\n",
       "      <td>4</td>\n",
       "      <td>two</td>\n",
       "      <td>0</td>\n",
       "    </tr>\n",
       "    <tr>\n",
       "      <th>4</th>\n",
       "      <td>4</td>\n",
       "      <td>3</td>\n",
       "      <td>two</td>\n",
       "      <td>1</td>\n",
       "    </tr>\n",
       "    <tr>\n",
       "      <th>5</th>\n",
       "      <td>5</td>\n",
       "      <td>2</td>\n",
       "      <td>two</td>\n",
       "      <td>2</td>\n",
       "    </tr>\n",
       "    <tr>\n",
       "      <th>6</th>\n",
       "      <td>6</td>\n",
       "      <td>1</td>\n",
       "      <td>twos</td>\n",
       "      <td>3</td>\n",
       "    </tr>\n",
       "  </tbody>\n",
       "</table>\n",
       "</div>"
      ],
      "text/plain": [
       "   a  b     c  d\n",
       "0  0  7   one  0\n",
       "1  1  6   one  1\n",
       "2  2  5   one  2\n",
       "3  3  4   two  0\n",
       "4  4  3   two  1\n",
       "5  5  2   two  2\n",
       "6  6  1  twos  3"
      ]
     },
     "execution_count": 164,
     "metadata": {},
     "output_type": "execute_result"
    }
   ],
   "source": [
    "frame = DataFrame({\n",
    "        'a': range(7),\n",
    "        'b': range(7, 0, -1),\n",
    "        'c': ['one', 'one', 'one', 'two', 'two', 'two', 'twos'],\n",
    "        'd': [0, 1, 2, 0, 1, 2, 3]\n",
    "    })\n",
    "frame"
   ]
  },
  {
   "cell_type": "code",
   "execution_count": 168,
   "metadata": {
    "collapsed": true
   },
   "outputs": [],
   "source": [
    "frame2 = frame.set_index(['c', 'd'])  # default drop the columns"
   ]
  },
  {
   "cell_type": "code",
   "execution_count": 169,
   "metadata": {
    "collapsed": false
   },
   "outputs": [
    {
     "data": {
      "text/html": [
       "<div>\n",
       "<table border=\"1\" class=\"dataframe\">\n",
       "  <thead>\n",
       "    <tr style=\"text-align: right;\">\n",
       "      <th></th>\n",
       "      <th></th>\n",
       "      <th>a</th>\n",
       "      <th>b</th>\n",
       "    </tr>\n",
       "    <tr>\n",
       "      <th>c</th>\n",
       "      <th>d</th>\n",
       "      <th></th>\n",
       "      <th></th>\n",
       "    </tr>\n",
       "  </thead>\n",
       "  <tbody>\n",
       "    <tr>\n",
       "      <th rowspan=\"3\" valign=\"top\">one</th>\n",
       "      <th>0</th>\n",
       "      <td>0</td>\n",
       "      <td>7</td>\n",
       "    </tr>\n",
       "    <tr>\n",
       "      <th>1</th>\n",
       "      <td>1</td>\n",
       "      <td>6</td>\n",
       "    </tr>\n",
       "    <tr>\n",
       "      <th>2</th>\n",
       "      <td>2</td>\n",
       "      <td>5</td>\n",
       "    </tr>\n",
       "    <tr>\n",
       "      <th rowspan=\"3\" valign=\"top\">two</th>\n",
       "      <th>0</th>\n",
       "      <td>3</td>\n",
       "      <td>4</td>\n",
       "    </tr>\n",
       "    <tr>\n",
       "      <th>1</th>\n",
       "      <td>4</td>\n",
       "      <td>3</td>\n",
       "    </tr>\n",
       "    <tr>\n",
       "      <th>2</th>\n",
       "      <td>5</td>\n",
       "      <td>2</td>\n",
       "    </tr>\n",
       "    <tr>\n",
       "      <th>twos</th>\n",
       "      <th>3</th>\n",
       "      <td>6</td>\n",
       "      <td>1</td>\n",
       "    </tr>\n",
       "  </tbody>\n",
       "</table>\n",
       "</div>"
      ],
      "text/plain": [
       "        a  b\n",
       "c    d      \n",
       "one  0  0  7\n",
       "     1  1  6\n",
       "     2  2  5\n",
       "two  0  3  4\n",
       "     1  4  3\n",
       "     2  5  2\n",
       "twos 3  6  1"
      ]
     },
     "execution_count": 169,
     "metadata": {},
     "output_type": "execute_result"
    }
   ],
   "source": [
    "frame2"
   ]
  },
  {
   "cell_type": "code",
   "execution_count": 170,
   "metadata": {
    "collapsed": false
   },
   "outputs": [
    {
     "data": {
      "text/html": [
       "<div>\n",
       "<table border=\"1\" class=\"dataframe\">\n",
       "  <thead>\n",
       "    <tr style=\"text-align: right;\">\n",
       "      <th></th>\n",
       "      <th></th>\n",
       "      <th>a</th>\n",
       "      <th>b</th>\n",
       "      <th>c</th>\n",
       "      <th>d</th>\n",
       "    </tr>\n",
       "    <tr>\n",
       "      <th>c</th>\n",
       "      <th>d</th>\n",
       "      <th></th>\n",
       "      <th></th>\n",
       "      <th></th>\n",
       "      <th></th>\n",
       "    </tr>\n",
       "  </thead>\n",
       "  <tbody>\n",
       "    <tr>\n",
       "      <th rowspan=\"3\" valign=\"top\">one</th>\n",
       "      <th>0</th>\n",
       "      <td>0</td>\n",
       "      <td>7</td>\n",
       "      <td>one</td>\n",
       "      <td>0</td>\n",
       "    </tr>\n",
       "    <tr>\n",
       "      <th>1</th>\n",
       "      <td>1</td>\n",
       "      <td>6</td>\n",
       "      <td>one</td>\n",
       "      <td>1</td>\n",
       "    </tr>\n",
       "    <tr>\n",
       "      <th>2</th>\n",
       "      <td>2</td>\n",
       "      <td>5</td>\n",
       "      <td>one</td>\n",
       "      <td>2</td>\n",
       "    </tr>\n",
       "    <tr>\n",
       "      <th rowspan=\"3\" valign=\"top\">two</th>\n",
       "      <th>0</th>\n",
       "      <td>3</td>\n",
       "      <td>4</td>\n",
       "      <td>two</td>\n",
       "      <td>0</td>\n",
       "    </tr>\n",
       "    <tr>\n",
       "      <th>1</th>\n",
       "      <td>4</td>\n",
       "      <td>3</td>\n",
       "      <td>two</td>\n",
       "      <td>1</td>\n",
       "    </tr>\n",
       "    <tr>\n",
       "      <th>2</th>\n",
       "      <td>5</td>\n",
       "      <td>2</td>\n",
       "      <td>two</td>\n",
       "      <td>2</td>\n",
       "    </tr>\n",
       "    <tr>\n",
       "      <th>twos</th>\n",
       "      <th>3</th>\n",
       "      <td>6</td>\n",
       "      <td>1</td>\n",
       "      <td>twos</td>\n",
       "      <td>3</td>\n",
       "    </tr>\n",
       "  </tbody>\n",
       "</table>\n",
       "</div>"
      ],
      "text/plain": [
       "        a  b     c  d\n",
       "c    d               \n",
       "one  0  0  7   one  0\n",
       "     1  1  6   one  1\n",
       "     2  2  5   one  2\n",
       "two  0  3  4   two  0\n",
       "     1  4  3   two  1\n",
       "     2  5  2   two  2\n",
       "twos 3  6  1  twos  3"
      ]
     },
     "execution_count": 170,
     "metadata": {},
     "output_type": "execute_result"
    }
   ],
   "source": [
    "frame.set_index(['c', 'd'], drop=False)"
   ]
  },
  {
   "cell_type": "code",
   "execution_count": 167,
   "metadata": {
    "collapsed": false
   },
   "outputs": [
    {
     "data": {
      "text/html": [
       "<div>\n",
       "<table border=\"1\" class=\"dataframe\">\n",
       "  <thead>\n",
       "    <tr style=\"text-align: right;\">\n",
       "      <th></th>\n",
       "      <th>c</th>\n",
       "      <th>d</th>\n",
       "      <th>a</th>\n",
       "      <th>b</th>\n",
       "    </tr>\n",
       "  </thead>\n",
       "  <tbody>\n",
       "    <tr>\n",
       "      <th>0</th>\n",
       "      <td>one</td>\n",
       "      <td>0</td>\n",
       "      <td>0</td>\n",
       "      <td>7</td>\n",
       "    </tr>\n",
       "    <tr>\n",
       "      <th>1</th>\n",
       "      <td>one</td>\n",
       "      <td>1</td>\n",
       "      <td>1</td>\n",
       "      <td>6</td>\n",
       "    </tr>\n",
       "    <tr>\n",
       "      <th>2</th>\n",
       "      <td>one</td>\n",
       "      <td>2</td>\n",
       "      <td>2</td>\n",
       "      <td>5</td>\n",
       "    </tr>\n",
       "    <tr>\n",
       "      <th>3</th>\n",
       "      <td>two</td>\n",
       "      <td>0</td>\n",
       "      <td>3</td>\n",
       "      <td>4</td>\n",
       "    </tr>\n",
       "    <tr>\n",
       "      <th>4</th>\n",
       "      <td>two</td>\n",
       "      <td>1</td>\n",
       "      <td>4</td>\n",
       "      <td>3</td>\n",
       "    </tr>\n",
       "    <tr>\n",
       "      <th>5</th>\n",
       "      <td>two</td>\n",
       "      <td>2</td>\n",
       "      <td>5</td>\n",
       "      <td>2</td>\n",
       "    </tr>\n",
       "    <tr>\n",
       "      <th>6</th>\n",
       "      <td>twos</td>\n",
       "      <td>3</td>\n",
       "      <td>6</td>\n",
       "      <td>1</td>\n",
       "    </tr>\n",
       "  </tbody>\n",
       "</table>\n",
       "</div>"
      ],
      "text/plain": [
       "      c  d  a  b\n",
       "0   one  0  0  7\n",
       "1   one  1  1  6\n",
       "2   one  2  2  5\n",
       "3   two  0  3  4\n",
       "4   two  1  4  3\n",
       "5   two  2  5  2\n",
       "6  twos  3  6  1"
      ]
     },
     "execution_count": 167,
     "metadata": {},
     "output_type": "execute_result"
    }
   ],
   "source": [
    "frame2.reset_index()  # undo everything"
   ]
  },
  {
   "cell_type": "markdown",
   "metadata": {},
   "source": [
    "### integer indexing (always label-based)"
   ]
  },
  {
   "cell_type": "code",
   "execution_count": 171,
   "metadata": {
    "collapsed": false
   },
   "outputs": [
    {
     "data": {
      "text/plain": [
       "0    0\n",
       "1    1\n",
       "2    2\n",
       "dtype: int64"
      ]
     },
     "execution_count": 171,
     "metadata": {},
     "output_type": "execute_result"
    }
   ],
   "source": [
    "ser = Series(np.arange(3))\n",
    "ser"
   ]
  },
  {
   "cell_type": "code",
   "execution_count": 172,
   "metadata": {
    "collapsed": false
   },
   "outputs": [
    {
     "ename": "KeyError",
     "evalue": "-1",
     "output_type": "error",
     "traceback": [
      "\u001b[0;31m---------------------------------------------------------------------------\u001b[0m",
      "\u001b[0;31mKeyError\u001b[0m                                  Traceback (most recent call last)",
      "\u001b[0;32m<ipython-input-172-3cbe0b873a9e>\u001b[0m in \u001b[0;36m<module>\u001b[0;34m()\u001b[0m\n\u001b[0;32m----> 1\u001b[0;31m \u001b[0mser\u001b[0m\u001b[0;34m[\u001b[0m\u001b[0;34m-\u001b[0m\u001b[0;36m1\u001b[0m\u001b[0;34m]\u001b[0m\u001b[0;34m\u001b[0m\u001b[0m\n\u001b[0m",
      "\u001b[0;32m/Users/yth/anaconda/envs/101/lib/python3.5/site-packages/pandas/core/series.py\u001b[0m in \u001b[0;36m__getitem__\u001b[0;34m(self, key)\u001b[0m\n\u001b[1;32m    555\u001b[0m     \u001b[0;32mdef\u001b[0m \u001b[0m__getitem__\u001b[0m\u001b[0;34m(\u001b[0m\u001b[0mself\u001b[0m\u001b[0;34m,\u001b[0m \u001b[0mkey\u001b[0m\u001b[0;34m)\u001b[0m\u001b[0;34m:\u001b[0m\u001b[0;34m\u001b[0m\u001b[0m\n\u001b[1;32m    556\u001b[0m         \u001b[0;32mtry\u001b[0m\u001b[0;34m:\u001b[0m\u001b[0;34m\u001b[0m\u001b[0m\n\u001b[0;32m--> 557\u001b[0;31m             \u001b[0mresult\u001b[0m \u001b[0;34m=\u001b[0m \u001b[0mself\u001b[0m\u001b[0;34m.\u001b[0m\u001b[0mindex\u001b[0m\u001b[0;34m.\u001b[0m\u001b[0mget_value\u001b[0m\u001b[0;34m(\u001b[0m\u001b[0mself\u001b[0m\u001b[0;34m,\u001b[0m \u001b[0mkey\u001b[0m\u001b[0;34m)\u001b[0m\u001b[0;34m\u001b[0m\u001b[0m\n\u001b[0m\u001b[1;32m    558\u001b[0m \u001b[0;34m\u001b[0m\u001b[0m\n\u001b[1;32m    559\u001b[0m             \u001b[0;32mif\u001b[0m \u001b[0;32mnot\u001b[0m \u001b[0mnp\u001b[0m\u001b[0;34m.\u001b[0m\u001b[0misscalar\u001b[0m\u001b[0;34m(\u001b[0m\u001b[0mresult\u001b[0m\u001b[0;34m)\u001b[0m\u001b[0;34m:\u001b[0m\u001b[0;34m\u001b[0m\u001b[0m\n",
      "\u001b[0;32m/Users/yth/anaconda/envs/101/lib/python3.5/site-packages/pandas/core/index.py\u001b[0m in \u001b[0;36mget_value\u001b[0;34m(self, series, key)\u001b[0m\n\u001b[1;32m   1788\u001b[0m \u001b[0;34m\u001b[0m\u001b[0m\n\u001b[1;32m   1789\u001b[0m         \u001b[0;32mtry\u001b[0m\u001b[0;34m:\u001b[0m\u001b[0;34m\u001b[0m\u001b[0m\n\u001b[0;32m-> 1790\u001b[0;31m             \u001b[0;32mreturn\u001b[0m \u001b[0mself\u001b[0m\u001b[0;34m.\u001b[0m\u001b[0m_engine\u001b[0m\u001b[0;34m.\u001b[0m\u001b[0mget_value\u001b[0m\u001b[0;34m(\u001b[0m\u001b[0ms\u001b[0m\u001b[0;34m,\u001b[0m \u001b[0mk\u001b[0m\u001b[0;34m)\u001b[0m\u001b[0;34m\u001b[0m\u001b[0m\n\u001b[0m\u001b[1;32m   1791\u001b[0m         \u001b[0;32mexcept\u001b[0m \u001b[0mKeyError\u001b[0m \u001b[0;32mas\u001b[0m \u001b[0me1\u001b[0m\u001b[0;34m:\u001b[0m\u001b[0;34m\u001b[0m\u001b[0m\n\u001b[1;32m   1792\u001b[0m             \u001b[0;32mif\u001b[0m \u001b[0mlen\u001b[0m\u001b[0;34m(\u001b[0m\u001b[0mself\u001b[0m\u001b[0;34m)\u001b[0m \u001b[0;34m>\u001b[0m \u001b[0;36m0\u001b[0m \u001b[0;32mand\u001b[0m \u001b[0mself\u001b[0m\u001b[0;34m.\u001b[0m\u001b[0minferred_type\u001b[0m \u001b[0;32min\u001b[0m \u001b[0;34m[\u001b[0m\u001b[0;34m'integer'\u001b[0m\u001b[0;34m,\u001b[0m\u001b[0;34m'boolean'\u001b[0m\u001b[0;34m]\u001b[0m\u001b[0;34m:\u001b[0m\u001b[0;34m\u001b[0m\u001b[0m\n",
      "\u001b[0;32mpandas/index.pyx\u001b[0m in \u001b[0;36mpandas.index.IndexEngine.get_value (pandas/index.c:3204)\u001b[0;34m()\u001b[0m\n",
      "\u001b[0;32mpandas/index.pyx\u001b[0m in \u001b[0;36mpandas.index.IndexEngine.get_value (pandas/index.c:2903)\u001b[0;34m()\u001b[0m\n",
      "\u001b[0;32mpandas/index.pyx\u001b[0m in \u001b[0;36mpandas.index.IndexEngine.get_loc (pandas/index.c:3843)\u001b[0;34m()\u001b[0m\n",
      "\u001b[0;32mpandas/hashtable.pyx\u001b[0m in \u001b[0;36mpandas.hashtable.Int64HashTable.get_item (pandas/hashtable.c:6525)\u001b[0;34m()\u001b[0m\n",
      "\u001b[0;32mpandas/hashtable.pyx\u001b[0m in \u001b[0;36mpandas.hashtable.Int64HashTable.get_item (pandas/hashtable.c:6463)\u001b[0;34m()\u001b[0m\n",
      "\u001b[0;31mKeyError\u001b[0m: -1"
     ]
    }
   ],
   "source": [
    "ser[-1]  # ambiguity between label-based and position-based indexing, default is label-based, therefore the error"
   ]
  },
  {
   "cell_type": "code",
   "execution_count": 173,
   "metadata": {
    "collapsed": false
   },
   "outputs": [
    {
     "data": {
      "text/plain": [
       "a    0\n",
       "b    1\n",
       "c    2\n",
       "dtype: int64"
      ]
     },
     "execution_count": 173,
     "metadata": {},
     "output_type": "execute_result"
    }
   ],
   "source": [
    "ser2 = Series(np.arange(3), index=list('abc'))\n",
    "ser2"
   ]
  },
  {
   "cell_type": "code",
   "execution_count": 174,
   "metadata": {
    "collapsed": false
   },
   "outputs": [
    {
     "data": {
      "text/plain": [
       "2"
      ]
     },
     "execution_count": 174,
     "metadata": {},
     "output_type": "execute_result"
    }
   ],
   "source": [
    "ser2[-1]  # no ambiguity when the indexer is not index basedc"
   ]
  },
  {
   "cell_type": "code",
   "execution_count": 175,
   "metadata": {
    "collapsed": false
   },
   "outputs": [
    {
     "data": {
      "text/plain": [
       "0    0\n",
       "1    1\n",
       "dtype: int64"
      ]
     },
     "execution_count": 175,
     "metadata": {},
     "output_type": "execute_result"
    }
   ],
   "source": [
    "ser.ix[:1]  # label based"
   ]
  },
  {
   "cell_type": "code",
   "execution_count": 176,
   "metadata": {
    "collapsed": false
   },
   "outputs": [
    {
     "data": {
      "text/plain": [
       "-5    0\n",
       " 1    1\n",
       " 3    2\n",
       "dtype: int64"
      ]
     },
     "execution_count": 176,
     "metadata": {},
     "output_type": "execute_result"
    }
   ],
   "source": [
    "ser3 = Series(range(3), index=[-5, 1, 3])\n",
    "ser3"
   ]
  },
  {
   "cell_type": "code",
   "execution_count": 177,
   "metadata": {
    "collapsed": false
   },
   "outputs": [
    {
     "name": "stderr",
     "output_type": "stream",
     "text": [
      "/Users/yth/anaconda/envs/101/lib/python3.5/site-packages/ipykernel/__main__.py:1: FutureWarning: iget_value(i) is deprecated. Please use .iloc[i] or .iat[i]\n",
      "  if __name__ == '__main__':\n"
     ]
    },
    {
     "data": {
      "text/plain": [
       "2"
      ]
     },
     "execution_count": 177,
     "metadata": {},
     "output_type": "execute_result"
    }
   ],
   "source": [
    "ser3.iget_value(2)  # force position based"
   ]
  },
  {
   "cell_type": "code",
   "execution_count": 178,
   "metadata": {
    "collapsed": false
   },
   "outputs": [
    {
     "data": {
      "text/plain": [
       "2"
      ]
     },
     "execution_count": 178,
     "metadata": {},
     "output_type": "execute_result"
    }
   ],
   "source": [
    "ser3.iloc[2]"
   ]
  },
  {
   "cell_type": "code",
   "execution_count": 179,
   "metadata": {
    "collapsed": false
   },
   "outputs": [
    {
     "data": {
      "text/html": [
       "<div>\n",
       "<table border=\"1\" class=\"dataframe\">\n",
       "  <thead>\n",
       "    <tr style=\"text-align: right;\">\n",
       "      <th></th>\n",
       "      <th>0</th>\n",
       "      <th>1</th>\n",
       "    </tr>\n",
       "  </thead>\n",
       "  <tbody>\n",
       "    <tr>\n",
       "      <th>2</th>\n",
       "      <td>0</td>\n",
       "      <td>1</td>\n",
       "    </tr>\n",
       "    <tr>\n",
       "      <th>0</th>\n",
       "      <td>2</td>\n",
       "      <td>3</td>\n",
       "    </tr>\n",
       "    <tr>\n",
       "      <th>1</th>\n",
       "      <td>4</td>\n",
       "      <td>5</td>\n",
       "    </tr>\n",
       "  </tbody>\n",
       "</table>\n",
       "</div>"
      ],
      "text/plain": [
       "   0  1\n",
       "2  0  1\n",
       "0  2  3\n",
       "1  4  5"
      ]
     },
     "execution_count": 179,
     "metadata": {},
     "output_type": "execute_result"
    }
   ],
   "source": [
    "frame = DataFrame(np.arange(6).reshape(3, 2), index=[2, 0, 1])\n",
    "frame"
   ]
  },
  {
   "cell_type": "code",
   "execution_count": 180,
   "metadata": {
    "collapsed": false
   },
   "outputs": [
    {
     "name": "stderr",
     "output_type": "stream",
     "text": [
      "/Users/yth/anaconda/envs/101/lib/python3.5/site-packages/ipykernel/__main__.py:1: FutureWarning: irow(i) is deprecated. Please use .iloc[i]\n",
      "  if __name__ == '__main__':\n"
     ]
    },
    {
     "data": {
      "text/plain": [
       "0    4\n",
       "1    5\n",
       "Name: 1, dtype: int64"
      ]
     },
     "execution_count": 180,
     "metadata": {},
     "output_type": "execute_result"
    }
   ],
   "source": [
    "frame.irow(2)"
   ]
  },
  {
   "cell_type": "code",
   "execution_count": 181,
   "metadata": {
    "collapsed": false
   },
   "outputs": [
    {
     "data": {
      "text/plain": [
       "0    4\n",
       "1    5\n",
       "Name: 1, dtype: int64"
      ]
     },
     "execution_count": 181,
     "metadata": {},
     "output_type": "execute_result"
    }
   ],
   "source": [
    "frame.iloc[2]"
   ]
  },
  {
   "cell_type": "code",
   "execution_count": 182,
   "metadata": {
    "collapsed": true
   },
   "outputs": [],
   "source": [
    "# use iloc[] for position-based indexing for both Series and DataFrame"
   ]
  },
  {
   "cell_type": "markdown",
   "metadata": {},
   "source": [
    "### panel data"
   ]
  },
  {
   "cell_type": "code",
   "execution_count": 184,
   "metadata": {
    "collapsed": false
   },
   "outputs": [
    {
     "data": {
      "text/plain": [
       "<class 'pandas.core.panel.Panel'>\n",
       "Dimensions: 4 (items) x 1574 (major_axis) x 6 (minor_axis)\n",
       "Items axis: AAPL to MSFT\n",
       "Major_axis axis: 2010-01-04 00:00:00 to 2016-03-07 00:00:00\n",
       "Minor_axis axis: Open to Adj Close"
      ]
     },
     "execution_count": 184,
     "metadata": {},
     "output_type": "execute_result"
    }
   ],
   "source": [
    "pdata = pd.Panel({stk: web.get_data_yahoo(stk) for stk in ['AAPL', 'GOOG', 'MSFT', 'DELL']})\n",
    "pdata"
   ]
  },
  {
   "cell_type": "code",
   "execution_count": 185,
   "metadata": {
    "collapsed": true
   },
   "outputs": [],
   "source": [
    "pdata = pdata.swapaxes('items', 'minor')"
   ]
  },
  {
   "cell_type": "code",
   "execution_count": 186,
   "metadata": {
    "collapsed": false
   },
   "outputs": [
    {
     "data": {
      "text/html": [
       "<div>\n",
       "<table border=\"1\" class=\"dataframe\">\n",
       "  <thead>\n",
       "    <tr style=\"text-align: right;\">\n",
       "      <th></th>\n",
       "      <th>AAPL</th>\n",
       "      <th>DELL</th>\n",
       "      <th>GOOG</th>\n",
       "      <th>MSFT</th>\n",
       "    </tr>\n",
       "    <tr>\n",
       "      <th>Date</th>\n",
       "      <th></th>\n",
       "      <th></th>\n",
       "      <th></th>\n",
       "      <th></th>\n",
       "    </tr>\n",
       "  </thead>\n",
       "  <tbody>\n",
       "    <tr>\n",
       "      <th>2010-01-04</th>\n",
       "      <td>28.313195</td>\n",
       "      <td>14.06528</td>\n",
       "      <td>313.062468</td>\n",
       "      <td>26.227603</td>\n",
       "    </tr>\n",
       "    <tr>\n",
       "      <th>2010-01-05</th>\n",
       "      <td>28.362145</td>\n",
       "      <td>14.38450</td>\n",
       "      <td>311.683844</td>\n",
       "      <td>26.236076</td>\n",
       "    </tr>\n",
       "    <tr>\n",
       "      <th>2010-01-06</th>\n",
       "      <td>27.911008</td>\n",
       "      <td>14.10397</td>\n",
       "      <td>303.826685</td>\n",
       "      <td>26.075067</td>\n",
       "    </tr>\n",
       "    <tr>\n",
       "      <th>2010-01-07</th>\n",
       "      <td>27.859412</td>\n",
       "      <td>14.23940</td>\n",
       "      <td>296.753749</td>\n",
       "      <td>25.803894</td>\n",
       "    </tr>\n",
       "    <tr>\n",
       "      <th>2010-01-08</th>\n",
       "      <td>28.044630</td>\n",
       "      <td>14.36516</td>\n",
       "      <td>300.709808</td>\n",
       "      <td>25.981851</td>\n",
       "    </tr>\n",
       "    <tr>\n",
       "      <th>2010-01-11</th>\n",
       "      <td>27.797232</td>\n",
       "      <td>14.37483</td>\n",
       "      <td>300.255255</td>\n",
       "      <td>25.651358</td>\n",
       "    </tr>\n",
       "    <tr>\n",
       "      <th>2010-01-12</th>\n",
       "      <td>27.481038</td>\n",
       "      <td>14.56830</td>\n",
       "      <td>294.945572</td>\n",
       "      <td>25.481874</td>\n",
       "    </tr>\n",
       "    <tr>\n",
       "      <th>2010-01-13</th>\n",
       "      <td>27.868673</td>\n",
       "      <td>14.57797</td>\n",
       "      <td>293.252243</td>\n",
       "      <td>25.719151</td>\n",
       "    </tr>\n",
       "    <tr>\n",
       "      <th>2010-01-14</th>\n",
       "      <td>27.707269</td>\n",
       "      <td>14.22005</td>\n",
       "      <td>294.630868</td>\n",
       "      <td>26.236076</td>\n",
       "    </tr>\n",
       "    <tr>\n",
       "      <th>2010-01-15</th>\n",
       "      <td>27.244224</td>\n",
       "      <td>13.92985</td>\n",
       "      <td>289.710772</td>\n",
       "      <td>26.151335</td>\n",
       "    </tr>\n",
       "    <tr>\n",
       "      <th>2010-01-19</th>\n",
       "      <td>28.449462</td>\n",
       "      <td>14.32646</td>\n",
       "      <td>293.516976</td>\n",
       "      <td>26.354715</td>\n",
       "    </tr>\n",
       "    <tr>\n",
       "      <th>2010-01-20</th>\n",
       "      <td>28.011555</td>\n",
       "      <td>14.03626</td>\n",
       "      <td>289.915587</td>\n",
       "      <td>25.922532</td>\n",
       "    </tr>\n",
       "    <tr>\n",
       "      <th>2010-01-21</th>\n",
       "      <td>27.527342</td>\n",
       "      <td>13.92017</td>\n",
       "      <td>291.199286</td>\n",
       "      <td>25.431029</td>\n",
       "    </tr>\n",
       "    <tr>\n",
       "      <th>2010-01-22</th>\n",
       "      <td>26.162022</td>\n",
       "      <td>13.18982</td>\n",
       "      <td>274.730736</td>\n",
       "      <td>24.541239</td>\n",
       "    </tr>\n",
       "    <tr>\n",
       "      <th>2010-01-25</th>\n",
       "      <td>26.865850</td>\n",
       "      <td>13.43650</td>\n",
       "      <td>269.730740</td>\n",
       "      <td>24.846310</td>\n",
       "    </tr>\n",
       "    <tr>\n",
       "      <th>2010-01-26</th>\n",
       "      <td>27.245547</td>\n",
       "      <td>13.13662</td>\n",
       "      <td>270.939526</td>\n",
       "      <td>24.998845</td>\n",
       "    </tr>\n",
       "    <tr>\n",
       "      <th>2010-01-27</th>\n",
       "      <td>27.502206</td>\n",
       "      <td>13.08825</td>\n",
       "      <td>270.779695</td>\n",
       "      <td>25.142907</td>\n",
       "    </tr>\n",
       "    <tr>\n",
       "      <th>2010-01-28</th>\n",
       "      <td>26.365761</td>\n",
       "      <td>12.84641</td>\n",
       "      <td>266.878565</td>\n",
       "      <td>24.710723</td>\n",
       "    </tr>\n",
       "    <tr>\n",
       "      <th>2010-01-29</th>\n",
       "      <td>25.409244</td>\n",
       "      <td>12.47882</td>\n",
       "      <td>264.705742</td>\n",
       "      <td>23.880253</td>\n",
       "    </tr>\n",
       "    <tr>\n",
       "      <th>2010-02-01</th>\n",
       "      <td>25.762481</td>\n",
       "      <td>12.78837</td>\n",
       "      <td>266.244198</td>\n",
       "      <td>24.075159</td>\n",
       "    </tr>\n",
       "    <tr>\n",
       "      <th>2010-02-02</th>\n",
       "      <td>25.911978</td>\n",
       "      <td>12.86576</td>\n",
       "      <td>265.295156</td>\n",
       "      <td>24.117529</td>\n",
       "    </tr>\n",
       "    <tr>\n",
       "      <th>2010-02-03</th>\n",
       "      <td>26.357823</td>\n",
       "      <td>12.92380</td>\n",
       "      <td>270.140309</td>\n",
       "      <td>24.261591</td>\n",
       "    </tr>\n",
       "    <tr>\n",
       "      <th>2010-02-04</th>\n",
       "      <td>25.407921</td>\n",
       "      <td>12.58523</td>\n",
       "      <td>263.127321</td>\n",
       "      <td>23.592131</td>\n",
       "    </tr>\n",
       "    <tr>\n",
       "      <th>2010-02-05</th>\n",
       "      <td>25.859059</td>\n",
       "      <td>12.80772</td>\n",
       "      <td>265.380075</td>\n",
       "      <td>23.744666</td>\n",
       "    </tr>\n",
       "    <tr>\n",
       "      <th>2010-02-08</th>\n",
       "      <td>25.681779</td>\n",
       "      <td>12.95282</td>\n",
       "      <td>266.468996</td>\n",
       "      <td>23.490440</td>\n",
       "    </tr>\n",
       "    <tr>\n",
       "      <th>2010-02-09</th>\n",
       "      <td>25.955637</td>\n",
       "      <td>13.10760</td>\n",
       "      <td>267.952522</td>\n",
       "      <td>23.736192</td>\n",
       "    </tr>\n",
       "    <tr>\n",
       "      <th>2010-02-10</th>\n",
       "      <td>25.814078</td>\n",
       "      <td>13.30107</td>\n",
       "      <td>266.958496</td>\n",
       "      <td>23.719243</td>\n",
       "    </tr>\n",
       "    <tr>\n",
       "      <th>2010-02-11</th>\n",
       "      <td>26.283736</td>\n",
       "      <td>13.49454</td>\n",
       "      <td>267.932539</td>\n",
       "      <td>23.829409</td>\n",
       "    </tr>\n",
       "    <tr>\n",
       "      <th>2010-02-12</th>\n",
       "      <td>26.509966</td>\n",
       "      <td>13.38813</td>\n",
       "      <td>266.294170</td>\n",
       "      <td>23.668399</td>\n",
       "    </tr>\n",
       "    <tr>\n",
       "      <th>2010-02-16</th>\n",
       "      <td>26.909508</td>\n",
       "      <td>13.67834</td>\n",
       "      <td>270.380071</td>\n",
       "      <td>24.136659</td>\n",
       "    </tr>\n",
       "    <tr>\n",
       "      <th>...</th>\n",
       "      <td>...</td>\n",
       "      <td>...</td>\n",
       "      <td>...</td>\n",
       "      <td>...</td>\n",
       "    </tr>\n",
       "    <tr>\n",
       "      <th>2016-01-25</th>\n",
       "      <td>98.903329</td>\n",
       "      <td>NaN</td>\n",
       "      <td>711.669983</td>\n",
       "      <td>51.420805</td>\n",
       "    </tr>\n",
       "    <tr>\n",
       "      <th>2016-01-26</th>\n",
       "      <td>99.450356</td>\n",
       "      <td>NaN</td>\n",
       "      <td>713.039978</td>\n",
       "      <td>51.798093</td>\n",
       "    </tr>\n",
       "    <tr>\n",
       "      <th>2016-01-27</th>\n",
       "      <td>92.915814</td>\n",
       "      <td>NaN</td>\n",
       "      <td>699.989990</td>\n",
       "      <td>50.854868</td>\n",
       "    </tr>\n",
       "    <tr>\n",
       "      <th>2016-01-28</th>\n",
       "      <td>93.582196</td>\n",
       "      <td>NaN</td>\n",
       "      <td>730.960022</td>\n",
       "      <td>51.688880</td>\n",
       "    </tr>\n",
       "    <tr>\n",
       "      <th>2016-01-29</th>\n",
       "      <td>96.814656</td>\n",
       "      <td>NaN</td>\n",
       "      <td>742.950012</td>\n",
       "      <td>54.697279</td>\n",
       "    </tr>\n",
       "    <tr>\n",
       "      <th>2016-02-01</th>\n",
       "      <td>95.909571</td>\n",
       "      <td>NaN</td>\n",
       "      <td>752.000000</td>\n",
       "      <td>54.319987</td>\n",
       "    </tr>\n",
       "    <tr>\n",
       "      <th>2016-02-02</th>\n",
       "      <td>93.970098</td>\n",
       "      <td>NaN</td>\n",
       "      <td>764.650024</td>\n",
       "      <td>52.622178</td>\n",
       "    </tr>\n",
       "    <tr>\n",
       "      <th>2016-02-03</th>\n",
       "      <td>95.830001</td>\n",
       "      <td>NaN</td>\n",
       "      <td>726.950012</td>\n",
       "      <td>51.788166</td>\n",
       "    </tr>\n",
       "    <tr>\n",
       "      <th>2016-02-04</th>\n",
       "      <td>96.599998</td>\n",
       "      <td>NaN</td>\n",
       "      <td>708.010010</td>\n",
       "      <td>51.629307</td>\n",
       "    </tr>\n",
       "    <tr>\n",
       "      <th>2016-02-05</th>\n",
       "      <td>94.019997</td>\n",
       "      <td>NaN</td>\n",
       "      <td>683.570007</td>\n",
       "      <td>49.802423</td>\n",
       "    </tr>\n",
       "    <tr>\n",
       "      <th>2016-02-08</th>\n",
       "      <td>95.010002</td>\n",
       "      <td>NaN</td>\n",
       "      <td>682.739990</td>\n",
       "      <td>49.057770</td>\n",
       "    </tr>\n",
       "    <tr>\n",
       "      <th>2016-02-09</th>\n",
       "      <td>94.989998</td>\n",
       "      <td>NaN</td>\n",
       "      <td>678.109985</td>\n",
       "      <td>48.928696</td>\n",
       "    </tr>\n",
       "    <tr>\n",
       "      <th>2016-02-10</th>\n",
       "      <td>94.269997</td>\n",
       "      <td>NaN</td>\n",
       "      <td>684.119995</td>\n",
       "      <td>49.355631</td>\n",
       "    </tr>\n",
       "    <tr>\n",
       "      <th>2016-02-11</th>\n",
       "      <td>93.699997</td>\n",
       "      <td>NaN</td>\n",
       "      <td>683.109985</td>\n",
       "      <td>49.335773</td>\n",
       "    </tr>\n",
       "    <tr>\n",
       "      <th>2016-02-12</th>\n",
       "      <td>93.989998</td>\n",
       "      <td>NaN</td>\n",
       "      <td>682.400024</td>\n",
       "      <td>50.140000</td>\n",
       "    </tr>\n",
       "    <tr>\n",
       "      <th>2016-02-16</th>\n",
       "      <td>96.639999</td>\n",
       "      <td>NaN</td>\n",
       "      <td>691.000000</td>\n",
       "      <td>51.090000</td>\n",
       "    </tr>\n",
       "    <tr>\n",
       "      <th>2016-02-17</th>\n",
       "      <td>98.120003</td>\n",
       "      <td>NaN</td>\n",
       "      <td>708.400024</td>\n",
       "      <td>52.419998</td>\n",
       "    </tr>\n",
       "    <tr>\n",
       "      <th>2016-02-18</th>\n",
       "      <td>96.260002</td>\n",
       "      <td>NaN</td>\n",
       "      <td>697.349976</td>\n",
       "      <td>52.189999</td>\n",
       "    </tr>\n",
       "    <tr>\n",
       "      <th>2016-02-19</th>\n",
       "      <td>96.040001</td>\n",
       "      <td>NaN</td>\n",
       "      <td>700.909973</td>\n",
       "      <td>51.820000</td>\n",
       "    </tr>\n",
       "    <tr>\n",
       "      <th>2016-02-22</th>\n",
       "      <td>96.879997</td>\n",
       "      <td>NaN</td>\n",
       "      <td>706.460022</td>\n",
       "      <td>52.650002</td>\n",
       "    </tr>\n",
       "    <tr>\n",
       "      <th>2016-02-23</th>\n",
       "      <td>94.690002</td>\n",
       "      <td>NaN</td>\n",
       "      <td>695.849976</td>\n",
       "      <td>51.180000</td>\n",
       "    </tr>\n",
       "    <tr>\n",
       "      <th>2016-02-24</th>\n",
       "      <td>96.099998</td>\n",
       "      <td>NaN</td>\n",
       "      <td>699.559998</td>\n",
       "      <td>51.360001</td>\n",
       "    </tr>\n",
       "    <tr>\n",
       "      <th>2016-02-25</th>\n",
       "      <td>96.760002</td>\n",
       "      <td>NaN</td>\n",
       "      <td>705.750000</td>\n",
       "      <td>52.099998</td>\n",
       "    </tr>\n",
       "    <tr>\n",
       "      <th>2016-02-26</th>\n",
       "      <td>96.910004</td>\n",
       "      <td>NaN</td>\n",
       "      <td>705.070007</td>\n",
       "      <td>51.299999</td>\n",
       "    </tr>\n",
       "    <tr>\n",
       "      <th>2016-02-29</th>\n",
       "      <td>96.690002</td>\n",
       "      <td>NaN</td>\n",
       "      <td>697.770020</td>\n",
       "      <td>50.880001</td>\n",
       "    </tr>\n",
       "    <tr>\n",
       "      <th>2016-03-01</th>\n",
       "      <td>100.529999</td>\n",
       "      <td>NaN</td>\n",
       "      <td>718.809998</td>\n",
       "      <td>52.580002</td>\n",
       "    </tr>\n",
       "    <tr>\n",
       "      <th>2016-03-02</th>\n",
       "      <td>100.750000</td>\n",
       "      <td>NaN</td>\n",
       "      <td>718.849976</td>\n",
       "      <td>52.950001</td>\n",
       "    </tr>\n",
       "    <tr>\n",
       "      <th>2016-03-03</th>\n",
       "      <td>101.500000</td>\n",
       "      <td>NaN</td>\n",
       "      <td>712.419983</td>\n",
       "      <td>52.349998</td>\n",
       "    </tr>\n",
       "    <tr>\n",
       "      <th>2016-03-04</th>\n",
       "      <td>103.010002</td>\n",
       "      <td>NaN</td>\n",
       "      <td>710.890015</td>\n",
       "      <td>52.029999</td>\n",
       "    </tr>\n",
       "    <tr>\n",
       "      <th>2016-03-07</th>\n",
       "      <td>101.870003</td>\n",
       "      <td>NaN</td>\n",
       "      <td>695.159973</td>\n",
       "      <td>51.029999</td>\n",
       "    </tr>\n",
       "  </tbody>\n",
       "</table>\n",
       "<p>1574 rows × 4 columns</p>\n",
       "</div>"
      ],
      "text/plain": [
       "                  AAPL      DELL        GOOG       MSFT\n",
       "Date                                                   \n",
       "2010-01-04   28.313195  14.06528  313.062468  26.227603\n",
       "2010-01-05   28.362145  14.38450  311.683844  26.236076\n",
       "2010-01-06   27.911008  14.10397  303.826685  26.075067\n",
       "2010-01-07   27.859412  14.23940  296.753749  25.803894\n",
       "2010-01-08   28.044630  14.36516  300.709808  25.981851\n",
       "2010-01-11   27.797232  14.37483  300.255255  25.651358\n",
       "2010-01-12   27.481038  14.56830  294.945572  25.481874\n",
       "2010-01-13   27.868673  14.57797  293.252243  25.719151\n",
       "2010-01-14   27.707269  14.22005  294.630868  26.236076\n",
       "2010-01-15   27.244224  13.92985  289.710772  26.151335\n",
       "2010-01-19   28.449462  14.32646  293.516976  26.354715\n",
       "2010-01-20   28.011555  14.03626  289.915587  25.922532\n",
       "2010-01-21   27.527342  13.92017  291.199286  25.431029\n",
       "2010-01-22   26.162022  13.18982  274.730736  24.541239\n",
       "2010-01-25   26.865850  13.43650  269.730740  24.846310\n",
       "2010-01-26   27.245547  13.13662  270.939526  24.998845\n",
       "2010-01-27   27.502206  13.08825  270.779695  25.142907\n",
       "2010-01-28   26.365761  12.84641  266.878565  24.710723\n",
       "2010-01-29   25.409244  12.47882  264.705742  23.880253\n",
       "2010-02-01   25.762481  12.78837  266.244198  24.075159\n",
       "2010-02-02   25.911978  12.86576  265.295156  24.117529\n",
       "2010-02-03   26.357823  12.92380  270.140309  24.261591\n",
       "2010-02-04   25.407921  12.58523  263.127321  23.592131\n",
       "2010-02-05   25.859059  12.80772  265.380075  23.744666\n",
       "2010-02-08   25.681779  12.95282  266.468996  23.490440\n",
       "2010-02-09   25.955637  13.10760  267.952522  23.736192\n",
       "2010-02-10   25.814078  13.30107  266.958496  23.719243\n",
       "2010-02-11   26.283736  13.49454  267.932539  23.829409\n",
       "2010-02-12   26.509966  13.38813  266.294170  23.668399\n",
       "2010-02-16   26.909508  13.67834  270.380071  24.136659\n",
       "...                ...       ...         ...        ...\n",
       "2016-01-25   98.903329       NaN  711.669983  51.420805\n",
       "2016-01-26   99.450356       NaN  713.039978  51.798093\n",
       "2016-01-27   92.915814       NaN  699.989990  50.854868\n",
       "2016-01-28   93.582196       NaN  730.960022  51.688880\n",
       "2016-01-29   96.814656       NaN  742.950012  54.697279\n",
       "2016-02-01   95.909571       NaN  752.000000  54.319987\n",
       "2016-02-02   93.970098       NaN  764.650024  52.622178\n",
       "2016-02-03   95.830001       NaN  726.950012  51.788166\n",
       "2016-02-04   96.599998       NaN  708.010010  51.629307\n",
       "2016-02-05   94.019997       NaN  683.570007  49.802423\n",
       "2016-02-08   95.010002       NaN  682.739990  49.057770\n",
       "2016-02-09   94.989998       NaN  678.109985  48.928696\n",
       "2016-02-10   94.269997       NaN  684.119995  49.355631\n",
       "2016-02-11   93.699997       NaN  683.109985  49.335773\n",
       "2016-02-12   93.989998       NaN  682.400024  50.140000\n",
       "2016-02-16   96.639999       NaN  691.000000  51.090000\n",
       "2016-02-17   98.120003       NaN  708.400024  52.419998\n",
       "2016-02-18   96.260002       NaN  697.349976  52.189999\n",
       "2016-02-19   96.040001       NaN  700.909973  51.820000\n",
       "2016-02-22   96.879997       NaN  706.460022  52.650002\n",
       "2016-02-23   94.690002       NaN  695.849976  51.180000\n",
       "2016-02-24   96.099998       NaN  699.559998  51.360001\n",
       "2016-02-25   96.760002       NaN  705.750000  52.099998\n",
       "2016-02-26   96.910004       NaN  705.070007  51.299999\n",
       "2016-02-29   96.690002       NaN  697.770020  50.880001\n",
       "2016-03-01  100.529999       NaN  718.809998  52.580002\n",
       "2016-03-02  100.750000       NaN  718.849976  52.950001\n",
       "2016-03-03  101.500000       NaN  712.419983  52.349998\n",
       "2016-03-04  103.010002       NaN  710.890015  52.029999\n",
       "2016-03-07  101.870003       NaN  695.159973  51.029999\n",
       "\n",
       "[1574 rows x 4 columns]"
      ]
     },
     "execution_count": 186,
     "metadata": {},
     "output_type": "execute_result"
    }
   ],
   "source": [
    "pdata['Adj Close']"
   ]
  },
  {
   "cell_type": "code",
   "execution_count": 187,
   "metadata": {
    "collapsed": false
   },
   "outputs": [
    {
     "data": {
      "text/html": [
       "<div>\n",
       "<table border=\"1\" class=\"dataframe\">\n",
       "  <thead>\n",
       "    <tr style=\"text-align: right;\">\n",
       "      <th></th>\n",
       "      <th>Open</th>\n",
       "      <th>High</th>\n",
       "      <th>Low</th>\n",
       "      <th>Close</th>\n",
       "      <th>Volume</th>\n",
       "      <th>Adj Close</th>\n",
       "    </tr>\n",
       "  </thead>\n",
       "  <tbody>\n",
       "    <tr>\n",
       "      <th>AAPL</th>\n",
       "      <td>569.159996</td>\n",
       "      <td>572.650009</td>\n",
       "      <td>560.520012</td>\n",
       "      <td>560.989983</td>\n",
       "      <td>130246900</td>\n",
       "      <td>74.218116</td>\n",
       "    </tr>\n",
       "    <tr>\n",
       "      <th>DELL</th>\n",
       "      <td>12.150000</td>\n",
       "      <td>12.300000</td>\n",
       "      <td>12.045000</td>\n",
       "      <td>12.070000</td>\n",
       "      <td>19397600</td>\n",
       "      <td>11.675920</td>\n",
       "    </tr>\n",
       "    <tr>\n",
       "      <th>GOOG</th>\n",
       "      <td>571.790972</td>\n",
       "      <td>572.650996</td>\n",
       "      <td>568.350996</td>\n",
       "      <td>570.981000</td>\n",
       "      <td>6138700</td>\n",
       "      <td>285.205295</td>\n",
       "    </tr>\n",
       "    <tr>\n",
       "      <th>MSFT</th>\n",
       "      <td>28.760000</td>\n",
       "      <td>28.959999</td>\n",
       "      <td>28.440001</td>\n",
       "      <td>28.450001</td>\n",
       "      <td>56634300</td>\n",
       "      <td>25.598227</td>\n",
       "    </tr>\n",
       "  </tbody>\n",
       "</table>\n",
       "</div>"
      ],
      "text/plain": [
       "            Open        High         Low       Close     Volume   Adj Close\n",
       "AAPL  569.159996  572.650009  560.520012  560.989983  130246900   74.218116\n",
       "DELL   12.150000   12.300000   12.045000   12.070000   19397600   11.675920\n",
       "GOOG  571.790972  572.650996  568.350996  570.981000    6138700  285.205295\n",
       "MSFT   28.760000   28.959999   28.440001   28.450001   56634300   25.598227"
      ]
     },
     "execution_count": 187,
     "metadata": {},
     "output_type": "execute_result"
    }
   ],
   "source": [
    "pdata.ix[:, '6/1/2012', :]"
   ]
  },
  {
   "cell_type": "code",
   "execution_count": 188,
   "metadata": {
    "collapsed": false
   },
   "outputs": [
    {
     "data": {
      "text/html": [
       "<div>\n",
       "<table border=\"1\" class=\"dataframe\">\n",
       "  <thead>\n",
       "    <tr style=\"text-align: right;\">\n",
       "      <th></th>\n",
       "      <th>AAPL</th>\n",
       "      <th>DELL</th>\n",
       "      <th>GOOG</th>\n",
       "      <th>MSFT</th>\n",
       "    </tr>\n",
       "    <tr>\n",
       "      <th>Date</th>\n",
       "      <th></th>\n",
       "      <th></th>\n",
       "      <th></th>\n",
       "      <th></th>\n",
       "    </tr>\n",
       "  </thead>\n",
       "  <tbody>\n",
       "    <tr>\n",
       "      <th>2012-05-22</th>\n",
       "      <td>73.686282</td>\n",
       "      <td>14.58765</td>\n",
       "      <td>300.100412</td>\n",
       "      <td>26.776915</td>\n",
       "    </tr>\n",
       "    <tr>\n",
       "      <th>2012-05-23</th>\n",
       "      <td>75.484211</td>\n",
       "      <td>12.08221</td>\n",
       "      <td>304.426106</td>\n",
       "      <td>26.192070</td>\n",
       "    </tr>\n",
       "    <tr>\n",
       "      <th>2012-05-24</th>\n",
       "      <td>74.790973</td>\n",
       "      <td>12.04351</td>\n",
       "      <td>301.528978</td>\n",
       "      <td>26.156079</td>\n",
       "    </tr>\n",
       "    <tr>\n",
       "      <th>2012-05-25</th>\n",
       "      <td>74.390105</td>\n",
       "      <td>12.05319</td>\n",
       "      <td>295.470050</td>\n",
       "      <td>26.147081</td>\n",
       "    </tr>\n",
       "    <tr>\n",
       "      <th>2012-05-28</th>\n",
       "      <td>NaN</td>\n",
       "      <td>12.05319</td>\n",
       "      <td>NaN</td>\n",
       "      <td>NaN</td>\n",
       "    </tr>\n",
       "    <tr>\n",
       "      <th>2012-05-29</th>\n",
       "      <td>75.710442</td>\n",
       "      <td>12.24666</td>\n",
       "      <td>296.873645</td>\n",
       "      <td>26.596962</td>\n",
       "    </tr>\n",
       "    <tr>\n",
       "      <th>2012-05-30</th>\n",
       "      <td>76.623304</td>\n",
       "      <td>12.14992</td>\n",
       "      <td>293.821674</td>\n",
       "      <td>26.399015</td>\n",
       "    </tr>\n",
       "    <tr>\n",
       "      <th>2012-05-31</th>\n",
       "      <td>76.432797</td>\n",
       "      <td>11.92743</td>\n",
       "      <td>290.140354</td>\n",
       "      <td>26.264051</td>\n",
       "    </tr>\n",
       "    <tr>\n",
       "      <th>2012-06-01</th>\n",
       "      <td>74.218116</td>\n",
       "      <td>11.67592</td>\n",
       "      <td>285.205295</td>\n",
       "      <td>25.598227</td>\n",
       "    </tr>\n",
       "    <tr>\n",
       "      <th>2012-06-04</th>\n",
       "      <td>74.654700</td>\n",
       "      <td>11.60821</td>\n",
       "      <td>289.006480</td>\n",
       "      <td>25.688202</td>\n",
       "    </tr>\n",
       "    <tr>\n",
       "      <th>2012-06-05</th>\n",
       "      <td>74.461551</td>\n",
       "      <td>11.76298</td>\n",
       "      <td>284.920579</td>\n",
       "      <td>25.652212</td>\n",
       "    </tr>\n",
       "    <tr>\n",
       "      <th>2012-06-06</th>\n",
       "      <td>75.603286</td>\n",
       "      <td>11.81619</td>\n",
       "      <td>289.995487</td>\n",
       "      <td>26.408013</td>\n",
       "    </tr>\n",
       "    <tr>\n",
       "      <th>2012-06-07</th>\n",
       "      <td>75.637681</td>\n",
       "      <td>11.73396</td>\n",
       "      <td>288.826666</td>\n",
       "      <td>26.300040</td>\n",
       "    </tr>\n",
       "    <tr>\n",
       "      <th>2012-06-08</th>\n",
       "      <td>76.775446</td>\n",
       "      <td>11.72429</td>\n",
       "      <td>289.935570</td>\n",
       "      <td>26.677940</td>\n",
       "    </tr>\n",
       "    <tr>\n",
       "      <th>2012-06-11</th>\n",
       "      <td>75.564914</td>\n",
       "      <td>11.47278</td>\n",
       "      <td>283.966519</td>\n",
       "      <td>26.003119</td>\n",
       "    </tr>\n",
       "    <tr>\n",
       "      <th>2012-06-12</th>\n",
       "      <td>76.225086</td>\n",
       "      <td>11.57919</td>\n",
       "      <td>282.268201</td>\n",
       "      <td>26.354027</td>\n",
       "    </tr>\n",
       "    <tr>\n",
       "      <th>2012-06-13</th>\n",
       "      <td>75.695894</td>\n",
       "      <td>11.87423</td>\n",
       "      <td>280.265216</td>\n",
       "      <td>26.210064</td>\n",
       "    </tr>\n",
       "    <tr>\n",
       "      <th>2012-06-14</th>\n",
       "      <td>75.612542</td>\n",
       "      <td>11.93711</td>\n",
       "      <td>279.246220</td>\n",
       "      <td>26.399015</td>\n",
       "    </tr>\n",
       "    <tr>\n",
       "      <th>2012-06-15</th>\n",
       "      <td>75.956519</td>\n",
       "      <td>11.89841</td>\n",
       "      <td>281.973510</td>\n",
       "      <td>27.010853</td>\n",
       "    </tr>\n",
       "    <tr>\n",
       "      <th>2012-06-18</th>\n",
       "      <td>77.497794</td>\n",
       "      <td>12.01449</td>\n",
       "      <td>285.140358</td>\n",
       "      <td>26.848896</td>\n",
       "    </tr>\n",
       "    <tr>\n",
       "      <th>2012-06-19</th>\n",
       "      <td>77.713448</td>\n",
       "      <td>11.78233</td>\n",
       "      <td>290.475012</td>\n",
       "      <td>27.622691</td>\n",
       "    </tr>\n",
       "    <tr>\n",
       "      <th>2012-06-20</th>\n",
       "      <td>77.492502</td>\n",
       "      <td>11.89841</td>\n",
       "      <td>288.467038</td>\n",
       "      <td>27.829636</td>\n",
       "    </tr>\n",
       "    <tr>\n",
       "      <th>2012-06-21</th>\n",
       "      <td>76.424856</td>\n",
       "      <td>11.60821</td>\n",
       "      <td>282.323161</td>\n",
       "      <td>27.118824</td>\n",
       "    </tr>\n",
       "    <tr>\n",
       "      <th>2012-06-22</th>\n",
       "      <td>77.010939</td>\n",
       "      <td>11.80168</td>\n",
       "      <td>285.455033</td>\n",
       "      <td>27.622691</td>\n",
       "    </tr>\n",
       "    <tr>\n",
       "      <th>2012-06-25</th>\n",
       "      <td>75.512000</td>\n",
       "      <td>11.55500</td>\n",
       "      <td>280.070407</td>\n",
       "      <td>26.875889</td>\n",
       "    </tr>\n",
       "    <tr>\n",
       "      <th>2012-06-26</th>\n",
       "      <td>75.678696</td>\n",
       "      <td>11.53565</td>\n",
       "      <td>282.058429</td>\n",
       "      <td>27.010853</td>\n",
       "    </tr>\n",
       "    <tr>\n",
       "      <th>2012-06-27</th>\n",
       "      <td>76.005469</td>\n",
       "      <td>11.92743</td>\n",
       "      <td>284.366112</td>\n",
       "      <td>27.145817</td>\n",
       "    </tr>\n",
       "    <tr>\n",
       "      <th>2012-06-28</th>\n",
       "      <td>75.284441</td>\n",
       "      <td>11.55984</td>\n",
       "      <td>281.873596</td>\n",
       "      <td>26.911879</td>\n",
       "    </tr>\n",
       "    <tr>\n",
       "      <th>2012-06-29</th>\n",
       "      <td>77.262308</td>\n",
       "      <td>12.10155</td>\n",
       "      <td>289.745749</td>\n",
       "      <td>27.523717</td>\n",
       "    </tr>\n",
       "    <tr>\n",
       "      <th>2012-07-02</th>\n",
       "      <td>78.389489</td>\n",
       "      <td>11.98064</td>\n",
       "      <td>289.945546</td>\n",
       "      <td>27.496724</td>\n",
       "    </tr>\n",
       "    <tr>\n",
       "      <th>...</th>\n",
       "      <td>...</td>\n",
       "      <td>...</td>\n",
       "      <td>...</td>\n",
       "      <td>...</td>\n",
       "    </tr>\n",
       "    <tr>\n",
       "      <th>2016-01-25</th>\n",
       "      <td>98.903329</td>\n",
       "      <td>NaN</td>\n",
       "      <td>711.669983</td>\n",
       "      <td>51.420805</td>\n",
       "    </tr>\n",
       "    <tr>\n",
       "      <th>2016-01-26</th>\n",
       "      <td>99.450356</td>\n",
       "      <td>NaN</td>\n",
       "      <td>713.039978</td>\n",
       "      <td>51.798093</td>\n",
       "    </tr>\n",
       "    <tr>\n",
       "      <th>2016-01-27</th>\n",
       "      <td>92.915814</td>\n",
       "      <td>NaN</td>\n",
       "      <td>699.989990</td>\n",
       "      <td>50.854868</td>\n",
       "    </tr>\n",
       "    <tr>\n",
       "      <th>2016-01-28</th>\n",
       "      <td>93.582196</td>\n",
       "      <td>NaN</td>\n",
       "      <td>730.960022</td>\n",
       "      <td>51.688880</td>\n",
       "    </tr>\n",
       "    <tr>\n",
       "      <th>2016-01-29</th>\n",
       "      <td>96.814656</td>\n",
       "      <td>NaN</td>\n",
       "      <td>742.950012</td>\n",
       "      <td>54.697279</td>\n",
       "    </tr>\n",
       "    <tr>\n",
       "      <th>2016-02-01</th>\n",
       "      <td>95.909571</td>\n",
       "      <td>NaN</td>\n",
       "      <td>752.000000</td>\n",
       "      <td>54.319987</td>\n",
       "    </tr>\n",
       "    <tr>\n",
       "      <th>2016-02-02</th>\n",
       "      <td>93.970098</td>\n",
       "      <td>NaN</td>\n",
       "      <td>764.650024</td>\n",
       "      <td>52.622178</td>\n",
       "    </tr>\n",
       "    <tr>\n",
       "      <th>2016-02-03</th>\n",
       "      <td>95.830001</td>\n",
       "      <td>NaN</td>\n",
       "      <td>726.950012</td>\n",
       "      <td>51.788166</td>\n",
       "    </tr>\n",
       "    <tr>\n",
       "      <th>2016-02-04</th>\n",
       "      <td>96.599998</td>\n",
       "      <td>NaN</td>\n",
       "      <td>708.010010</td>\n",
       "      <td>51.629307</td>\n",
       "    </tr>\n",
       "    <tr>\n",
       "      <th>2016-02-05</th>\n",
       "      <td>94.019997</td>\n",
       "      <td>NaN</td>\n",
       "      <td>683.570007</td>\n",
       "      <td>49.802423</td>\n",
       "    </tr>\n",
       "    <tr>\n",
       "      <th>2016-02-08</th>\n",
       "      <td>95.010002</td>\n",
       "      <td>NaN</td>\n",
       "      <td>682.739990</td>\n",
       "      <td>49.057770</td>\n",
       "    </tr>\n",
       "    <tr>\n",
       "      <th>2016-02-09</th>\n",
       "      <td>94.989998</td>\n",
       "      <td>NaN</td>\n",
       "      <td>678.109985</td>\n",
       "      <td>48.928696</td>\n",
       "    </tr>\n",
       "    <tr>\n",
       "      <th>2016-02-10</th>\n",
       "      <td>94.269997</td>\n",
       "      <td>NaN</td>\n",
       "      <td>684.119995</td>\n",
       "      <td>49.355631</td>\n",
       "    </tr>\n",
       "    <tr>\n",
       "      <th>2016-02-11</th>\n",
       "      <td>93.699997</td>\n",
       "      <td>NaN</td>\n",
       "      <td>683.109985</td>\n",
       "      <td>49.335773</td>\n",
       "    </tr>\n",
       "    <tr>\n",
       "      <th>2016-02-12</th>\n",
       "      <td>93.989998</td>\n",
       "      <td>NaN</td>\n",
       "      <td>682.400024</td>\n",
       "      <td>50.140000</td>\n",
       "    </tr>\n",
       "    <tr>\n",
       "      <th>2016-02-16</th>\n",
       "      <td>96.639999</td>\n",
       "      <td>NaN</td>\n",
       "      <td>691.000000</td>\n",
       "      <td>51.090000</td>\n",
       "    </tr>\n",
       "    <tr>\n",
       "      <th>2016-02-17</th>\n",
       "      <td>98.120003</td>\n",
       "      <td>NaN</td>\n",
       "      <td>708.400024</td>\n",
       "      <td>52.419998</td>\n",
       "    </tr>\n",
       "    <tr>\n",
       "      <th>2016-02-18</th>\n",
       "      <td>96.260002</td>\n",
       "      <td>NaN</td>\n",
       "      <td>697.349976</td>\n",
       "      <td>52.189999</td>\n",
       "    </tr>\n",
       "    <tr>\n",
       "      <th>2016-02-19</th>\n",
       "      <td>96.040001</td>\n",
       "      <td>NaN</td>\n",
       "      <td>700.909973</td>\n",
       "      <td>51.820000</td>\n",
       "    </tr>\n",
       "    <tr>\n",
       "      <th>2016-02-22</th>\n",
       "      <td>96.879997</td>\n",
       "      <td>NaN</td>\n",
       "      <td>706.460022</td>\n",
       "      <td>52.650002</td>\n",
       "    </tr>\n",
       "    <tr>\n",
       "      <th>2016-02-23</th>\n",
       "      <td>94.690002</td>\n",
       "      <td>NaN</td>\n",
       "      <td>695.849976</td>\n",
       "      <td>51.180000</td>\n",
       "    </tr>\n",
       "    <tr>\n",
       "      <th>2016-02-24</th>\n",
       "      <td>96.099998</td>\n",
       "      <td>NaN</td>\n",
       "      <td>699.559998</td>\n",
       "      <td>51.360001</td>\n",
       "    </tr>\n",
       "    <tr>\n",
       "      <th>2016-02-25</th>\n",
       "      <td>96.760002</td>\n",
       "      <td>NaN</td>\n",
       "      <td>705.750000</td>\n",
       "      <td>52.099998</td>\n",
       "    </tr>\n",
       "    <tr>\n",
       "      <th>2016-02-26</th>\n",
       "      <td>96.910004</td>\n",
       "      <td>NaN</td>\n",
       "      <td>705.070007</td>\n",
       "      <td>51.299999</td>\n",
       "    </tr>\n",
       "    <tr>\n",
       "      <th>2016-02-29</th>\n",
       "      <td>96.690002</td>\n",
       "      <td>NaN</td>\n",
       "      <td>697.770020</td>\n",
       "      <td>50.880001</td>\n",
       "    </tr>\n",
       "    <tr>\n",
       "      <th>2016-03-01</th>\n",
       "      <td>100.529999</td>\n",
       "      <td>NaN</td>\n",
       "      <td>718.809998</td>\n",
       "      <td>52.580002</td>\n",
       "    </tr>\n",
       "    <tr>\n",
       "      <th>2016-03-02</th>\n",
       "      <td>100.750000</td>\n",
       "      <td>NaN</td>\n",
       "      <td>718.849976</td>\n",
       "      <td>52.950001</td>\n",
       "    </tr>\n",
       "    <tr>\n",
       "      <th>2016-03-03</th>\n",
       "      <td>101.500000</td>\n",
       "      <td>NaN</td>\n",
       "      <td>712.419983</td>\n",
       "      <td>52.349998</td>\n",
       "    </tr>\n",
       "    <tr>\n",
       "      <th>2016-03-04</th>\n",
       "      <td>103.010002</td>\n",
       "      <td>NaN</td>\n",
       "      <td>710.890015</td>\n",
       "      <td>52.029999</td>\n",
       "    </tr>\n",
       "    <tr>\n",
       "      <th>2016-03-07</th>\n",
       "      <td>101.870003</td>\n",
       "      <td>NaN</td>\n",
       "      <td>695.159973</td>\n",
       "      <td>51.029999</td>\n",
       "    </tr>\n",
       "  </tbody>\n",
       "</table>\n",
       "<p>967 rows × 4 columns</p>\n",
       "</div>"
      ],
      "text/plain": [
       "                  AAPL      DELL        GOOG       MSFT\n",
       "Date                                                   \n",
       "2012-05-22   73.686282  14.58765  300.100412  26.776915\n",
       "2012-05-23   75.484211  12.08221  304.426106  26.192070\n",
       "2012-05-24   74.790973  12.04351  301.528978  26.156079\n",
       "2012-05-25   74.390105  12.05319  295.470050  26.147081\n",
       "2012-05-28         NaN  12.05319         NaN        NaN\n",
       "2012-05-29   75.710442  12.24666  296.873645  26.596962\n",
       "2012-05-30   76.623304  12.14992  293.821674  26.399015\n",
       "2012-05-31   76.432797  11.92743  290.140354  26.264051\n",
       "2012-06-01   74.218116  11.67592  285.205295  25.598227\n",
       "2012-06-04   74.654700  11.60821  289.006480  25.688202\n",
       "2012-06-05   74.461551  11.76298  284.920579  25.652212\n",
       "2012-06-06   75.603286  11.81619  289.995487  26.408013\n",
       "2012-06-07   75.637681  11.73396  288.826666  26.300040\n",
       "2012-06-08   76.775446  11.72429  289.935570  26.677940\n",
       "2012-06-11   75.564914  11.47278  283.966519  26.003119\n",
       "2012-06-12   76.225086  11.57919  282.268201  26.354027\n",
       "2012-06-13   75.695894  11.87423  280.265216  26.210064\n",
       "2012-06-14   75.612542  11.93711  279.246220  26.399015\n",
       "2012-06-15   75.956519  11.89841  281.973510  27.010853\n",
       "2012-06-18   77.497794  12.01449  285.140358  26.848896\n",
       "2012-06-19   77.713448  11.78233  290.475012  27.622691\n",
       "2012-06-20   77.492502  11.89841  288.467038  27.829636\n",
       "2012-06-21   76.424856  11.60821  282.323161  27.118824\n",
       "2012-06-22   77.010939  11.80168  285.455033  27.622691\n",
       "2012-06-25   75.512000  11.55500  280.070407  26.875889\n",
       "2012-06-26   75.678696  11.53565  282.058429  27.010853\n",
       "2012-06-27   76.005469  11.92743  284.366112  27.145817\n",
       "2012-06-28   75.284441  11.55984  281.873596  26.911879\n",
       "2012-06-29   77.262308  12.10155  289.745749  27.523717\n",
       "2012-07-02   78.389489  11.98064  289.945546  27.496724\n",
       "...                ...       ...         ...        ...\n",
       "2016-01-25   98.903329       NaN  711.669983  51.420805\n",
       "2016-01-26   99.450356       NaN  713.039978  51.798093\n",
       "2016-01-27   92.915814       NaN  699.989990  50.854868\n",
       "2016-01-28   93.582196       NaN  730.960022  51.688880\n",
       "2016-01-29   96.814656       NaN  742.950012  54.697279\n",
       "2016-02-01   95.909571       NaN  752.000000  54.319987\n",
       "2016-02-02   93.970098       NaN  764.650024  52.622178\n",
       "2016-02-03   95.830001       NaN  726.950012  51.788166\n",
       "2016-02-04   96.599998       NaN  708.010010  51.629307\n",
       "2016-02-05   94.019997       NaN  683.570007  49.802423\n",
       "2016-02-08   95.010002       NaN  682.739990  49.057770\n",
       "2016-02-09   94.989998       NaN  678.109985  48.928696\n",
       "2016-02-10   94.269997       NaN  684.119995  49.355631\n",
       "2016-02-11   93.699997       NaN  683.109985  49.335773\n",
       "2016-02-12   93.989998       NaN  682.400024  50.140000\n",
       "2016-02-16   96.639999       NaN  691.000000  51.090000\n",
       "2016-02-17   98.120003       NaN  708.400024  52.419998\n",
       "2016-02-18   96.260002       NaN  697.349976  52.189999\n",
       "2016-02-19   96.040001       NaN  700.909973  51.820000\n",
       "2016-02-22   96.879997       NaN  706.460022  52.650002\n",
       "2016-02-23   94.690002       NaN  695.849976  51.180000\n",
       "2016-02-24   96.099998       NaN  699.559998  51.360001\n",
       "2016-02-25   96.760002       NaN  705.750000  52.099998\n",
       "2016-02-26   96.910004       NaN  705.070007  51.299999\n",
       "2016-02-29   96.690002       NaN  697.770020  50.880001\n",
       "2016-03-01  100.529999       NaN  718.809998  52.580002\n",
       "2016-03-02  100.750000       NaN  718.849976  52.950001\n",
       "2016-03-03  101.500000       NaN  712.419983  52.349998\n",
       "2016-03-04  103.010002       NaN  710.890015  52.029999\n",
       "2016-03-07  101.870003       NaN  695.159973  51.029999\n",
       "\n",
       "[967 rows x 4 columns]"
      ]
     },
     "execution_count": 188,
     "metadata": {},
     "output_type": "execute_result"
    }
   ],
   "source": [
    "pdata.ix['Adj Close', '5/22/2012':, :]"
   ]
  },
  {
   "cell_type": "code",
   "execution_count": 190,
   "metadata": {
    "collapsed": false
   },
   "outputs": [
    {
     "data": {
      "text/html": [
       "<div>\n",
       "<table border=\"1\" class=\"dataframe\">\n",
       "  <thead>\n",
       "    <tr style=\"text-align: right;\">\n",
       "      <th></th>\n",
       "      <th></th>\n",
       "      <th>Open</th>\n",
       "      <th>High</th>\n",
       "      <th>Low</th>\n",
       "      <th>Close</th>\n",
       "      <th>Volume</th>\n",
       "      <th>Adj Close</th>\n",
       "    </tr>\n",
       "    <tr>\n",
       "      <th>Date</th>\n",
       "      <th>minor</th>\n",
       "      <th></th>\n",
       "      <th></th>\n",
       "      <th></th>\n",
       "      <th></th>\n",
       "      <th></th>\n",
       "      <th></th>\n",
       "    </tr>\n",
       "  </thead>\n",
       "  <tbody>\n",
       "    <tr>\n",
       "      <th rowspan=\"4\" valign=\"top\">2012-05-30</th>\n",
       "      <th>AAPL</th>\n",
       "      <td>569.199997</td>\n",
       "      <td>579.989990</td>\n",
       "      <td>566.559990</td>\n",
       "      <td>579.169998</td>\n",
       "      <td>132357400</td>\n",
       "      <td>76.623304</td>\n",
       "    </tr>\n",
       "    <tr>\n",
       "      <th>DELL</th>\n",
       "      <td>12.590000</td>\n",
       "      <td>12.700000</td>\n",
       "      <td>12.460000</td>\n",
       "      <td>12.560000</td>\n",
       "      <td>19787800</td>\n",
       "      <td>12.149920</td>\n",
       "    </tr>\n",
       "    <tr>\n",
       "      <th>GOOG</th>\n",
       "      <td>588.161028</td>\n",
       "      <td>591.901014</td>\n",
       "      <td>583.530999</td>\n",
       "      <td>588.230992</td>\n",
       "      <td>3827600</td>\n",
       "      <td>293.821674</td>\n",
       "    </tr>\n",
       "    <tr>\n",
       "      <th>MSFT</th>\n",
       "      <td>29.350000</td>\n",
       "      <td>29.480000</td>\n",
       "      <td>29.120001</td>\n",
       "      <td>29.340000</td>\n",
       "      <td>41585500</td>\n",
       "      <td>26.399015</td>\n",
       "    </tr>\n",
       "    <tr>\n",
       "      <th rowspan=\"4\" valign=\"top\">2012-05-31</th>\n",
       "      <th>AAPL</th>\n",
       "      <td>580.740021</td>\n",
       "      <td>581.499985</td>\n",
       "      <td>571.460022</td>\n",
       "      <td>577.730019</td>\n",
       "      <td>122918600</td>\n",
       "      <td>76.432797</td>\n",
       "    </tr>\n",
       "    <tr>\n",
       "      <th>DELL</th>\n",
       "      <td>12.530000</td>\n",
       "      <td>12.540000</td>\n",
       "      <td>12.330000</td>\n",
       "      <td>12.330000</td>\n",
       "      <td>19955600</td>\n",
       "      <td>11.927430</td>\n",
       "    </tr>\n",
       "    <tr>\n",
       "      <th>GOOG</th>\n",
       "      <td>588.720982</td>\n",
       "      <td>590.001032</td>\n",
       "      <td>579.001013</td>\n",
       "      <td>580.860990</td>\n",
       "      <td>5958800</td>\n",
       "      <td>290.140354</td>\n",
       "    </tr>\n",
       "    <tr>\n",
       "      <th>MSFT</th>\n",
       "      <td>29.299999</td>\n",
       "      <td>29.420000</td>\n",
       "      <td>28.940001</td>\n",
       "      <td>29.190001</td>\n",
       "      <td>39134000</td>\n",
       "      <td>26.264051</td>\n",
       "    </tr>\n",
       "    <tr>\n",
       "      <th rowspan=\"4\" valign=\"top\">2012-06-01</th>\n",
       "      <th>AAPL</th>\n",
       "      <td>569.159996</td>\n",
       "      <td>572.650009</td>\n",
       "      <td>560.520012</td>\n",
       "      <td>560.989983</td>\n",
       "      <td>130246900</td>\n",
       "      <td>74.218116</td>\n",
       "    </tr>\n",
       "    <tr>\n",
       "      <th>DELL</th>\n",
       "      <td>12.150000</td>\n",
       "      <td>12.300000</td>\n",
       "      <td>12.045000</td>\n",
       "      <td>12.070000</td>\n",
       "      <td>19397600</td>\n",
       "      <td>11.675920</td>\n",
       "    </tr>\n",
       "    <tr>\n",
       "      <th>GOOG</th>\n",
       "      <td>571.790972</td>\n",
       "      <td>572.650996</td>\n",
       "      <td>568.350996</td>\n",
       "      <td>570.981000</td>\n",
       "      <td>6138700</td>\n",
       "      <td>285.205295</td>\n",
       "    </tr>\n",
       "    <tr>\n",
       "      <th>MSFT</th>\n",
       "      <td>28.760000</td>\n",
       "      <td>28.959999</td>\n",
       "      <td>28.440001</td>\n",
       "      <td>28.450001</td>\n",
       "      <td>56634300</td>\n",
       "      <td>25.598227</td>\n",
       "    </tr>\n",
       "    <tr>\n",
       "      <th rowspan=\"4\" valign=\"top\">2012-06-04</th>\n",
       "      <th>AAPL</th>\n",
       "      <td>561.500008</td>\n",
       "      <td>567.499985</td>\n",
       "      <td>548.499977</td>\n",
       "      <td>564.289978</td>\n",
       "      <td>139248900</td>\n",
       "      <td>74.654700</td>\n",
       "    </tr>\n",
       "    <tr>\n",
       "      <th>DELL</th>\n",
       "      <td>12.110000</td>\n",
       "      <td>12.112500</td>\n",
       "      <td>11.800000</td>\n",
       "      <td>12.000000</td>\n",
       "      <td>17015700</td>\n",
       "      <td>11.608210</td>\n",
       "    </tr>\n",
       "    <tr>\n",
       "      <th>GOOG</th>\n",
       "      <td>570.220958</td>\n",
       "      <td>580.491016</td>\n",
       "      <td>570.011006</td>\n",
       "      <td>578.590973</td>\n",
       "      <td>4883500</td>\n",
       "      <td>289.006480</td>\n",
       "    </tr>\n",
       "    <tr>\n",
       "      <th>MSFT</th>\n",
       "      <td>28.620001</td>\n",
       "      <td>28.780001</td>\n",
       "      <td>28.320000</td>\n",
       "      <td>28.549999</td>\n",
       "      <td>47926300</td>\n",
       "      <td>25.688202</td>\n",
       "    </tr>\n",
       "    <tr>\n",
       "      <th rowspan=\"4\" valign=\"top\">2012-06-05</th>\n",
       "      <th>AAPL</th>\n",
       "      <td>561.269989</td>\n",
       "      <td>566.470001</td>\n",
       "      <td>558.330002</td>\n",
       "      <td>562.830025</td>\n",
       "      <td>97053600</td>\n",
       "      <td>74.461551</td>\n",
       "    </tr>\n",
       "    <tr>\n",
       "      <th>DELL</th>\n",
       "      <td>11.950000</td>\n",
       "      <td>12.240000</td>\n",
       "      <td>11.950000</td>\n",
       "      <td>12.160000</td>\n",
       "      <td>15620900</td>\n",
       "      <td>11.762980</td>\n",
       "    </tr>\n",
       "    <tr>\n",
       "      <th>GOOG</th>\n",
       "      <td>575.451008</td>\n",
       "      <td>578.131003</td>\n",
       "      <td>566.470986</td>\n",
       "      <td>570.410999</td>\n",
       "      <td>4697200</td>\n",
       "      <td>284.920579</td>\n",
       "    </tr>\n",
       "    <tr>\n",
       "      <th>MSFT</th>\n",
       "      <td>28.510000</td>\n",
       "      <td>28.750000</td>\n",
       "      <td>28.389999</td>\n",
       "      <td>28.510000</td>\n",
       "      <td>45715400</td>\n",
       "      <td>25.652212</td>\n",
       "    </tr>\n",
       "    <tr>\n",
       "      <th rowspan=\"4\" valign=\"top\">2012-06-06</th>\n",
       "      <th>AAPL</th>\n",
       "      <td>567.770004</td>\n",
       "      <td>573.849983</td>\n",
       "      <td>565.499992</td>\n",
       "      <td>571.460022</td>\n",
       "      <td>100363900</td>\n",
       "      <td>75.603286</td>\n",
       "    </tr>\n",
       "    <tr>\n",
       "      <th>DELL</th>\n",
       "      <td>12.210000</td>\n",
       "      <td>12.280000</td>\n",
       "      <td>12.090000</td>\n",
       "      <td>12.215000</td>\n",
       "      <td>20779900</td>\n",
       "      <td>11.816190</td>\n",
       "    </tr>\n",
       "    <tr>\n",
       "      <th>GOOG</th>\n",
       "      <td>576.480979</td>\n",
       "      <td>581.970971</td>\n",
       "      <td>573.611004</td>\n",
       "      <td>580.570966</td>\n",
       "      <td>4207200</td>\n",
       "      <td>289.995487</td>\n",
       "    </tr>\n",
       "    <tr>\n",
       "      <th>MSFT</th>\n",
       "      <td>28.879999</td>\n",
       "      <td>29.370001</td>\n",
       "      <td>28.809999</td>\n",
       "      <td>29.350000</td>\n",
       "      <td>46860500</td>\n",
       "      <td>26.408013</td>\n",
       "    </tr>\n",
       "    <tr>\n",
       "      <th rowspan=\"4\" valign=\"top\">2012-06-07</th>\n",
       "      <th>AAPL</th>\n",
       "      <td>577.290009</td>\n",
       "      <td>577.320023</td>\n",
       "      <td>570.500000</td>\n",
       "      <td>571.720001</td>\n",
       "      <td>94941700</td>\n",
       "      <td>75.637681</td>\n",
       "    </tr>\n",
       "    <tr>\n",
       "      <th>DELL</th>\n",
       "      <td>12.320000</td>\n",
       "      <td>12.410000</td>\n",
       "      <td>12.120000</td>\n",
       "      <td>12.130000</td>\n",
       "      <td>20074000</td>\n",
       "      <td>11.733960</td>\n",
       "    </tr>\n",
       "    <tr>\n",
       "      <th>GOOG</th>\n",
       "      <td>587.601014</td>\n",
       "      <td>587.891038</td>\n",
       "      <td>577.251006</td>\n",
       "      <td>578.230986</td>\n",
       "      <td>3530100</td>\n",
       "      <td>288.826666</td>\n",
       "    </tr>\n",
       "    <tr>\n",
       "      <th>MSFT</th>\n",
       "      <td>29.639999</td>\n",
       "      <td>29.700001</td>\n",
       "      <td>29.170000</td>\n",
       "      <td>29.230000</td>\n",
       "      <td>37792800</td>\n",
       "      <td>26.300040</td>\n",
       "    </tr>\n",
       "    <tr>\n",
       "      <th rowspan=\"2\" valign=\"top\">2012-06-08</th>\n",
       "      <th>AAPL</th>\n",
       "      <td>571.599998</td>\n",
       "      <td>580.580017</td>\n",
       "      <td>568.999992</td>\n",
       "      <td>580.319984</td>\n",
       "      <td>86879100</td>\n",
       "      <td>76.775446</td>\n",
       "    </tr>\n",
       "    <tr>\n",
       "      <th>DELL</th>\n",
       "      <td>12.130000</td>\n",
       "      <td>12.225000</td>\n",
       "      <td>12.020000</td>\n",
       "      <td>12.120000</td>\n",
       "      <td>18155600</td>\n",
       "      <td>11.724290</td>\n",
       "    </tr>\n",
       "    <tr>\n",
       "      <th>...</th>\n",
       "      <th>...</th>\n",
       "      <td>...</td>\n",
       "      <td>...</td>\n",
       "      <td>...</td>\n",
       "      <td>...</td>\n",
       "      <td>...</td>\n",
       "      <td>...</td>\n",
       "    </tr>\n",
       "    <tr>\n",
       "      <th rowspan=\"3\" valign=\"top\">2016-02-23</th>\n",
       "      <th>AAPL</th>\n",
       "      <td>96.400002</td>\n",
       "      <td>96.500000</td>\n",
       "      <td>94.550003</td>\n",
       "      <td>94.690002</td>\n",
       "      <td>31686700</td>\n",
       "      <td>94.690002</td>\n",
       "    </tr>\n",
       "    <tr>\n",
       "      <th>GOOG</th>\n",
       "      <td>701.450012</td>\n",
       "      <td>708.400024</td>\n",
       "      <td>693.580017</td>\n",
       "      <td>695.849976</td>\n",
       "      <td>1999700</td>\n",
       "      <td>695.849976</td>\n",
       "    </tr>\n",
       "    <tr>\n",
       "      <th>MSFT</th>\n",
       "      <td>52.340000</td>\n",
       "      <td>52.369999</td>\n",
       "      <td>50.980000</td>\n",
       "      <td>51.180000</td>\n",
       "      <td>28390800</td>\n",
       "      <td>51.180000</td>\n",
       "    </tr>\n",
       "    <tr>\n",
       "      <th rowspan=\"3\" valign=\"top\">2016-02-24</th>\n",
       "      <th>AAPL</th>\n",
       "      <td>93.980003</td>\n",
       "      <td>96.379997</td>\n",
       "      <td>93.320000</td>\n",
       "      <td>96.099998</td>\n",
       "      <td>36155600</td>\n",
       "      <td>96.099998</td>\n",
       "    </tr>\n",
       "    <tr>\n",
       "      <th>GOOG</th>\n",
       "      <td>688.919983</td>\n",
       "      <td>700.000000</td>\n",
       "      <td>680.780029</td>\n",
       "      <td>699.559998</td>\n",
       "      <td>1958600</td>\n",
       "      <td>699.559998</td>\n",
       "    </tr>\n",
       "    <tr>\n",
       "      <th>MSFT</th>\n",
       "      <td>50.689999</td>\n",
       "      <td>51.500000</td>\n",
       "      <td>50.200001</td>\n",
       "      <td>51.360001</td>\n",
       "      <td>32076000</td>\n",
       "      <td>51.360001</td>\n",
       "    </tr>\n",
       "    <tr>\n",
       "      <th rowspan=\"3\" valign=\"top\">2016-02-25</th>\n",
       "      <th>AAPL</th>\n",
       "      <td>96.050003</td>\n",
       "      <td>96.760002</td>\n",
       "      <td>95.250000</td>\n",
       "      <td>96.760002</td>\n",
       "      <td>27393900</td>\n",
       "      <td>96.760002</td>\n",
       "    </tr>\n",
       "    <tr>\n",
       "      <th>GOOG</th>\n",
       "      <td>700.010010</td>\n",
       "      <td>705.979980</td>\n",
       "      <td>690.585022</td>\n",
       "      <td>705.750000</td>\n",
       "      <td>1631900</td>\n",
       "      <td>705.750000</td>\n",
       "    </tr>\n",
       "    <tr>\n",
       "      <th>MSFT</th>\n",
       "      <td>51.730000</td>\n",
       "      <td>52.099998</td>\n",
       "      <td>50.610001</td>\n",
       "      <td>52.099998</td>\n",
       "      <td>26695900</td>\n",
       "      <td>52.099998</td>\n",
       "    </tr>\n",
       "    <tr>\n",
       "      <th rowspan=\"3\" valign=\"top\">2016-02-26</th>\n",
       "      <th>AAPL</th>\n",
       "      <td>97.199997</td>\n",
       "      <td>98.019997</td>\n",
       "      <td>96.580002</td>\n",
       "      <td>96.910004</td>\n",
       "      <td>28913200</td>\n",
       "      <td>96.910004</td>\n",
       "    </tr>\n",
       "    <tr>\n",
       "      <th>GOOG</th>\n",
       "      <td>708.580017</td>\n",
       "      <td>713.429993</td>\n",
       "      <td>700.859985</td>\n",
       "      <td>705.070007</td>\n",
       "      <td>2240000</td>\n",
       "      <td>705.070007</td>\n",
       "    </tr>\n",
       "    <tr>\n",
       "      <th>MSFT</th>\n",
       "      <td>52.599998</td>\n",
       "      <td>52.680000</td>\n",
       "      <td>51.099998</td>\n",
       "      <td>51.299999</td>\n",
       "      <td>35869200</td>\n",
       "      <td>51.299999</td>\n",
       "    </tr>\n",
       "    <tr>\n",
       "      <th rowspan=\"3\" valign=\"top\">2016-02-29</th>\n",
       "      <th>AAPL</th>\n",
       "      <td>96.860001</td>\n",
       "      <td>98.230003</td>\n",
       "      <td>96.650002</td>\n",
       "      <td>96.690002</td>\n",
       "      <td>34876600</td>\n",
       "      <td>96.690002</td>\n",
       "    </tr>\n",
       "    <tr>\n",
       "      <th>GOOG</th>\n",
       "      <td>700.320007</td>\n",
       "      <td>710.890015</td>\n",
       "      <td>697.679993</td>\n",
       "      <td>697.770020</td>\n",
       "      <td>2280300</td>\n",
       "      <td>697.770020</td>\n",
       "    </tr>\n",
       "    <tr>\n",
       "      <th>MSFT</th>\n",
       "      <td>51.349998</td>\n",
       "      <td>51.650002</td>\n",
       "      <td>50.660000</td>\n",
       "      <td>50.880001</td>\n",
       "      <td>31247100</td>\n",
       "      <td>50.880001</td>\n",
       "    </tr>\n",
       "    <tr>\n",
       "      <th rowspan=\"3\" valign=\"top\">2016-03-01</th>\n",
       "      <th>AAPL</th>\n",
       "      <td>97.650002</td>\n",
       "      <td>100.769997</td>\n",
       "      <td>97.419998</td>\n",
       "      <td>100.529999</td>\n",
       "      <td>50153900</td>\n",
       "      <td>100.529999</td>\n",
       "    </tr>\n",
       "    <tr>\n",
       "      <th>GOOG</th>\n",
       "      <td>703.619995</td>\n",
       "      <td>718.809998</td>\n",
       "      <td>699.770020</td>\n",
       "      <td>718.809998</td>\n",
       "      <td>2147400</td>\n",
       "      <td>718.809998</td>\n",
       "    </tr>\n",
       "    <tr>\n",
       "      <th>MSFT</th>\n",
       "      <td>50.970001</td>\n",
       "      <td>52.590000</td>\n",
       "      <td>50.919998</td>\n",
       "      <td>52.580002</td>\n",
       "      <td>32778500</td>\n",
       "      <td>52.580002</td>\n",
       "    </tr>\n",
       "    <tr>\n",
       "      <th rowspan=\"3\" valign=\"top\">2016-03-02</th>\n",
       "      <th>AAPL</th>\n",
       "      <td>100.510002</td>\n",
       "      <td>100.889999</td>\n",
       "      <td>99.639999</td>\n",
       "      <td>100.750000</td>\n",
       "      <td>33084900</td>\n",
       "      <td>100.750000</td>\n",
       "    </tr>\n",
       "    <tr>\n",
       "      <th>GOOG</th>\n",
       "      <td>719.000000</td>\n",
       "      <td>720.000000</td>\n",
       "      <td>712.000000</td>\n",
       "      <td>718.849976</td>\n",
       "      <td>1627800</td>\n",
       "      <td>718.849976</td>\n",
       "    </tr>\n",
       "    <tr>\n",
       "      <th>MSFT</th>\n",
       "      <td>52.410000</td>\n",
       "      <td>52.959999</td>\n",
       "      <td>52.160000</td>\n",
       "      <td>52.950001</td>\n",
       "      <td>29049200</td>\n",
       "      <td>52.950001</td>\n",
       "    </tr>\n",
       "    <tr>\n",
       "      <th rowspan=\"3\" valign=\"top\">2016-03-03</th>\n",
       "      <th>AAPL</th>\n",
       "      <td>100.580002</td>\n",
       "      <td>101.709999</td>\n",
       "      <td>100.449997</td>\n",
       "      <td>101.500000</td>\n",
       "      <td>36792200</td>\n",
       "      <td>101.500000</td>\n",
       "    </tr>\n",
       "    <tr>\n",
       "      <th>GOOG</th>\n",
       "      <td>718.679993</td>\n",
       "      <td>719.450012</td>\n",
       "      <td>706.020020</td>\n",
       "      <td>712.419983</td>\n",
       "      <td>1956800</td>\n",
       "      <td>712.419983</td>\n",
       "    </tr>\n",
       "    <tr>\n",
       "      <th>MSFT</th>\n",
       "      <td>52.970001</td>\n",
       "      <td>52.970001</td>\n",
       "      <td>51.779999</td>\n",
       "      <td>52.349998</td>\n",
       "      <td>24418100</td>\n",
       "      <td>52.349998</td>\n",
       "    </tr>\n",
       "    <tr>\n",
       "      <th rowspan=\"3\" valign=\"top\">2016-03-04</th>\n",
       "      <th>AAPL</th>\n",
       "      <td>102.370003</td>\n",
       "      <td>103.750000</td>\n",
       "      <td>101.370003</td>\n",
       "      <td>103.010002</td>\n",
       "      <td>45936500</td>\n",
       "      <td>103.010002</td>\n",
       "    </tr>\n",
       "    <tr>\n",
       "      <th>GOOG</th>\n",
       "      <td>714.989990</td>\n",
       "      <td>716.489990</td>\n",
       "      <td>706.020020</td>\n",
       "      <td>710.890015</td>\n",
       "      <td>1967900</td>\n",
       "      <td>710.890015</td>\n",
       "    </tr>\n",
       "    <tr>\n",
       "      <th>MSFT</th>\n",
       "      <td>52.400002</td>\n",
       "      <td>52.450001</td>\n",
       "      <td>51.709999</td>\n",
       "      <td>52.029999</td>\n",
       "      <td>32280400</td>\n",
       "      <td>52.029999</td>\n",
       "    </tr>\n",
       "    <tr>\n",
       "      <th rowspan=\"3\" valign=\"top\">2016-03-07</th>\n",
       "      <th>AAPL</th>\n",
       "      <td>102.389999</td>\n",
       "      <td>102.830002</td>\n",
       "      <td>100.959999</td>\n",
       "      <td>101.870003</td>\n",
       "      <td>35828900</td>\n",
       "      <td>101.870003</td>\n",
       "    </tr>\n",
       "    <tr>\n",
       "      <th>GOOG</th>\n",
       "      <td>706.900024</td>\n",
       "      <td>708.091003</td>\n",
       "      <td>686.900024</td>\n",
       "      <td>695.159973</td>\n",
       "      <td>2985100</td>\n",
       "      <td>695.159973</td>\n",
       "    </tr>\n",
       "    <tr>\n",
       "      <th>MSFT</th>\n",
       "      <td>51.560001</td>\n",
       "      <td>51.799999</td>\n",
       "      <td>50.580002</td>\n",
       "      <td>51.029999</td>\n",
       "      <td>38407800</td>\n",
       "      <td>51.029999</td>\n",
       "    </tr>\n",
       "  </tbody>\n",
       "</table>\n",
       "<p>3214 rows × 6 columns</p>\n",
       "</div>"
      ],
      "text/plain": [
       "                        Open        High         Low       Close     Volume  \\\n",
       "Date       minor                                                              \n",
       "2012-05-30 AAPL   569.199997  579.989990  566.559990  579.169998  132357400   \n",
       "           DELL    12.590000   12.700000   12.460000   12.560000   19787800   \n",
       "           GOOG   588.161028  591.901014  583.530999  588.230992    3827600   \n",
       "           MSFT    29.350000   29.480000   29.120001   29.340000   41585500   \n",
       "2012-05-31 AAPL   580.740021  581.499985  571.460022  577.730019  122918600   \n",
       "           DELL    12.530000   12.540000   12.330000   12.330000   19955600   \n",
       "           GOOG   588.720982  590.001032  579.001013  580.860990    5958800   \n",
       "           MSFT    29.299999   29.420000   28.940001   29.190001   39134000   \n",
       "2012-06-01 AAPL   569.159996  572.650009  560.520012  560.989983  130246900   \n",
       "           DELL    12.150000   12.300000   12.045000   12.070000   19397600   \n",
       "           GOOG   571.790972  572.650996  568.350996  570.981000    6138700   \n",
       "           MSFT    28.760000   28.959999   28.440001   28.450001   56634300   \n",
       "2012-06-04 AAPL   561.500008  567.499985  548.499977  564.289978  139248900   \n",
       "           DELL    12.110000   12.112500   11.800000   12.000000   17015700   \n",
       "           GOOG   570.220958  580.491016  570.011006  578.590973    4883500   \n",
       "           MSFT    28.620001   28.780001   28.320000   28.549999   47926300   \n",
       "2012-06-05 AAPL   561.269989  566.470001  558.330002  562.830025   97053600   \n",
       "           DELL    11.950000   12.240000   11.950000   12.160000   15620900   \n",
       "           GOOG   575.451008  578.131003  566.470986  570.410999    4697200   \n",
       "           MSFT    28.510000   28.750000   28.389999   28.510000   45715400   \n",
       "2012-06-06 AAPL   567.770004  573.849983  565.499992  571.460022  100363900   \n",
       "           DELL    12.210000   12.280000   12.090000   12.215000   20779900   \n",
       "           GOOG   576.480979  581.970971  573.611004  580.570966    4207200   \n",
       "           MSFT    28.879999   29.370001   28.809999   29.350000   46860500   \n",
       "2012-06-07 AAPL   577.290009  577.320023  570.500000  571.720001   94941700   \n",
       "           DELL    12.320000   12.410000   12.120000   12.130000   20074000   \n",
       "           GOOG   587.601014  587.891038  577.251006  578.230986    3530100   \n",
       "           MSFT    29.639999   29.700001   29.170000   29.230000   37792800   \n",
       "2012-06-08 AAPL   571.599998  580.580017  568.999992  580.319984   86879100   \n",
       "           DELL    12.130000   12.225000   12.020000   12.120000   18155600   \n",
       "...                      ...         ...         ...         ...        ...   \n",
       "2016-02-23 AAPL    96.400002   96.500000   94.550003   94.690002   31686700   \n",
       "           GOOG   701.450012  708.400024  693.580017  695.849976    1999700   \n",
       "           MSFT    52.340000   52.369999   50.980000   51.180000   28390800   \n",
       "2016-02-24 AAPL    93.980003   96.379997   93.320000   96.099998   36155600   \n",
       "           GOOG   688.919983  700.000000  680.780029  699.559998    1958600   \n",
       "           MSFT    50.689999   51.500000   50.200001   51.360001   32076000   \n",
       "2016-02-25 AAPL    96.050003   96.760002   95.250000   96.760002   27393900   \n",
       "           GOOG   700.010010  705.979980  690.585022  705.750000    1631900   \n",
       "           MSFT    51.730000   52.099998   50.610001   52.099998   26695900   \n",
       "2016-02-26 AAPL    97.199997   98.019997   96.580002   96.910004   28913200   \n",
       "           GOOG   708.580017  713.429993  700.859985  705.070007    2240000   \n",
       "           MSFT    52.599998   52.680000   51.099998   51.299999   35869200   \n",
       "2016-02-29 AAPL    96.860001   98.230003   96.650002   96.690002   34876600   \n",
       "           GOOG   700.320007  710.890015  697.679993  697.770020    2280300   \n",
       "           MSFT    51.349998   51.650002   50.660000   50.880001   31247100   \n",
       "2016-03-01 AAPL    97.650002  100.769997   97.419998  100.529999   50153900   \n",
       "           GOOG   703.619995  718.809998  699.770020  718.809998    2147400   \n",
       "           MSFT    50.970001   52.590000   50.919998   52.580002   32778500   \n",
       "2016-03-02 AAPL   100.510002  100.889999   99.639999  100.750000   33084900   \n",
       "           GOOG   719.000000  720.000000  712.000000  718.849976    1627800   \n",
       "           MSFT    52.410000   52.959999   52.160000   52.950001   29049200   \n",
       "2016-03-03 AAPL   100.580002  101.709999  100.449997  101.500000   36792200   \n",
       "           GOOG   718.679993  719.450012  706.020020  712.419983    1956800   \n",
       "           MSFT    52.970001   52.970001   51.779999   52.349998   24418100   \n",
       "2016-03-04 AAPL   102.370003  103.750000  101.370003  103.010002   45936500   \n",
       "           GOOG   714.989990  716.489990  706.020020  710.890015    1967900   \n",
       "           MSFT    52.400002   52.450001   51.709999   52.029999   32280400   \n",
       "2016-03-07 AAPL   102.389999  102.830002  100.959999  101.870003   35828900   \n",
       "           GOOG   706.900024  708.091003  686.900024  695.159973    2985100   \n",
       "           MSFT    51.560001   51.799999   50.580002   51.029999   38407800   \n",
       "\n",
       "                   Adj Close  \n",
       "Date       minor              \n",
       "2012-05-30 AAPL    76.623304  \n",
       "           DELL    12.149920  \n",
       "           GOOG   293.821674  \n",
       "           MSFT    26.399015  \n",
       "2012-05-31 AAPL    76.432797  \n",
       "           DELL    11.927430  \n",
       "           GOOG   290.140354  \n",
       "           MSFT    26.264051  \n",
       "2012-06-01 AAPL    74.218116  \n",
       "           DELL    11.675920  \n",
       "           GOOG   285.205295  \n",
       "           MSFT    25.598227  \n",
       "2012-06-04 AAPL    74.654700  \n",
       "           DELL    11.608210  \n",
       "           GOOG   289.006480  \n",
       "           MSFT    25.688202  \n",
       "2012-06-05 AAPL    74.461551  \n",
       "           DELL    11.762980  \n",
       "           GOOG   284.920579  \n",
       "           MSFT    25.652212  \n",
       "2012-06-06 AAPL    75.603286  \n",
       "           DELL    11.816190  \n",
       "           GOOG   289.995487  \n",
       "           MSFT    26.408013  \n",
       "2012-06-07 AAPL    75.637681  \n",
       "           DELL    11.733960  \n",
       "           GOOG   288.826666  \n",
       "           MSFT    26.300040  \n",
       "2012-06-08 AAPL    76.775446  \n",
       "           DELL    11.724290  \n",
       "...                      ...  \n",
       "2016-02-23 AAPL    94.690002  \n",
       "           GOOG   695.849976  \n",
       "           MSFT    51.180000  \n",
       "2016-02-24 AAPL    96.099998  \n",
       "           GOOG   699.559998  \n",
       "           MSFT    51.360001  \n",
       "2016-02-25 AAPL    96.760002  \n",
       "           GOOG   705.750000  \n",
       "           MSFT    52.099998  \n",
       "2016-02-26 AAPL    96.910004  \n",
       "           GOOG   705.070007  \n",
       "           MSFT    51.299999  \n",
       "2016-02-29 AAPL    96.690002  \n",
       "           GOOG   697.770020  \n",
       "           MSFT    50.880001  \n",
       "2016-03-01 AAPL   100.529999  \n",
       "           GOOG   718.809998  \n",
       "           MSFT    52.580002  \n",
       "2016-03-02 AAPL   100.750000  \n",
       "           GOOG   718.849976  \n",
       "           MSFT    52.950001  \n",
       "2016-03-03 AAPL   101.500000  \n",
       "           GOOG   712.419983  \n",
       "           MSFT    52.349998  \n",
       "2016-03-04 AAPL   103.010002  \n",
       "           GOOG   710.890015  \n",
       "           MSFT    52.029999  \n",
       "2016-03-07 AAPL   101.870003  \n",
       "           GOOG   695.159973  \n",
       "           MSFT    51.029999  \n",
       "\n",
       "[3214 rows x 6 columns]"
      ]
     },
     "execution_count": 190,
     "metadata": {},
     "output_type": "execute_result"
    }
   ],
   "source": [
    "stacked = pdata.ix[:, '5/30/2012':, :].to_frame()\n",
    "stacked"
   ]
  },
  {
   "cell_type": "code",
   "execution_count": 191,
   "metadata": {
    "collapsed": false
   },
   "outputs": [
    {
     "data": {
      "text/plain": [
       "<class 'pandas.core.panel.Panel'>\n",
       "Dimensions: 6 (items) x 961 (major_axis) x 4 (minor_axis)\n",
       "Items axis: Open to Adj Close\n",
       "Major_axis axis: 2012-05-30 00:00:00 to 2016-03-07 00:00:00\n",
       "Minor_axis axis: AAPL to MSFT"
      ]
     },
     "execution_count": 191,
     "metadata": {},
     "output_type": "execute_result"
    }
   ],
   "source": [
    "stacked.to_panel()"
   ]
  },
  {
   "cell_type": "code",
   "execution_count": null,
   "metadata": {
    "collapsed": true
   },
   "outputs": [],
   "source": [
    "#       to_frame()      stack()\n",
    "# Panel <---> DataFrame <---> Series\n",
    "#       to_panel()      unstack()"
   ]
  }
 ],
 "metadata": {
  "kernelspec": {
   "display_name": "Python 3",
   "language": "python",
   "name": "python3"
  },
  "language_info": {
   "codemirror_mode": {
    "name": "ipython",
    "version": 3
   },
   "file_extension": ".py",
   "mimetype": "text/x-python",
   "name": "python",
   "nbconvert_exporter": "python",
   "pygments_lexer": "ipython3",
   "version": "3.5.1"
  }
 },
 "nbformat": 4,
 "nbformat_minor": 0
}
